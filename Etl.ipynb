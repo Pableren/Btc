{
 "cells": [
  {
   "cell_type": "code",
   "execution_count": 1,
   "metadata": {},
   "outputs": [
    {
     "name": "stdout",
     "output_type": "stream",
     "text": [
      "['ace', 'alpaca', 'ascendex', 'bequant', 'bigone', 'binance', 'binancecoinm', 'binanceus', 'binanceusdm', 'bingx', 'bit2c', 'bitbank', 'bitbay', 'bitbns', 'bitcoincom', 'bitfinex', 'bitfinex2', 'bitflyer', 'bitget', 'bithumb', 'bitmart', 'bitmex', 'bitopro', 'bitpanda', 'bitrue', 'bitso', 'bitstamp', 'bitteam', 'bitvavo', 'bl3p', 'blockchaincom', 'blofin', 'btcalpha', 'btcbox', 'btcmarkets', 'btcturk', 'bybit', 'cex', 'coinbase', 'coinbaseadvanced', 'coinbaseexchange', 'coinbaseinternational', 'coincheck', 'coinex', 'coinlist', 'coinmate', 'coinmetro', 'coinone', 'coinsph', 'coinspot', 'cryptocom', 'currencycom', 'delta', 'deribit', 'digifinex', 'exmo', 'fmfwio', 'gate', 'gateio', 'gemini', 'hitbtc', 'hitbtc3', 'hollaex', 'htx', 'huobi', 'huobijp', 'hyperliquid', 'idex', 'independentreserve', 'indodax', 'kraken', 'krakenfutures', 'kucoin', 'kucoinfutures', 'kuna', 'latoken', 'lbank', 'luno', 'lykke', 'mercado', 'mexc', 'ndax', 'novadax', 'oceanex', 'okcoin', 'okx', 'onetrading', 'oxfun', 'p2b', 'paymium', 'phemex', 'poloniex', 'poloniexfutures', 'probit', 'timex', 'tokocrypto', 'tradeogre', 'upbit', 'vertex', 'wavesexchange', 'wazirx', 'whitebit', 'woo', 'woofipro', 'xt', 'yobit', 'zaif', 'zonda']\n"
     ]
    }
   ],
   "source": [
    "import ccxt, yfinance\n",
    "import pandas as pd\n",
    "import numpy as np\n",
    "import pyarrow\n",
    "import seaborn as sns\n",
    "import matplotlib.pyplot as plt\n",
    "from datetime import datetime, timedelta\n",
    "import time\n",
    "# analisis tecnico\n",
    "import ta# pip install TA-Lib\n",
    "print(ccxt.exchanges) # print a list of all available exchange classes"
   ]
  },
  {
   "cell_type": "code",
   "execution_count": 2,
   "metadata": {},
   "outputs": [],
   "source": [
    "exchange = ccxt.binance()"
   ]
  },
  {
   "cell_type": "code",
   "execution_count": null,
   "metadata": {},
   "outputs": [],
   "source": [
    "df_1d = pd.read_csv(\"Data/datasets/btc_price_historical_1d.csv\",dtype={'Último':'float64'})"
   ]
  },
  {
   "cell_type": "code",
   "execution_count": null,
   "metadata": {},
   "outputs": [],
   "source": [
    "df_1d.rename(columns={' var.':'var'},inplace=True)\n",
    "df_1d['var'] = df_1d['var'].astype(dtype=float)\n",
    "df_1d.rename(columns={'Último':'close'},inplace=True)\n",
    "df_1d.rename(columns={'Fecha':'date'},inplace=True)\n",
    "df_1d['date'] = pd.to_datetime(df_1d['date'])\n",
    "df_1d.rename(columns={'Vol.':'volume'},inplace=True)\n",
    "df_1d.rename(columns={'Apertura':'open'},inplace=True)\n",
    "df_1d.rename(columns={'Máximo':'high'},inplace=True)\n",
    "df_1d.rename(columns={'Mínimo':'low'},inplace=True)\n",
    "#df_1d.drop(columns=['Vol.'],inplace=True)\n",
    "df_1d['return'] = ((df_1d['close'] - df_1d['open']) / df_1d['open'])*100\n",
    "df_1d['diff'] = df_1d['close'] - df_1d['open']\n",
    "df_1d['volatility'] = df_1d['high'] - df_1d['low']"
   ]
  },
  {
   "cell_type": "code",
   "execution_count": null,
   "metadata": {},
   "outputs": [],
   "source": [
    "df_1d['date'] = pd.to_datetime(df_1d['date'])\n",
    "df_1d.sort_values(by='date',inplace=True,ascending=True)"
   ]
  },
  {
   "cell_type": "code",
   "execution_count": 3,
   "metadata": {},
   "outputs": [],
   "source": [
    "bars = exchange.fetch_ohlcv('BTC/USDT', timeframe='4h', limit=500)\n",
    "df_4h = pd.DataFrame(bars, columns=['time', 'open', 'high', 'low', 'close', 'volume'])\n",
    "ultimo_timestamp = df_4h['time'][0]\n",
    "start_timestamp = ultimo_timestamp\n",
    "# Convertimos 2 meses a milisegundos\n",
    "two_months_ms = 60 * 24 * 60 * 60 * 1000  # 60 días * 24 horas * 60 minutos * 60 segundos * 1000 milisegundos\n",
    "#four_hours_ms = 4 * 60 * 60 * 1000# Convertimos 4 horas a milisegundos\n",
    "all_data = []\n",
    "# Determina cuántos periodos de 2 meses necesitas para retroceder 5 años\n",
    "periods = 5 * 365 // 60  # 5 años en períodos de 2 meses\n",
    "for i in range(1, periods + 1):  # Ajusta el rango según cuántos periodos de 2 meses quieras retroceder\n",
    "    # Ajustar el número de velas para 2 meses (60 días)\n",
    "    new_data = exchange.fetch_ohlcv('BTC/USDT', timeframe='4h', since=start_timestamp, limit=60 * 24 // 4)  # 60 días * 24 horas / 4 horas por vela\n",
    "    #time.sleep(2)\n",
    "    all_data.extend(new_data)\n",
    "    # Desplazar el timestamp por el siguiente periodo de 2 meses multiplicado por i\n",
    "    start_timestamp -= two_months_ms\n",
    "# Crear DataFrame con todos los datos obtenidos\n",
    "df2 = pd.DataFrame(all_data, columns=['time', 'open', 'high', 'low', 'close', 'volume'])\n",
    "df2 = df2.sort_values(by='time')\n",
    "df_4h = pd.merge(df2, df_4h, how='outer')\n",
    "#df_4h.drop_duplicates(subset=['time'],inplace=True)\n",
    "\n",
    "last_timestamp = df_4h['time'].iloc[-1]\n",
    "last_timestamp = float(last_timestamp)\n",
    "\n",
    "known_date = datetime.strptime(\"2024/07/23\", \"%Y/%m/%d\")\n",
    "known_timestamp = df_4h['time'].tail(1).values\n",
    "known_timestamp = float(known_timestamp[0])\n",
    "today = datetime.now()\n",
    "df_4h['date'] = df_4h['time'].apply(lambda x: today - timedelta(milliseconds=(last_timestamp - x)))\n",
    "df_4h['date'] = df_4h['date'].dt.strftime('%Y-%m-%d %H:%M:%S')\n",
    "\n",
    "#ordenar los datos\n",
    "df_4h.sort_values(by='time',axis=0,inplace=True)\n",
    "df_4h.reset_index(inplace=True)\n",
    "df_4h.drop(columns=['index'],inplace=True)\n",
    "\n",
    "df_4h['return'] = ((df_4h['close'] - df_4h['open']) / df_4h['open'])*100\n",
    "df_4h['diff'] = df_4h['close'] - df_4h['open']\n",
    "df_4h['volatility'] = df_4h['high'] - df_4h['low']"
   ]
  },
  {
   "cell_type": "code",
   "execution_count": 4,
   "metadata": {},
   "outputs": [],
   "source": [
    "#Índice de Fuerza Relativa (RSI)\n",
    "window_14 = 14\n",
    "window_28 = 28\n",
    "df_4h['rsi_14'] = ta.momentum.RSIIndicator(close=df_4h['close'],window=window_14).rsi()\n",
    "df_4h['rsi_28'] = ta.momentum.RSIIndicator(close=df_4h['close'],window=window_28).rsi()\n",
    "shift_periods = 7  # Puedes cambiar esto al número de periodos que desees\n",
    "df_4h['rsi_14_shifted'] = df_4h['rsi_14'].shift(+shift_periods)\n",
    "shift_periods = 14\n",
    "df_4h['rsi_28_shifted'] = df_4h['rsi_28'].shift(+shift_periods)\n",
    "\n",
    "# Medias Moviles\n",
    "df_4h['ma_5'] = df_4h['close'].rolling(window=10).mean()\n",
    "df_4h['ma_20'] = df_4h['close'].rolling(window=10).mean()\n",
    "df_4h['ma_100'] = df_4h['close'].rolling(window=50).mean()\n",
    "\n",
    "# Bandas de Bollinger solo se usara para graficar\n",
    "df_4h['MiddleBand'] = df_4h['close'].rolling(window=20).mean()\n",
    "df_4h['UpperBand'] = df_4h['MiddleBand'] + 2*df_4h['close'].rolling(window=20).std()\n",
    "df_4h['LowerBand'] = df_4h['MiddleBand'] - 2*df_4h['close'].rolling(window=20).std()\n",
    "\n",
    "#Oscilador Estocástico\n",
    "df_4h['%K'] = 100 * ((df_4h['close'] - df_4h['low'].rolling(window=14).min()) / (df_4h['high'].rolling(window=14).max() - df_4h['low'].rolling(window=14).min()))\n",
    "df_4h['%D'] = df_4h['%K'].rolling(window=3).mean()\n",
    "\n",
    "#True Range (TR) y Average True Range (ATR)\n",
    "df_4h['close_shifted'] = df_4h['close'].shift(1)\n",
    "df_4h['TR'] = df_4h[['high', 'low', 'close_shifted']].apply(\n",
    "    lambda row: max(row['high'] - row['low'], \n",
    "                    abs(row['high'] - row['close_shifted']), \n",
    "                    abs(row['low'] - row['close_shifted'])), axis=1)\n",
    "df_4h['ATR'] = df_4h['TR'].rolling(window=14).mean()\n",
    "\n",
    "#Índice de Canal de Materias Primas (CCI)\n",
    "df_4h['TP'] = (df_4h['high'] + df_4h['low'] + df_4h['close']) / 3\n",
    "df_4h['CCI'] = (df_4h['TP'] - df_4h['TP'].rolling(window=20).mean()) / (0.015 * df_4h['TP'].rolling(window=20).std())"
   ]
  },
  {
   "cell_type": "code",
   "execution_count": 5,
   "metadata": {},
   "outputs": [],
   "source": [
    "df_4h['lag1_TR'] = df_4h['TR'].shift(45)\n",
    "df_4h['lag2_TR'] = df_4h['TR'].shift(90)\n",
    "df_4h['lag1_ATR'] = df_4h['ATR'].shift(45)\n",
    "df_4h['lag2_ATR'] = df_4h['ATR'].shift(90)"
   ]
  },
  {
   "cell_type": "code",
   "execution_count": 6,
   "metadata": {},
   "outputs": [],
   "source": [
    "#df_1d.rename(columns={'%K':'K','%D':'D'},inplace=True)\n",
    "df_4h.rename(columns={'%K':'K','%D':'D'},inplace=True)\n",
    "#df_1h.rename(columns={'%K':'K','%D':'D'},inplace=True)\n",
    "#df_5m.rename(columns={'%K':'K','%D':'D'},inplace=True)"
   ]
  },
  {
   "cell_type": "code",
   "execution_count": 7,
   "metadata": {},
   "outputs": [],
   "source": [
    "#df_5m = df_5m[:-1000]\n",
    "#df_1h = df_1h[:-1000]\n",
    "df_4h = df_4h[:-1000]\n",
    "#df_1d = df_1d[:-1000]"
   ]
  },
  {
   "cell_type": "code",
   "execution_count": 10,
   "metadata": {},
   "outputs": [],
   "source": [
    "#df_1d.reset_index(inplace=True)\n",
    "#df_4h.reset_index(inplace=True)\n",
    "#df_1h.reset_index(inplace=True)\n",
    "#df_5m.reset_index(inplace=True)"
   ]
  },
  {
   "cell_type": "code",
   "execution_count": 13,
   "metadata": {},
   "outputs": [],
   "source": [
    "df_4h.to_parquet('Data/datasets/btc_4h.parquet',engine='pyarrow')"
   ]
  }
 ],
 "metadata": {
  "kernelspec": {
   "display_name": "Python 3",
   "language": "python",
   "name": "python3"
  },
  "language_info": {
   "codemirror_mode": {
    "name": "ipython",
    "version": 3
   },
   "file_extension": ".py",
   "mimetype": "text/x-python",
   "name": "python",
   "nbconvert_exporter": "python",
   "pygments_lexer": "ipython3",
   "version": "3.11.4"
  }
 },
 "nbformat": 4,
 "nbformat_minor": 2
}
