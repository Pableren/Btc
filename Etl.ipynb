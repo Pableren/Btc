{
 "cells": [
  {
   "cell_type": "markdown",
   "metadata": {},
   "source": [
    "# ETL"
   ]
  },
  {
   "cell_type": "markdown",
   "metadata": {},
   "source": [
    "## 1.0 Extraccion de datos\n",
    "\n",
    "Se partio de un dataset con el precio historico del bitcoin para los valores diarios.\n",
    "\n",
    "Para la extraccion y constante actualizacion se utilizara la libreria de ccxt, siendo esta la libreria ccxt que funciona como puente entre mi codigo y las apis para poder extraer los datos.\n",
    "\n",
    "Esta librería no solo nos dejara extraer los datos del Bitcoin, si no ademas que nos permite interactuar con múltiples exchanges de forma unificada, facilitando la obtención de información de mercados y operaciones."
   ]
  },
  {
   "cell_type": "code",
   "execution_count": 53,
   "metadata": {},
   "outputs": [
    {
     "name": "stdout",
     "output_type": "stream",
     "text": [
      "['ace', 'alpaca', 'ascendex', 'bequant', 'bigone', 'binance', 'binancecoinm', 'binanceus', 'binanceusdm', 'bingx', 'bit2c', 'bitbank', 'bitbay', 'bitbns', 'bitcoincom', 'bitfinex', 'bitfinex2', 'bitflyer', 'bitget', 'bithumb', 'bitmart', 'bitmex', 'bitopro', 'bitpanda', 'bitrue', 'bitso', 'bitstamp', 'bitteam', 'bitvavo', 'bl3p', 'blockchaincom', 'blofin', 'btcalpha', 'btcbox', 'btcmarkets', 'btcturk', 'bybit', 'cex', 'coinbase', 'coinbaseadvanced', 'coinbaseexchange', 'coinbaseinternational', 'coincheck', 'coinex', 'coinlist', 'coinmate', 'coinmetro', 'coinone', 'coinsph', 'coinspot', 'cryptocom', 'currencycom', 'delta', 'deribit', 'digifinex', 'exmo', 'fmfwio', 'gate', 'gateio', 'gemini', 'hitbtc', 'hitbtc3', 'hollaex', 'htx', 'huobi', 'huobijp', 'hyperliquid', 'idex', 'independentreserve', 'indodax', 'kraken', 'krakenfutures', 'kucoin', 'kucoinfutures', 'kuna', 'latoken', 'lbank', 'luno', 'lykke', 'mercado', 'mexc', 'ndax', 'novadax', 'oceanex', 'okcoin', 'okx', 'onetrading', 'oxfun', 'p2b', 'paymium', 'phemex', 'poloniex', 'poloniexfutures', 'probit', 'timex', 'tokocrypto', 'tradeogre', 'upbit', 'vertex', 'wavesexchange', 'wazirx', 'whitebit', 'woo', 'woofipro', 'xt', 'yobit', 'zaif', 'zonda']\n"
     ]
    }
   ],
   "source": [
    "import ccxt, yfinance\n",
    "import pandas as pd\n",
    "import numpy as np\n",
    "import pyarrow\n",
    "import seaborn as sns\n",
    "import matplotlib.pyplot as plt\n",
    "from datetime import datetime, timedelta\n",
    "import time\n",
    "# analisis tecnico\n",
    "import ta# pip install TA-Lib\n",
    "print(ccxt.exchanges) # print a list of all available exchange classes"
   ]
  },
  {
   "cell_type": "code",
   "execution_count": 54,
   "metadata": {},
   "outputs": [],
   "source": [
    "exchange = ccxt.binance()"
   ]
  },
  {
   "cell_type": "markdown",
   "metadata": {},
   "source": [
    "## 1.1 Data Diaria"
   ]
  },
  {
   "cell_type": "code",
   "execution_count": 55,
   "metadata": {},
   "outputs": [],
   "source": [
    "df_1d = pd.read_csv(\"Data/datasets/btc_price_historical_1d.csv\",dtype={'Último':'float64'})"
   ]
  },
  {
   "cell_type": "code",
   "execution_count": 56,
   "metadata": {},
   "outputs": [
    {
     "name": "stderr",
     "output_type": "stream",
     "text": [
      "C:\\Users\\Pablo\\AppData\\Local\\Temp\\ipykernel_9272\\1646380069.py:5: UserWarning: Parsing dates in %d-%m-%Y format when dayfirst=False (the default) was specified. Pass `dayfirst=True` or specify a format to silence this warning.\n",
      "  df_1d['date'] = pd.to_datetime(df_1d['date'])\n"
     ]
    }
   ],
   "source": [
    "df_1d.rename(columns={' var.':'var'},inplace=True)\n",
    "df_1d['var'] = df_1d['var'].astype(dtype=float)\n",
    "df_1d.rename(columns={'Último':'close'},inplace=True)\n",
    "df_1d.rename(columns={'Fecha':'date'},inplace=True)\n",
    "df_1d['date'] = pd.to_datetime(df_1d['date'])\n",
    "df_1d.rename(columns={'Vol.':'volume'},inplace=True)\n",
    "df_1d.rename(columns={'Apertura':'open'},inplace=True)\n",
    "df_1d.rename(columns={'Máximo':'high'},inplace=True)\n",
    "df_1d.rename(columns={'Mínimo':'low'},inplace=True)\n",
    "#df_1d.drop(columns=['Vol.'],inplace=True)\n",
    "df_1d['return'] = ((df_1d['close'] - df_1d['open']) / df_1d['open'])*100\n",
    "df_1d['diff'] = df_1d['close'] - df_1d['open']\n",
    "df_1d['volatility'] = df_1d['high'] - df_1d['low']"
   ]
  },
  {
   "cell_type": "code",
   "execution_count": 57,
   "metadata": {},
   "outputs": [],
   "source": [
    "df_1d['date'] = pd.to_datetime(df_1d['date'])\n",
    "df_1d.sort_values(by='date',inplace=True,ascending=True)"
   ]
  },
  {
   "cell_type": "code",
   "execution_count": 66,
   "metadata": {},
   "outputs": [],
   "source": [
    "def transform_value(value):\n",
    "    #print(type(value))\n",
    "    #if value.endswith('K'):\n",
    "    if type(value)== str:\n",
    "        #print(type(value))\n",
    "        if value[-1:]=='K':\n",
    "            valor = value[:-1]\n",
    "            valor = float(valor) * 1000\n",
    "            return valor\n",
    "            #return float(value.replace(',', '.').replace('K', '')) * 1000\n",
    "        elif value[-1:]=='M':\n",
    "            valor = value[:-1]\n",
    "            valor = float(valor) * 10000\n",
    "            return valor\n",
    "            #return float(value.replace(',', '.').replace('M', '')) * 10000\n",
    "        elif value[-1:]=='B':\n",
    "            valor = value[:-1]\n",
    "            valor = float(valor) * 1000000\n",
    "            return valor\n",
    "            #return float(value.replace(',', '.').replace('B', '')) * 1000000\n",
    "        else:\n",
    "            return value\n",
    "    else:\n",
    "        return value\n",
    "# Aplicar la función de transformación al DataFrame\n",
    "df_1d['volume'] = df_1d['volume'].apply(transform_value)"
   ]
  },
  {
   "cell_type": "code",
   "execution_count": 72,
   "metadata": {},
   "outputs": [],
   "source": [
    "#Índice de Fuerza Relativa (RSI)\n",
    "window_14 = 14\n",
    "window_28 = 28\n",
    "df_1d['rsi'] = ta.momentum.RSIIndicator(close=df_1d['close'],window=window_14).rsi()\n",
    "# Medias Moviles\n",
    "df_1d['ma_5'] = df_1d['close'].rolling(window=5).mean()\n",
    "df_1d['ma_20'] = df_1d['close'].rolling(window=20).mean()\n",
    "df_1d['ma_100'] = df_1d['close'].rolling(window=100).mean()\n",
    "# Bandas de Bollinger solo se usara para graficar\n",
    "df_1d['MiddleBand'] = df_1d['close'].rolling(window=20).mean()\n",
    "df_1d['UpperBand'] = df_1d['MiddleBand'] + 2*df_1d['close'].rolling(window=20).std()\n",
    "df_1d['LowerBand'] = df_1d['MiddleBand'] - 2*df_1d['close'].rolling(window=20).std()\n",
    "#Oscilador Estocástico\n",
    "df_1d['%K'] = 100 * ((df_1d['close'] - df_1d['low'].rolling(window=14).min()) / (df_1d['high'].rolling(window=14).max() - df_1d['low'].rolling(window=14).min()))\n",
    "df_1d['%D'] = df_1d['%K'].rolling(window=3).mean()\n",
    "#Índice de Canal de Materias Primas (CCI)\n",
    "df_1d['TP'] = (df_1d['high'] + df_1d['low'] + df_1d['close']) / 3\n",
    "df_1d['CCI'] = (df_1d['TP'] - df_1d['TP'].rolling(window=20).mean()) / (0.015 * df_1d['TP'].rolling(window=20).std())"
   ]
  },
  {
   "cell_type": "markdown",
   "metadata": {},
   "source": [
    "## 1.2 Data 4 horas"
   ]
  },
  {
   "cell_type": "code",
   "execution_count": 58,
   "metadata": {},
   "outputs": [],
   "source": [
    "bars = exchange.fetch_ohlcv('BTC/USDT', timeframe='4h', limit=500)\n",
    "df_4h = pd.DataFrame(bars, columns=['time', 'open', 'high', 'low', 'close', 'volume'])\n",
    "ultimo_timestamp = df_4h['time'][0]\n",
    "start_timestamp = ultimo_timestamp\n",
    "# Convertimos 2 meses a milisegundos\n",
    "two_months_ms = 60 * 24 * 60 * 60 * 1000  # 60 días * 24 horas * 60 minutos * 60 segundos * 1000 milisegundos\n",
    "#four_hours_ms = 4 * 60 * 60 * 1000# Convertimos 4 horas a milisegundos\n",
    "all_data = []\n",
    "# Determina cuántos periodos de 2 meses necesitas para retroceder 5 años\n",
    "periods = 5 * 365 // 60  # 5 años en períodos de 2 meses\n",
    "for i in range(1, periods + 1):  # Ajusta el rango según cuántos periodos de 2 meses quieras retroceder\n",
    "    # Ajustar el número de velas para 2 meses (60 días)\n",
    "    new_data = exchange.fetch_ohlcv('BTC/USDT', timeframe='4h', since=start_timestamp, limit=60 * 24 // 4)  # 60 días * 24 horas / 4 horas por vela\n",
    "    #time.sleep(2)\n",
    "    all_data.extend(new_data)\n",
    "    # Desplazar el timestamp por el siguiente periodo de 2 meses multiplicado por i\n",
    "    start_timestamp -= two_months_ms\n",
    "# Crear DataFrame con todos los datos obtenidos\n",
    "df2 = pd.DataFrame(all_data, columns=['time', 'open', 'high', 'low', 'close', 'volume'])\n",
    "df2 = df2.sort_values(by='time')\n",
    "df_4h = pd.merge(df2, df_4h, how='outer')\n",
    "#df_4h.drop_duplicates(subset=['time'],inplace=True)\n",
    "\n",
    "last_timestamp = df_4h['time'].iloc[-1]\n",
    "last_timestamp = float(last_timestamp)\n",
    "\n",
    "known_date = datetime.strptime(\"2024/07/23\", \"%Y/%m/%d\")\n",
    "known_timestamp = df_4h['time'].tail(1).values\n",
    "known_timestamp = float(known_timestamp[0])\n",
    "today = datetime.now()\n",
    "df_4h['date'] = df_4h['time'].apply(lambda x: today - timedelta(milliseconds=(last_timestamp - x)))\n",
    "df_4h['date'] = df_4h['date'].dt.strftime('%Y-%m-%d %H:%M:%S')\n",
    "\n",
    "#ordenar los datos\n",
    "df_4h.sort_values(by='time',axis=0,inplace=True)\n",
    "df_4h.reset_index(inplace=True)\n",
    "df_4h.drop(columns=['index'],inplace=True)\n",
    "\n",
    "df_4h['return'] = ((df_4h['close'] - df_4h['open']) / df_4h['open'])*100\n",
    "df_4h['diff'] = df_4h['close'] - df_4h['open']\n",
    "df_4h['volatility'] = df_4h['high'] - df_4h['low']"
   ]
  },
  {
   "cell_type": "code",
   "execution_count": 59,
   "metadata": {},
   "outputs": [],
   "source": [
    "#Índice de Fuerza Relativa (RSI)\n",
    "window_14 = 14\n",
    "window_28 = 28\n",
    "df_4h['rsi'] = ta.momentum.RSIIndicator(close=df_4h['close'],window=window_14).rsi()\n",
    "# Medias Moviles\n",
    "df_4h['ma_5'] = df_4h['close'].rolling(window=10).mean()\n",
    "df_4h['ma_20'] = df_4h['close'].rolling(window=10).mean()\n",
    "df_4h['ma_100'] = df_4h['close'].rolling(window=50).mean()\n",
    "# Bandas de Bollinger solo se usara para graficar\n",
    "df_4h['MiddleBand'] = df_4h['close'].rolling(window=20).mean()\n",
    "df_4h['UpperBand'] = df_4h['MiddleBand'] + 2*df_4h['close'].rolling(window=20).std()\n",
    "df_4h['LowerBand'] = df_4h['MiddleBand'] - 2*df_4h['close'].rolling(window=20).std()\n",
    "#Oscilador Estocástico\n",
    "df_4h['%K'] = 100 * ((df_4h['close'] - df_4h['low'].rolling(window=14).min()) / (df_4h['high'].rolling(window=14).max() - df_4h['low'].rolling(window=14).min()))\n",
    "df_4h['%D'] = df_4h['%K'].rolling(window=3).mean()\n",
    "#Índice de Canal de Materias Primas (CCI)\n",
    "df_4h['TP'] = (df_4h['high'] + df_4h['low'] + df_4h['close']) / 3\n",
    "df_4h['CCI'] = (df_4h['TP'] - df_4h['TP'].rolling(window=20).mean()) / (0.015 * df_4h['TP'].rolling(window=20).std())"
   ]
  },
  {
   "cell_type": "markdown",
   "metadata": {},
   "source": [
    "#### Las columnas que se utilizaran para el panel de informacion seran:\n",
    "\n",
    "- Rsi: Indice de fuerza relativa\n",
    "- K y D: Componentes del Oscilador estocastico\n",
    "- CCI: Indice del canal de materias primas"
   ]
  },
  {
   "cell_type": "markdown",
   "metadata": {},
   "source": [
    "## 1.3 Data 5 minutos"
   ]
  },
  {
   "cell_type": "code",
   "execution_count": 60,
   "metadata": {},
   "outputs": [
    {
     "name": "stdout",
     "output_type": "stream",
     "text": [
      "2024-09-10 17:01:29.889562\n"
     ]
    }
   ],
   "source": [
    "bars = exchange.fetch_ohlcv('BTC/USDT',timeframe='5m',limit=288)\n",
    "df_5m = pd.DataFrame(bars, columns=['time','open','high','low','close','volume'])\n",
    "#ultimo_timestamp = df['time'][0]\n",
    "primer_timestamp = df_5m.iloc[-1,0]\n",
    "start_timestamp = primer_timestamp\n",
    "# Convertimos un año a milisegundos\n",
    "#one_year_ms = 365 * 86400000\n",
    "#one_hour = 60*60*1000\n",
    "one_day = 24*60*60*1000\n",
    "#four_hours_ms = 4 * 60 * 60 * 1000# Convertimos 4 horas a milisegundos\n",
    "all_data = []\n",
    "for i in range(1,60): # stop = cantidad de horas\n",
    "    new_data = exchange.fetch_ohlcv('BTC/USDT', timeframe='5m', since=start_timestamp, limit=288)\n",
    "    time.sleep(1)\n",
    "    all_data.extend(new_data)\n",
    "    # Desplazar el timestamp por el siguiente año multiplicado por i\n",
    "    start_timestamp -= one_day\n",
    "# Crear DataFrame con todos los datos obtenidos\n",
    "df_5m = pd.DataFrame(all_data, columns=['time', 'open', 'high', 'low', 'close', 'volume'])\n",
    "df_5m = df_5m.sort_values(by='time').reset_index(drop=True)\n",
    "#df_5m.drop_duplicates(inplace=True)\n",
    "\n",
    "df_5m['return'] = ((df_5m['close'] - df_5m['open']) / df_5m['open'])*100\n",
    "df_5m['diff'] = df_5m['close'] - df_5m['open']\n",
    "df_5m['volatility'] = df_5m['high'] - df_5m['low']\n",
    "\n",
    "known_date = datetime.strptime(\"2024/07/30\", \"%Y/%m/%d\")\n",
    "known_timestamp = 1703808000000\n",
    "today = datetime.now()\n",
    "print(today)\n",
    "restar_un_dia = timedelta(days=1)\n",
    "# Obtener la fecha de ayer\n",
    "ayer = today - restar_un_dia\n",
    "last_timestamp = df_5m['time'].iloc[-1]\n",
    "last_timestamp = float(last_timestamp)\n",
    "df_5m['date'] = df_5m['time'].apply(lambda x: today - timedelta(milliseconds=(last_timestamp - x)))\n",
    "df_5m['date'] = df_5m['date'].dt.strftime('%Y-%m-%d %H:%M:%S')"
   ]
  },
  {
   "cell_type": "code",
   "execution_count": 61,
   "metadata": {},
   "outputs": [],
   "source": [
    "#Índice de Fuerza Relativa (RSI)\n",
    "window_14 = 14\n",
    "window_28 = 28\n",
    "df_5m['rsi'] = ta.momentum.RSIIndicator(close=df_5m['close'],window=window_14).rsi()\n",
    "# Medias Moviles\n",
    "df_5m['ma_5'] = df_5m['close'].rolling(window=10).mean()\n",
    "df_5m['ma_20'] = df_5m['close'].rolling(window=10).mean()\n",
    "df_5m['ma_100'] = df_5m['close'].rolling(window=50).mean()\n",
    "# Bandas de Bollinger solo se usara para graficar\n",
    "df_5m['MiddleBand'] = df_5m['close'].rolling(window=20).mean()\n",
    "df_5m['UpperBand'] = df_5m['MiddleBand'] + 2*df_5m['close'].rolling(window=20).std()\n",
    "df_5m['LowerBand'] = df_5m['MiddleBand'] - 2*df_5m['close'].rolling(window=20).std()\n",
    "#Oscilador Estocástico\n",
    "df_5m['%K'] = 100 * ((df_5m['close'] - df_5m['low'].rolling(window=14).min()) / (df_5m['high'].rolling(window=14).max() - df_5m['low'].rolling(window=14).min()))\n",
    "df_5m['%D'] = df_5m['%K'].rolling(window=3).mean()\n",
    "#Índice de Canal de Materias Primas (CCI)\n",
    "df_5m['TP'] = (df_5m['high'] + df_5m['low'] + df_5m['close']) / 3\n",
    "df_5m['CCI'] = (df_5m['TP'] - df_5m['TP'].rolling(window=20).mean()) / (0.015 * df_5m['TP'].rolling(window=20).std())"
   ]
  },
  {
   "cell_type": "markdown",
   "metadata": {},
   "source": [
    "## 1.4 Data 1 hora"
   ]
  },
  {
   "cell_type": "code",
   "execution_count": 62,
   "metadata": {},
   "outputs": [],
   "source": [
    "bars = exchange.fetch_ohlcv('BTC/USDT', timeframe='1h', limit=500)\n",
    "df_1h = pd.DataFrame(bars, columns=['time', 'open', 'high', 'low', 'close', 'volume'])\n",
    "ultimo_timestamp = df_1h['time'][0]\n",
    "start_timestamp = ultimo_timestamp\n",
    "two_weeks_ms = 2*7*24 * 60 *60 * 1000\n",
    "all_data = []\n",
    "periods = 2 * 365 // 14  # 5 años en períodos de 2 meses\n",
    "for i in range(1, periods + 1):  # Ajusta el rango según cuántos periodos de 2 meses quieras retroceder\n",
    "    # Ajustar el número de velas para 2 meses (60 días)\n",
    "    new_data = exchange.fetch_ohlcv('BTC/USDT', timeframe='1h', since=start_timestamp, limit=360)\n",
    "    #time.sleep(2)\n",
    "    all_data.extend(new_data)\n",
    "    # Desplazar el timestamp por el siguiente periodo de 2 meses multiplicado por i\n",
    "    start_timestamp -= two_weeks_ms\n",
    "df2 = pd.DataFrame(all_data, columns=['time', 'open', 'high', 'low', 'close', 'volume'])\n",
    "df2 = df2.sort_values(by='time')\n",
    "df_1h = pd.merge(df2, df_1h, how='outer')\n",
    "last_timestamp = df_1h['time'].iloc[-1]\n",
    "last_timestamp = float(last_timestamp)\n",
    "\n",
    "known_date = datetime.strptime(\"2024/07/23\", \"%Y/%m/%d\")\n",
    "known_timestamp = df_1h['time'].tail(1).values\n",
    "known_timestamp = float(known_timestamp[0])\n",
    "today = datetime.now()\n",
    "df_1h['date'] = df_1h['time'].apply(lambda x: today - timedelta(milliseconds=(last_timestamp - x)))\n",
    "df_1h['date'] = df_1h['date'].dt.strftime('%Y-%m-%d %H:%M:%S')\n",
    "\n",
    "#ordenar los datos\n",
    "df_1h.sort_values(by='time',axis=0,inplace=True)\n",
    "df_1h.reset_index(inplace=True)\n",
    "df_1h.drop(columns=['index'],inplace=True)\n",
    "\n",
    "df_1h['return'] = ((df_1h['close'] - df_1h['open']) / df_1h['open'])*100\n",
    "df_1h['diff'] = df_1h['close'] - df_1h['open']\n",
    "df_1h['volatility'] = df_1h['high'] - df_1h['low']"
   ]
  },
  {
   "cell_type": "code",
   "execution_count": 63,
   "metadata": {},
   "outputs": [],
   "source": [
    "#Índice de Fuerza Relativa (RSI)\n",
    "window_14 = 14\n",
    "window_28 = 28\n",
    "df_1h['rsi'] = ta.momentum.RSIIndicator(close=df_1h['close'],window=window_14).rsi()\n",
    "# Medias Moviles\n",
    "df_1h['ma_5'] = df_1h['close'].rolling(window=10).mean()\n",
    "df_1h['ma_20'] = df_1h['close'].rolling(window=10).mean()\n",
    "df_1h['ma_100'] = df_1h['close'].rolling(window=50).mean()\n",
    "# Bandas de Bollinger solo se usara para graficar\n",
    "df_1h['MiddleBand'] = df_1h['close'].rolling(window=20).mean()\n",
    "df_1h['UpperBand'] = df_1h['MiddleBand'] + 2*df_1h['close'].rolling(window=20).std()\n",
    "df_1h['LowerBand'] = df_1h['MiddleBand'] - 2*df_1h['close'].rolling(window=20).std()\n",
    "#Oscilador Estocástico\n",
    "df_1h['%K'] = 100 * ((df_1h['close'] - df_1h['low'].rolling(window=14).min()) / (df_1h['high'].rolling(window=14).max() - df_1h['low'].rolling(window=14).min()))\n",
    "df_1h['%D'] = df_1h['%K'].rolling(window=3).mean()\n",
    "#Índice de Canal de Materias Primas (CCI)\n",
    "df_1h['TP'] = (df_1h['high'] + df_1h['low'] + df_1h['close']) / 3\n",
    "df_1h['CCI'] = (df_1h['TP'] - df_1h['TP'].rolling(window=20).mean()) / (0.015 * df_1h['TP'].rolling(window=20).std())"
   ]
  },
  {
   "cell_type": "code",
   "execution_count": 73,
   "metadata": {},
   "outputs": [],
   "source": [
    "df_1d.rename(columns={'%K':'K','%D':'D'},inplace=True)\n",
    "df_4h.rename(columns={'%K':'K','%D':'D'},inplace=True)\n",
    "df_1h.rename(columns={'%K':'K','%D':'D'},inplace=True)\n",
    "df_5m.rename(columns={'%K':'K','%D':'D'},inplace=True)"
   ]
  },
  {
   "cell_type": "code",
   "execution_count": 29,
   "metadata": {},
   "outputs": [],
   "source": [
    "df_5m = df_5m[:-1000]\n",
    "df_1h = df_1h[:-1000]\n",
    "df_4h = df_4h[:-1000]\n",
    "df_1d = df_1d[:-1000]"
   ]
  },
  {
   "cell_type": "code",
   "execution_count": 76,
   "metadata": {},
   "outputs": [
    {
     "name": "stdout",
     "output_type": "stream",
     "text": [
      "21\n",
      "21\n",
      "21\n",
      "21\n"
     ]
    }
   ],
   "source": [
    "print(len(df_1d.columns))\n",
    "print(len(df_4h.columns))\n",
    "print(len(df_1h.columns))\n",
    "print(len(df_5m.columns))"
   ]
  },
  {
   "cell_type": "code",
   "execution_count": 77,
   "metadata": {},
   "outputs": [],
   "source": [
    "df_5m.to_parquet('Data/datasets/btc_5m.parquet',engine='pyarrow')\n",
    "df_1h.to_parquet('Data/datasets/btc_1h.parquet',engine='pyarrow')\n",
    "df_4h.to_parquet('Data/datasets/btc_4h.parquet',engine='pyarrow')\n",
    "df_1d.to_parquet('Data/datasets/btc_1d.parquet',engine='pyarrow')"
   ]
  }
 ],
 "metadata": {
  "kernelspec": {
   "display_name": "Python 3",
   "language": "python",
   "name": "python3"
  },
  "language_info": {
   "codemirror_mode": {
    "name": "ipython",
    "version": 3
   },
   "file_extension": ".py",
   "mimetype": "text/x-python",
   "name": "python",
   "nbconvert_exporter": "python",
   "pygments_lexer": "ipython3",
   "version": "3.11.4"
  }
 },
 "nbformat": 4,
 "nbformat_minor": 2
}
