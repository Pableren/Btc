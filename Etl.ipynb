{
 "cells": [
  {
   "cell_type": "code",
   "execution_count": null,
   "metadata": {},
   "outputs": [],
   "source": [
    "import ccxt, yfinance\n",
    "import pandas as pd\n",
    "import numpy as np\n",
    "import pyarrow\n",
    "import seaborn as sns\n",
    "import matplotlib.pyplot as plt\n",
    "from datetime import datetime, timedelta\n",
    "import time\n",
    "# analisis tecnico\n",
    "import ta# pip install TA-Lib\n",
    "print(ccxt.exchanges) # print a list of all available exchange classes"
   ]
  },
  {
   "cell_type": "code",
   "execution_count": null,
   "metadata": {},
   "outputs": [],
   "source": [
    "exchange = ccxt.binance()"
   ]
  },
  {
   "cell_type": "code",
   "execution_count": null,
   "metadata": {},
   "outputs": [],
   "source": [
    "df_1d = pd.read_csv(\"Data/datasets/btc_price_historical_1d.csv\",dtype={'Último':'float64'})"
   ]
  },
  {
   "cell_type": "code",
   "execution_count": null,
   "metadata": {},
   "outputs": [],
   "source": [
    "df_1d.rename(columns={' var.':'var'},inplace=True)\n",
    "df_1d['var'] = df_1d['var'].astype(dtype=float)\n",
    "df_1d.rename(columns={'Último':'close'},inplace=True)\n",
    "df_1d.rename(columns={'Fecha':'date'},inplace=True)\n",
    "df_1d['date'] = pd.to_datetime(df_1d['date'])\n",
    "df_1d.rename(columns={'Vol.':'volume'},inplace=True)\n",
    "df_1d.rename(columns={'Apertura':'open'},inplace=True)\n",
    "df_1d.rename(columns={'Máximo':'high'},inplace=True)\n",
    "df_1d.rename(columns={'Mínimo':'low'},inplace=True)\n",
    "#df_1d.drop(columns=['Vol.'],inplace=True)\n",
    "df_1d['return'] = ((df_1d['close'] - df_1d['open']) / df_1d['open'])*100\n",
    "df_1d['diff'] = df_1d['close'] - df_1d['open']\n",
    "df_1d['volatility'] = df_1d['high'] - df_1d['low']"
   ]
  },
  {
   "cell_type": "code",
   "execution_count": null,
   "metadata": {},
   "outputs": [],
   "source": [
    "df_1d['date'] = pd.to_datetime(df_1d['date'])\n",
    "df_1d.sort_values(by='date',inplace=True,ascending=True)"
   ]
  },
  {
   "cell_type": "code",
   "execution_count": null,
   "metadata": {},
   "outputs": [],
   "source": [
    "\"\"\"\n",
    "bars = exchange.fetch_ohlcv('BTC/USDT',timeframe='1d',limit=365)\n",
    "df = pd.DataFrame(bars, columns=['time','open','high','low','close','volume'])\n",
    "#ultimo_timestamp = df['time'][0]\n",
    "primer_timestamp = df.iloc[-1,0]\n",
    "start_timestamp = primer_timestamp\n",
    "# Convertimos un año a milisegundos\n",
    "one_year_ms = 365 * 86400000\n",
    "#one_year_ms = 31557600000\n",
    "#all_data = []\n",
    "all_data = bars.copy()\n",
    "for i in range(1, 8):\n",
    "    start_timestamp -= one_year_ms\n",
    "    new_data = exchange.fetch_ohlcv('BTC/USDT', timeframe='1d', since=start_timestamp, limit=365)\n",
    "    all_data.extend(new_data)\n",
    "    time.sleep(1)\n",
    "    print(\"since dentro del bucle\", start_timestamp)\n",
    "    print(len(all_data))\n",
    "    # Desplazar el timestamp por el siguiente año multiplicado por i\n",
    "    #start_timestamp -= one_year_ms\n",
    "# Crear DataFrame con todos los datos obtenidos\n",
    "df_1d = pd.DataFrame(all_data, columns=['time', 'open', 'high', 'low', 'close', 'volume'])\n",
    "df_1d = df_1d.sort_values(by='time',axis=0)\n",
    "df_1d = df_1d.drop_duplicates(subset='time')\n",
    "#df_1d = df_1d.sort_index(axis=0)\n",
    "df_1d['return'] = ((df_1d['close'] - df_1d['open']) / df_1d['open'])*100\n",
    "df_1d['diff'] = df_1d['close'] - df_1d['open']\n",
    "df_1d['volatility'] = df_1d['high'] - df_1d['low']\n",
    "df_1d['SMA_5'] = df_1d['close'].rolling(window=5).mean()\n",
    "df_1d['SMA_10'] = df_1d['close'].rolling(window=10).mean() \n",
    "df_1d['SMA_50'] = df_1d['close'].rolling(window=50).mean()\n",
    "df_1d['SMA_100'] = df_1d['close'].rolling(window=100).mean()\n",
    "\n",
    "known_date = datetime.strptime(\"2024/07/24\", \"%Y/%m/%d\")\n",
    "known_timestamp = 1703808000000\n",
    "today = datetime.now()\n",
    "print(today)\n",
    "restar_un_dia = timedelta(days=1)\n",
    "# Obtener la fecha de ayer\n",
    "ayer = today - restar_un_dia\n",
    "last_timestamp = df_1d['time'].iloc[-1]\n",
    "last_timestamp = float(last_timestamp)\n",
    "df_1d['date'] = df_1d['time'].apply(lambda x: today - timedelta(milliseconds=(last_timestamp - x)))\n",
    "df_1d['date'] = df_1d['date'].dt.strftime('%Y-%m-%d %H:%M:%S')\n",
    "\n",
    "#df_1d = df_1d.sort_values(by='time').reset_index(drop=True)\n",
    "\n",
    "#df_1d.drop_duplicates(inplace=True)\n",
    "\"\"\""
   ]
  }
 ],
 "metadata": {
  "language_info": {
   "name": "python"
  }
 },
 "nbformat": 4,
 "nbformat_minor": 2
}
