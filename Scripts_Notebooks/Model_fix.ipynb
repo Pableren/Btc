{
 "cells": [
  {
   "cell_type": "markdown",
   "metadata": {},
   "source": [
    "### Librerias necesarias"
   ]
  },
  {
   "cell_type": "code",
   "execution_count": 1,
   "metadata": {},
   "outputs": [],
   "source": [
    "import pandas as pd\n",
    "import numpy as np\n",
    "import sqlite3 as sql\n",
    "import matplotlib.pyplot as plt\n",
    "import plotly_express as px\n",
    "from statsmodels.graphics.tsaplots import plot_acf\n",
    "from statsmodels.graphics.tsaplots import plot_pacf\n",
    "import seaborn as sns\n",
    "import datetime\n",
    "from lightgbm import LGBMRegressor\n",
    "from skforecast.model_selection import grid_search_forecaster\n",
    "from skforecast.model_selection import backtesting_forecaster\n",
    "from skforecast.ForecasterAutoreg import ForecasterAutoreg\n",
    "from sklearn.metrics import mean_squared_error\n",
    "color_pal = sns.color_palette()\n",
    "plt.style.use('fivethirtyeight')\n",
    "from sklearn.metrics import r2_score"
   ]
  },
  {
   "cell_type": "markdown",
   "metadata": {},
   "source": [
    "#### extraccion de la data"
   ]
  },
  {
   "cell_type": "code",
   "execution_count": 2,
   "metadata": {},
   "outputs": [],
   "source": [
    "conn = sql.connect('../Data/db/btc.db')\n",
    "cursor = conn.cursor()\n",
    "df_1d = pd.read_sql_query(\"SELECT * FROM btc_1d\", conn)\n"
   ]
  },
  {
   "cell_type": "code",
   "execution_count": 3,
   "metadata": {},
   "outputs": [],
   "source": [
    "fecha = df_1d['date'][-1:].values[0]\n",
    "ultima_fecha = pd.to_datetime(fecha)\n",
    "# Número de días que quieres generar (ajusta este valor según tu necesidad)\n",
    "num_dias = len(df_1d)\n",
    "# Crear una lista de fechas decrementando un día en cada iteración\n",
    "fechas = pd.date_range(end=ultima_fecha, periods=num_dias)\n",
    "\n",
    "df_1d['date'] = fechas\n",
    "df_1d.index = fechas"
   ]
  },
  {
   "cell_type": "code",
   "execution_count": 4,
   "metadata": {},
   "outputs": [],
   "source": [
    "df_1d['mes'] = df_1d.index.month\n",
    "#data = pd.get_dummies(df_1d, columns=['reward', 'mes'], dtype=int)"
   ]
  },
  {
   "cell_type": "code",
   "execution_count": 5,
   "metadata": {},
   "outputs": [],
   "source": [
    "last_date = df_1d['date'][-1:].values[0]\n",
    "first_date = df_1d['date'][:2].values[0]\n",
    "data_1d = df_1d.loc[first_date:last_date]\n",
    "inicio_train = first_date\n",
    "fin_train = last_date - pd.DateOffset(days=365)\n",
    "fin_validacion = last_date - pd.DateOffset(days=1)\n"
   ]
  },
  {
   "cell_type": "code",
   "execution_count": 6,
   "metadata": {},
   "outputs": [],
   "source": [
    "from funciones import reordenar_fechas\n",
    "from funciones import split_data"
   ]
  },
  {
   "cell_type": "code",
   "execution_count": 7,
   "metadata": {},
   "outputs": [],
   "source": [
    "lags=[1,30,90,180]\n",
    "forecaster = ForecasterAutoreg(regressor=LGBMRegressor(random_state=42, verbose=-1), lags=lags)\n",
    "df_1d.fillna(0,inplace=True)\n",
    "df_1d = reordenar_fechas(data=df_1d,temporalidad='1D')"
   ]
  },
  {
   "cell_type": "code",
   "execution_count": 12,
   "metadata": {},
   "outputs": [],
   "source": [
    "df_1d['date'] = pd.to_datetime(df_1d['date'])\n",
    "last_date = df_1d['date'][-1:].values[0]\n",
    "first_date = df_1d['date'][:1].values[0]\n",
    "inicio_train = first_date\n",
    "#fin_train = last_date - pd.DateOffset(days=30)\n",
    "fin_train = split_data(data=df_1d,temporalidad='1D')\n",
    "inicio_train = pd.to_datetime(inicio_train)\n",
    "formatted_date_inicio = inicio_train.strftime('%Y-%m-%d %H:%M:%S')\n",
    "fin_train = pd.to_datetime(fin_train)\n",
    "metrica, predicciones = backtesting_forecaster(\n",
    "    forecaster         = forecaster,\n",
    "    y                  = df_1d.loc[formatted_date_inicio:, 'close'],\n",
    "    initial_train_size = len(df_1d.loc[inicio_train:fin_train]),\n",
    "    #fixed_train_size   = True,\n",
    "    steps              = 1,\n",
    "    #refit              = True,\n",
    "    metric             = 'mean_absolute_percentage_error',\n",
    "    verbose            = False,\n",
    "    #show_progress      = True\n",
    "    )\n",
    "forecaster.fit(y=df_1d['close'])\n",
    "steps=5\n",
    "pred_ultimo_valor = forecaster.predict(steps=steps)\n",
    "pred_ultimo_valor = pd.DataFrame(pred_ultimo_valor)\n",
    "#pred_ultimo_valor = pd.df_1dFrame(pred_ultimo_valor)"
   ]
  },
  {
   "cell_type": "code",
   "execution_count": 13,
   "metadata": {},
   "outputs": [],
   "source": [
    "predic = pd.concat(objs=[pd.Series(predicciones),pred_ultimo_valor], axis=0)\n",
    "predic.reset_index(inplace=True,drop=True)\n",
    "predic.columns = ['pred']"
   ]
  },
  {
   "cell_type": "code",
   "execution_count": 20,
   "metadata": {},
   "outputs": [],
   "source": [
    "temporalidad = '1d'\n",
    "largo_predictions = len(predic) -5"
   ]
  },
  {
   "cell_type": "code",
   "execution_count": 21,
   "metadata": {},
   "outputs": [],
   "source": [
    "if (temporalidad in ['4h','4H']):\n",
    "    predic['date'] = pd.date_range(start=df_1d['date'].values[-largo_predictions], periods=len(predic),freq='4H')\n",
    "elif (temporalidad in ['1h','1H']):\n",
    "    predic['date'] = pd.date_range(start=df_1d['date'].values[-largo_predictions], periods=len(predic),freq='1H')\n",
    "elif (temporalidad in ['5m','5M']):\n",
    "    predic['date'] = pd.date_range(start=df_1d['date'].values[-largo_predictions], periods=len(predic),freq='5min')\n",
    "elif (temporalidad in ['1d','1D']):\n",
    "    predic['date'] = pd.date_range(start=df_1d['date'].values[-largo_predictions], periods=len(predic),freq='1D')"
   ]
  },
  {
   "cell_type": "code",
   "execution_count": 22,
   "metadata": {},
   "outputs": [],
   "source": [
    "import plotly.graph_objects as go"
   ]
  },
  {
   "cell_type": "code",
   "execution_count": 28,
   "metadata": {},
   "outputs": [
    {
     "data": {
      "application/vnd.plotly.v1+json": {
       "config": {
        "plotlyServerURL": "https://plot.ly"
       },
       "data": [
        {
         "name": "Value 1",
         "type": "scatter",
         "x": [
          "2024-06-22T00:00:06",
          "2024-06-23T00:00:06",
          "2024-06-24T00:00:06",
          "2024-06-25T00:00:06",
          "2024-06-26T00:00:06",
          "2024-06-27T00:00:06",
          "2024-06-28T00:00:06",
          "2024-06-29T00:00:06",
          "2024-06-30T00:00:06",
          "2024-07-01T00:00:06",
          "2024-07-02T00:00:06",
          "2024-07-03T00:00:06",
          "2024-07-04T00:00:06",
          "2024-07-05T00:00:06",
          "2024-07-06T00:00:06",
          "2024-07-07T00:00:06",
          "2024-07-08T00:00:06",
          "2024-07-09T00:00:06",
          "2024-07-10T00:00:06",
          "2024-07-11T00:00:06",
          "2024-07-12T00:00:06",
          "2024-07-13T00:00:06",
          "2024-07-14T00:00:06",
          "2024-07-15T00:00:06",
          "2024-07-16T00:00:06",
          "2024-07-17T00:00:06",
          "2024-07-18T00:00:06",
          "2024-07-19T00:00:06",
          "2024-07-20T00:00:06",
          "2024-07-21T00:00:06",
          "2024-07-22T00:00:06",
          "2024-07-23T00:00:06",
          "2024-07-24T00:00:06",
          "2024-07-25T00:00:06",
          "2024-07-26T00:00:06",
          "2024-07-27T00:00:06",
          "2024-07-28T00:00:06",
          "2024-07-29T00:00:06",
          "2024-07-30T00:00:06",
          "2024-07-31T00:00:06",
          "2024-08-01T00:00:06",
          "2024-08-02T00:00:06",
          "2024-08-03T00:00:06",
          "2024-08-04T00:00:06",
          "2024-08-05T00:00:06",
          "2024-08-06T00:00:06",
          "2024-08-07T00:00:06",
          "2024-08-08T00:00:06",
          "2024-08-09T00:00:06",
          "2024-08-10T00:00:06",
          "2024-08-11T00:00:06",
          "2024-08-12T00:00:06",
          "2024-08-13T00:00:06",
          "2024-08-14T00:00:06",
          "2024-08-15T00:00:06",
          "2024-08-16T00:00:06",
          "2024-08-17T00:00:06",
          "2024-08-18T00:00:06",
          "2024-08-19T00:00:06",
          "2024-08-20T00:00:06",
          "2024-08-21T00:00:06",
          "2024-08-22T00:00:06",
          "2024-08-23T00:00:06",
          "2024-08-24T00:00:06",
          "2024-08-25T00:00:06",
          "2024-08-26T00:00:06",
          "2024-08-27T00:00:06",
          "2024-08-28T00:00:06",
          "2024-08-29T00:00:06",
          "2024-08-30T00:00:06",
          "2024-08-31T00:00:06",
          "2024-09-01T00:00:06",
          "2024-09-02T00:00:06",
          "2024-09-03T00:00:06",
          "2024-09-04T00:00:06",
          "2024-09-05T00:00:06",
          "2024-09-06T00:00:06",
          "2024-09-07T00:00:06",
          "2024-09-08T00:00:06",
          "2024-09-09T00:00:06",
          "2024-09-10T00:00:06",
          "2024-09-11T00:00:06",
          "2024-09-12T00:00:06",
          "2024-09-13T00:00:06",
          "2024-09-14T00:00:06",
          "2024-09-15T00:00:06",
          "2024-09-16T00:00:06",
          "2024-09-17T00:00:06",
          "2024-09-18T00:00:06",
          "2024-09-19T00:00:06",
          "2024-09-20T00:00:06",
          "2024-09-21T00:00:06",
          "2024-09-22T00:00:06",
          "2024-09-23T00:00:06",
          "2024-09-24T00:00:06",
          "2024-09-25T00:00:06",
          "2024-09-26T00:00:06",
          "2024-09-27T00:00:06",
          "2024-09-28T00:00:06",
          "2024-09-29T00:00:06"
         ],
         "y": [
          63495.57438304461,
          63495.57438304461,
          60733.41685491093,
          59533.66109755417,
          60733.41685491093,
          59533.66109755417,
          60733.41685491093,
          59533.66109755417,
          59533.66109755417,
          60733.41685491093,
          60733.41685491093,
          60733.41685491093,
          59533.66109755417,
          56826.20395345613,
          56654.01870217356,
          57342.71188407866,
          55673.67883087843,
          56826.20395345613,
          56827.29691847691,
          56827.29691847691,
          56826.20395345613,
          56827.29691847691,
          57342.71188407866,
          59533.66109755417,
          63544.67287842072,
          63495.57438304461,
          63495.57438304461,
          63495.57438304461,
          63544.67287842072,
          63544.67287842072,
          63544.67287842072,
          63544.67287842072,
          63472.79453698223,
          63495.57438304461,
          63495.57438304461,
          63495.57438304461,
          63472.79453698223,
          63495.57438304461,
          63495.57438304461,
          63495.57438304461,
          63495.57438304461,
          63472.79453698223,
          60541.959962382585,
          60770.14345813136,
          57096.98554426769,
          53816.21881486541,
          56495.736684931646,
          55645.00274686417,
          60999.486688702724,
          61587.924846288865,
          60583.175412920406,
          57966.306072858846,
          58094.7822959561,
          60549.61377150141,
          58094.7822959561,
          57579.367330354355,
          58094.7822959561,
          58094.7822959561,
          58094.7822959561,
          58094.7822959561,
          58094.7822959561,
          60549.61377150141,
          60549.61377150141,
          64248.827732051985,
          63932.49215906751,
          63469.95526844121,
          61030.88100039867,
          57306.92918714567,
          57306.92918714567,
          57306.92918714567,
          57306.92918714567,
          57306.92918714567,
          56785.58174352259,
          57204.78224157076,
          57760.11000263943,
          57841.17297402524,
          56203.15041400053,
          52221.123197171444,
          52221.123197171444,
          52221.123197171444,
          56616.84900564889,
          56617.76474281926,
          56617.76474281926,
          56644.0940203416,
          60770.05952751941,
          59738.9808166286,
          57178.45296404842,
          57204.78224157076,
          59738.9808166286,
          61008.10115433629,
          63469.95526844121,
          63447.17542237883,
          61030.88100039867,
          63469.95526844121,
          61030.88100039867,
          63189.059224751574,
          63284.27478450477,
          63072.83240098712,
          62888.96100714339,
          61874.46687588218
         ]
        },
        {
         "name": "Value 2",
         "type": "scatter",
         "x": [
          "2024-06-17T00:00:06",
          "2024-06-18T00:00:06",
          "2024-06-19T00:00:06",
          "2024-06-20T00:00:06",
          "2024-06-21T00:00:06",
          "2024-06-22T00:00:06",
          "2024-06-23T00:00:06",
          "2024-06-24T00:00:06",
          "2024-06-25T00:00:06",
          "2024-06-26T00:00:06",
          "2024-06-27T00:00:06",
          "2024-06-28T00:00:06",
          "2024-06-29T00:00:06",
          "2024-06-30T00:00:06",
          "2024-07-01T00:00:06",
          "2024-07-02T00:00:06",
          "2024-07-03T00:00:06",
          "2024-07-04T00:00:06",
          "2024-07-05T00:00:06",
          "2024-07-06T00:00:06",
          "2024-07-07T00:00:06",
          "2024-07-08T00:00:06",
          "2024-07-09T00:00:06",
          "2024-07-10T00:00:06",
          "2024-07-11T00:00:06",
          "2024-07-12T00:00:06",
          "2024-07-13T00:00:06",
          "2024-07-14T00:00:06",
          "2024-07-15T00:00:06",
          "2024-07-16T00:00:06",
          "2024-07-17T00:00:06",
          "2024-07-18T00:00:06",
          "2024-07-19T00:00:06",
          "2024-07-20T00:00:06",
          "2024-07-21T00:00:06",
          "2024-07-22T00:00:06",
          "2024-07-23T00:00:06",
          "2024-07-24T00:00:06",
          "2024-07-25T00:00:06",
          "2024-07-26T00:00:06",
          "2024-07-27T00:00:06",
          "2024-07-28T00:00:06",
          "2024-07-29T00:00:06",
          "2024-07-30T00:00:06",
          "2024-07-31T00:00:06",
          "2024-08-01T00:00:06",
          "2024-08-02T00:00:06",
          "2024-08-03T00:00:06",
          "2024-08-04T00:00:06",
          "2024-08-05T00:00:06",
          "2024-08-06T00:00:06",
          "2024-08-07T00:00:06",
          "2024-08-08T00:00:06",
          "2024-08-09T00:00:06",
          "2024-08-10T00:00:06",
          "2024-08-11T00:00:06",
          "2024-08-12T00:00:06",
          "2024-08-13T00:00:06",
          "2024-08-14T00:00:06",
          "2024-08-15T00:00:06",
          "2024-08-16T00:00:06",
          "2024-08-17T00:00:06",
          "2024-08-18T00:00:06",
          "2024-08-19T00:00:06",
          "2024-08-20T00:00:06",
          "2024-08-21T00:00:06",
          "2024-08-22T00:00:06",
          "2024-08-23T00:00:06",
          "2024-08-24T00:00:06",
          "2024-08-25T00:00:06",
          "2024-08-26T00:00:06",
          "2024-08-27T00:00:06",
          "2024-08-28T00:00:06",
          "2024-08-29T00:00:06",
          "2024-08-30T00:00:06",
          "2024-08-31T00:00:06",
          "2024-09-01T00:00:06",
          "2024-09-02T00:00:06",
          "2024-09-03T00:00:06",
          "2024-09-04T00:00:06",
          "2024-09-05T00:00:06",
          "2024-09-06T00:00:06",
          "2024-09-07T00:00:06",
          "2024-09-08T00:00:06",
          "2024-09-09T00:00:06",
          "2024-09-10T00:00:06",
          "2024-09-11T00:00:06",
          "2024-09-12T00:00:06",
          "2024-09-13T00:00:06",
          "2024-09-14T00:00:06",
          "2024-09-15T00:00:06",
          "2024-09-16T00:00:06",
          "2024-09-17T00:00:06",
          "2024-09-18T00:00:06",
          "2024-09-19T00:00:06",
          "2024-09-20T00:00:06",
          "2024-09-21T00:00:06",
          "2024-09-22T00:00:06",
          "2024-09-23T00:00:06",
          "2024-09-24T00:00:06"
         ],
         "y": [
          66504.33,
          65175.32,
          64974.37,
          64869.99,
          64143.56,
          64262.01,
          63210.01,
          60293.3,
          61806.01,
          60864.99,
          61706.47,
          60427.84,
          60986.68,
          62772.01,
          62899.99,
          62135.47,
          60208.58,
          57050.01,
          56628.79,
          58230.13,
          55857.81,
          56714.62,
          58050,
          57725.85,
          57339.89,
          57889.1,
          59204.02,
          60797.91,
          64724.14,
          65043.99,
          64087.99,
          63987.92,
          66660,
          67139.96,
          68165.34,
          67532.01,
          65936.01,
          65376,
          65799.95,
          67907.99,
          67896.5,
          68249.88,
          66784.69,
          66188,
          64628,
          65354.02,
          61498.33,
          60697.99,
          58161,
          54018.81,
          56022.01,
          55134.16,
          61685.99,
          60837.99,
          60923.51,
          58712.59,
          59346.64,
          60587.15,
          58683.39,
          57541.06,
          58874.6,
          59491.99,
          58427.35,
          59438.5,
          59013.8,
          61156.03,
          60375.84,
          64037.24,
          64157.01,
          64220,
          62834,
          59415,
          59034.9,
          59359.01,
          59123.99,
          58973.99,
          57301.86,
          59132.13,
          57487.73,
          57970.9,
          56180,
          53962.97,
          54160.86,
          54869.95,
          57042,
          57805.99,
          57638.84,
          57937.99,
          60481.86,
          60056.02,
          59132,
          58213.99,
          60313.99,
          61759.99,
          63463.59,
          63771.99,
          63348.96,
          63578.76,
          63339.99,
          63168.82
         ]
        }
       ],
       "layout": {
        "template": {
         "data": {
          "bar": [
           {
            "error_x": {
             "color": "#2a3f5f"
            },
            "error_y": {
             "color": "#2a3f5f"
            },
            "marker": {
             "line": {
              "color": "#E5ECF6",
              "width": 0.5
             },
             "pattern": {
              "fillmode": "overlay",
              "size": 10,
              "solidity": 0.2
             }
            },
            "type": "bar"
           }
          ],
          "barpolar": [
           {
            "marker": {
             "line": {
              "color": "#E5ECF6",
              "width": 0.5
             },
             "pattern": {
              "fillmode": "overlay",
              "size": 10,
              "solidity": 0.2
             }
            },
            "type": "barpolar"
           }
          ],
          "carpet": [
           {
            "aaxis": {
             "endlinecolor": "#2a3f5f",
             "gridcolor": "white",
             "linecolor": "white",
             "minorgridcolor": "white",
             "startlinecolor": "#2a3f5f"
            },
            "baxis": {
             "endlinecolor": "#2a3f5f",
             "gridcolor": "white",
             "linecolor": "white",
             "minorgridcolor": "white",
             "startlinecolor": "#2a3f5f"
            },
            "type": "carpet"
           }
          ],
          "choropleth": [
           {
            "colorbar": {
             "outlinewidth": 0,
             "ticks": ""
            },
            "type": "choropleth"
           }
          ],
          "contour": [
           {
            "colorbar": {
             "outlinewidth": 0,
             "ticks": ""
            },
            "colorscale": [
             [
              0,
              "#0d0887"
             ],
             [
              0.1111111111111111,
              "#46039f"
             ],
             [
              0.2222222222222222,
              "#7201a8"
             ],
             [
              0.3333333333333333,
              "#9c179e"
             ],
             [
              0.4444444444444444,
              "#bd3786"
             ],
             [
              0.5555555555555556,
              "#d8576b"
             ],
             [
              0.6666666666666666,
              "#ed7953"
             ],
             [
              0.7777777777777778,
              "#fb9f3a"
             ],
             [
              0.8888888888888888,
              "#fdca26"
             ],
             [
              1,
              "#f0f921"
             ]
            ],
            "type": "contour"
           }
          ],
          "contourcarpet": [
           {
            "colorbar": {
             "outlinewidth": 0,
             "ticks": ""
            },
            "type": "contourcarpet"
           }
          ],
          "heatmap": [
           {
            "colorbar": {
             "outlinewidth": 0,
             "ticks": ""
            },
            "colorscale": [
             [
              0,
              "#0d0887"
             ],
             [
              0.1111111111111111,
              "#46039f"
             ],
             [
              0.2222222222222222,
              "#7201a8"
             ],
             [
              0.3333333333333333,
              "#9c179e"
             ],
             [
              0.4444444444444444,
              "#bd3786"
             ],
             [
              0.5555555555555556,
              "#d8576b"
             ],
             [
              0.6666666666666666,
              "#ed7953"
             ],
             [
              0.7777777777777778,
              "#fb9f3a"
             ],
             [
              0.8888888888888888,
              "#fdca26"
             ],
             [
              1,
              "#f0f921"
             ]
            ],
            "type": "heatmap"
           }
          ],
          "heatmapgl": [
           {
            "colorbar": {
             "outlinewidth": 0,
             "ticks": ""
            },
            "colorscale": [
             [
              0,
              "#0d0887"
             ],
             [
              0.1111111111111111,
              "#46039f"
             ],
             [
              0.2222222222222222,
              "#7201a8"
             ],
             [
              0.3333333333333333,
              "#9c179e"
             ],
             [
              0.4444444444444444,
              "#bd3786"
             ],
             [
              0.5555555555555556,
              "#d8576b"
             ],
             [
              0.6666666666666666,
              "#ed7953"
             ],
             [
              0.7777777777777778,
              "#fb9f3a"
             ],
             [
              0.8888888888888888,
              "#fdca26"
             ],
             [
              1,
              "#f0f921"
             ]
            ],
            "type": "heatmapgl"
           }
          ],
          "histogram": [
           {
            "marker": {
             "pattern": {
              "fillmode": "overlay",
              "size": 10,
              "solidity": 0.2
             }
            },
            "type": "histogram"
           }
          ],
          "histogram2d": [
           {
            "colorbar": {
             "outlinewidth": 0,
             "ticks": ""
            },
            "colorscale": [
             [
              0,
              "#0d0887"
             ],
             [
              0.1111111111111111,
              "#46039f"
             ],
             [
              0.2222222222222222,
              "#7201a8"
             ],
             [
              0.3333333333333333,
              "#9c179e"
             ],
             [
              0.4444444444444444,
              "#bd3786"
             ],
             [
              0.5555555555555556,
              "#d8576b"
             ],
             [
              0.6666666666666666,
              "#ed7953"
             ],
             [
              0.7777777777777778,
              "#fb9f3a"
             ],
             [
              0.8888888888888888,
              "#fdca26"
             ],
             [
              1,
              "#f0f921"
             ]
            ],
            "type": "histogram2d"
           }
          ],
          "histogram2dcontour": [
           {
            "colorbar": {
             "outlinewidth": 0,
             "ticks": ""
            },
            "colorscale": [
             [
              0,
              "#0d0887"
             ],
             [
              0.1111111111111111,
              "#46039f"
             ],
             [
              0.2222222222222222,
              "#7201a8"
             ],
             [
              0.3333333333333333,
              "#9c179e"
             ],
             [
              0.4444444444444444,
              "#bd3786"
             ],
             [
              0.5555555555555556,
              "#d8576b"
             ],
             [
              0.6666666666666666,
              "#ed7953"
             ],
             [
              0.7777777777777778,
              "#fb9f3a"
             ],
             [
              0.8888888888888888,
              "#fdca26"
             ],
             [
              1,
              "#f0f921"
             ]
            ],
            "type": "histogram2dcontour"
           }
          ],
          "mesh3d": [
           {
            "colorbar": {
             "outlinewidth": 0,
             "ticks": ""
            },
            "type": "mesh3d"
           }
          ],
          "parcoords": [
           {
            "line": {
             "colorbar": {
              "outlinewidth": 0,
              "ticks": ""
             }
            },
            "type": "parcoords"
           }
          ],
          "pie": [
           {
            "automargin": true,
            "type": "pie"
           }
          ],
          "scatter": [
           {
            "fillpattern": {
             "fillmode": "overlay",
             "size": 10,
             "solidity": 0.2
            },
            "type": "scatter"
           }
          ],
          "scatter3d": [
           {
            "line": {
             "colorbar": {
              "outlinewidth": 0,
              "ticks": ""
             }
            },
            "marker": {
             "colorbar": {
              "outlinewidth": 0,
              "ticks": ""
             }
            },
            "type": "scatter3d"
           }
          ],
          "scattercarpet": [
           {
            "marker": {
             "colorbar": {
              "outlinewidth": 0,
              "ticks": ""
             }
            },
            "type": "scattercarpet"
           }
          ],
          "scattergeo": [
           {
            "marker": {
             "colorbar": {
              "outlinewidth": 0,
              "ticks": ""
             }
            },
            "type": "scattergeo"
           }
          ],
          "scattergl": [
           {
            "marker": {
             "colorbar": {
              "outlinewidth": 0,
              "ticks": ""
             }
            },
            "type": "scattergl"
           }
          ],
          "scattermapbox": [
           {
            "marker": {
             "colorbar": {
              "outlinewidth": 0,
              "ticks": ""
             }
            },
            "type": "scattermapbox"
           }
          ],
          "scatterpolar": [
           {
            "marker": {
             "colorbar": {
              "outlinewidth": 0,
              "ticks": ""
             }
            },
            "type": "scatterpolar"
           }
          ],
          "scatterpolargl": [
           {
            "marker": {
             "colorbar": {
              "outlinewidth": 0,
              "ticks": ""
             }
            },
            "type": "scatterpolargl"
           }
          ],
          "scatterternary": [
           {
            "marker": {
             "colorbar": {
              "outlinewidth": 0,
              "ticks": ""
             }
            },
            "type": "scatterternary"
           }
          ],
          "surface": [
           {
            "colorbar": {
             "outlinewidth": 0,
             "ticks": ""
            },
            "colorscale": [
             [
              0,
              "#0d0887"
             ],
             [
              0.1111111111111111,
              "#46039f"
             ],
             [
              0.2222222222222222,
              "#7201a8"
             ],
             [
              0.3333333333333333,
              "#9c179e"
             ],
             [
              0.4444444444444444,
              "#bd3786"
             ],
             [
              0.5555555555555556,
              "#d8576b"
             ],
             [
              0.6666666666666666,
              "#ed7953"
             ],
             [
              0.7777777777777778,
              "#fb9f3a"
             ],
             [
              0.8888888888888888,
              "#fdca26"
             ],
             [
              1,
              "#f0f921"
             ]
            ],
            "type": "surface"
           }
          ],
          "table": [
           {
            "cells": {
             "fill": {
              "color": "#EBF0F8"
             },
             "line": {
              "color": "white"
             }
            },
            "header": {
             "fill": {
              "color": "#C8D4E3"
             },
             "line": {
              "color": "white"
             }
            },
            "type": "table"
           }
          ]
         },
         "layout": {
          "annotationdefaults": {
           "arrowcolor": "#2a3f5f",
           "arrowhead": 0,
           "arrowwidth": 1
          },
          "autotypenumbers": "strict",
          "coloraxis": {
           "colorbar": {
            "outlinewidth": 0,
            "ticks": ""
           }
          },
          "colorscale": {
           "diverging": [
            [
             0,
             "#8e0152"
            ],
            [
             0.1,
             "#c51b7d"
            ],
            [
             0.2,
             "#de77ae"
            ],
            [
             0.3,
             "#f1b6da"
            ],
            [
             0.4,
             "#fde0ef"
            ],
            [
             0.5,
             "#f7f7f7"
            ],
            [
             0.6,
             "#e6f5d0"
            ],
            [
             0.7,
             "#b8e186"
            ],
            [
             0.8,
             "#7fbc41"
            ],
            [
             0.9,
             "#4d9221"
            ],
            [
             1,
             "#276419"
            ]
           ],
           "sequential": [
            [
             0,
             "#0d0887"
            ],
            [
             0.1111111111111111,
             "#46039f"
            ],
            [
             0.2222222222222222,
             "#7201a8"
            ],
            [
             0.3333333333333333,
             "#9c179e"
            ],
            [
             0.4444444444444444,
             "#bd3786"
            ],
            [
             0.5555555555555556,
             "#d8576b"
            ],
            [
             0.6666666666666666,
             "#ed7953"
            ],
            [
             0.7777777777777778,
             "#fb9f3a"
            ],
            [
             0.8888888888888888,
             "#fdca26"
            ],
            [
             1,
             "#f0f921"
            ]
           ],
           "sequentialminus": [
            [
             0,
             "#0d0887"
            ],
            [
             0.1111111111111111,
             "#46039f"
            ],
            [
             0.2222222222222222,
             "#7201a8"
            ],
            [
             0.3333333333333333,
             "#9c179e"
            ],
            [
             0.4444444444444444,
             "#bd3786"
            ],
            [
             0.5555555555555556,
             "#d8576b"
            ],
            [
             0.6666666666666666,
             "#ed7953"
            ],
            [
             0.7777777777777778,
             "#fb9f3a"
            ],
            [
             0.8888888888888888,
             "#fdca26"
            ],
            [
             1,
             "#f0f921"
            ]
           ]
          },
          "colorway": [
           "#636efa",
           "#EF553B",
           "#00cc96",
           "#ab63fa",
           "#FFA15A",
           "#19d3f3",
           "#FF6692",
           "#B6E880",
           "#FF97FF",
           "#FECB52"
          ],
          "font": {
           "color": "#2a3f5f"
          },
          "geo": {
           "bgcolor": "white",
           "lakecolor": "white",
           "landcolor": "#E5ECF6",
           "showlakes": true,
           "showland": true,
           "subunitcolor": "white"
          },
          "hoverlabel": {
           "align": "left"
          },
          "hovermode": "closest",
          "mapbox": {
           "style": "light"
          },
          "paper_bgcolor": "white",
          "plot_bgcolor": "#E5ECF6",
          "polar": {
           "angularaxis": {
            "gridcolor": "white",
            "linecolor": "white",
            "ticks": ""
           },
           "bgcolor": "#E5ECF6",
           "radialaxis": {
            "gridcolor": "white",
            "linecolor": "white",
            "ticks": ""
           }
          },
          "scene": {
           "xaxis": {
            "backgroundcolor": "#E5ECF6",
            "gridcolor": "white",
            "gridwidth": 2,
            "linecolor": "white",
            "showbackground": true,
            "ticks": "",
            "zerolinecolor": "white"
           },
           "yaxis": {
            "backgroundcolor": "#E5ECF6",
            "gridcolor": "white",
            "gridwidth": 2,
            "linecolor": "white",
            "showbackground": true,
            "ticks": "",
            "zerolinecolor": "white"
           },
           "zaxis": {
            "backgroundcolor": "#E5ECF6",
            "gridcolor": "white",
            "gridwidth": 2,
            "linecolor": "white",
            "showbackground": true,
            "ticks": "",
            "zerolinecolor": "white"
           }
          },
          "shapedefaults": {
           "line": {
            "color": "#2a3f5f"
           }
          },
          "ternary": {
           "aaxis": {
            "gridcolor": "white",
            "linecolor": "white",
            "ticks": ""
           },
           "baxis": {
            "gridcolor": "white",
            "linecolor": "white",
            "ticks": ""
           },
           "bgcolor": "#E5ECF6",
           "caxis": {
            "gridcolor": "white",
            "linecolor": "white",
            "ticks": ""
           }
          },
          "title": {
           "x": 0.05
          },
          "xaxis": {
           "automargin": true,
           "gridcolor": "white",
           "linecolor": "white",
           "ticks": "",
           "title": {
            "standoff": 15
           },
           "zerolinecolor": "white",
           "zerolinewidth": 2
          },
          "yaxis": {
           "automargin": true,
           "gridcolor": "white",
           "linecolor": "white",
           "ticks": "",
           "title": {
            "standoff": 15
           },
           "zerolinecolor": "white",
           "zerolinewidth": 2
          }
         }
        }
       }
      }
     },
     "metadata": {},
     "output_type": "display_data"
    }
   ],
   "source": [
    "fig = go.Figure()\n",
    "fig.add_trace(go.Scatter(x=predic['date'][-100:], y=predic.pred[-100:], name='Value 1'))\n",
    "fig.add_trace(go.Scatter(x=df_1d['date'][-100:], y=df_1d['close'][-100:], name='Value 2'))\n",
    "fig.show()"
   ]
  },
  {
   "cell_type": "code",
   "execution_count": 14,
   "metadata": {},
   "outputs": [
    {
     "data": {
      "text/html": [
       "<div>\n",
       "<style scoped>\n",
       "    .dataframe tbody tr th:only-of-type {\n",
       "        vertical-align: middle;\n",
       "    }\n",
       "\n",
       "    .dataframe tbody tr th {\n",
       "        vertical-align: top;\n",
       "    }\n",
       "\n",
       "    .dataframe thead th {\n",
       "        text-align: right;\n",
       "    }\n",
       "</style>\n",
       "<table border=\"1\" class=\"dataframe\">\n",
       "  <thead>\n",
       "    <tr style=\"text-align: right;\">\n",
       "      <th></th>\n",
       "      <th>pred</th>\n",
       "    </tr>\n",
       "  </thead>\n",
       "  <tbody>\n",
       "    <tr>\n",
       "      <th>0</th>\n",
       "      <td>67460.814089</td>\n",
       "    </tr>\n",
       "    <tr>\n",
       "      <th>1</th>\n",
       "      <td>67460.814089</td>\n",
       "    </tr>\n",
       "    <tr>\n",
       "      <th>2</th>\n",
       "      <td>66054.272391</td>\n",
       "    </tr>\n",
       "    <tr>\n",
       "      <th>3</th>\n",
       "      <td>66054.272391</td>\n",
       "    </tr>\n",
       "    <tr>\n",
       "      <th>4</th>\n",
       "      <td>67506.613933</td>\n",
       "    </tr>\n",
       "    <tr>\n",
       "      <th>...</th>\n",
       "      <td>...</td>\n",
       "    </tr>\n",
       "    <tr>\n",
       "      <th>180</th>\n",
       "      <td>63189.059225</td>\n",
       "    </tr>\n",
       "    <tr>\n",
       "      <th>181</th>\n",
       "      <td>63284.274785</td>\n",
       "    </tr>\n",
       "    <tr>\n",
       "      <th>182</th>\n",
       "      <td>63072.832401</td>\n",
       "    </tr>\n",
       "    <tr>\n",
       "      <th>183</th>\n",
       "      <td>62888.961007</td>\n",
       "    </tr>\n",
       "    <tr>\n",
       "      <th>184</th>\n",
       "      <td>61874.466876</td>\n",
       "    </tr>\n",
       "  </tbody>\n",
       "</table>\n",
       "<p>185 rows × 1 columns</p>\n",
       "</div>"
      ],
      "text/plain": [
       "             pred\n",
       "0    67460.814089\n",
       "1    67460.814089\n",
       "2    66054.272391\n",
       "3    66054.272391\n",
       "4    67506.613933\n",
       "..            ...\n",
       "180  63189.059225\n",
       "181  63284.274785\n",
       "182  63072.832401\n",
       "183  62888.961007\n",
       "184  61874.466876\n",
       "\n",
       "[185 rows x 1 columns]"
      ]
     },
     "execution_count": 14,
     "metadata": {},
     "output_type": "execute_result"
    }
   ],
   "source": [
    "predic"
   ]
  },
  {
   "cell_type": "code",
   "execution_count": 13,
   "metadata": {},
   "outputs": [
    {
     "ename": "TypeError",
     "evalue": "ForecasterAutoreg.__init__() got an unexpected keyword argument 'transformer_y'",
     "output_type": "error",
     "traceback": [
      "\u001b[1;31m---------------------------------------------------------------------------\u001b[0m",
      "\u001b[1;31mTypeError\u001b[0m                                 Traceback (most recent call last)",
      "Cell \u001b[1;32mIn[13], line 2\u001b[0m\n\u001b[0;32m      1\u001b[0m \u001b[38;5;66;03m# Crear el forecaster con el modelo LGBM y los lags deseados\u001b[39;00m\n\u001b[1;32m----> 2\u001b[0m forecaster \u001b[38;5;241m=\u001b[39m \u001b[43mForecasterAutoreg\u001b[49m\u001b[43m(\u001b[49m\n\u001b[0;32m      3\u001b[0m \u001b[43m    \u001b[49m\u001b[43mregressor\u001b[49m\u001b[43m        \u001b[49m\u001b[38;5;241;43m=\u001b[39;49m\u001b[43m \u001b[49m\u001b[43mLGBMRegressor\u001b[49m\u001b[43m(\u001b[49m\u001b[43mrandom_state\u001b[49m\u001b[38;5;241;43m=\u001b[39;49m\u001b[38;5;241;43m123\u001b[39;49m\u001b[43m,\u001b[49m\u001b[43m \u001b[49m\u001b[43mverbose\u001b[49m\u001b[38;5;241;43m=\u001b[39;49m\u001b[38;5;241;43m-\u001b[39;49m\u001b[38;5;241;43m1\u001b[39;49m\u001b[43m)\u001b[49m\u001b[43m,\u001b[49m\n\u001b[0;32m      4\u001b[0m \u001b[43m    \u001b[49m\u001b[43mlags\u001b[49m\u001b[43m             \u001b[49m\u001b[38;5;241;43m=\u001b[39;49m\u001b[43m \u001b[49m\u001b[43m[\u001b[49m\u001b[38;5;241;43m1\u001b[39;49m\u001b[43m,\u001b[49m\u001b[38;5;241;43m30\u001b[39;49m\u001b[43m,\u001b[49m\u001b[38;5;241;43m90\u001b[39;49m\u001b[43m,\u001b[49m\u001b[38;5;241;43m180\u001b[39;49m\u001b[43m]\u001b[49m\u001b[43m,\u001b[49m\u001b[43m  \u001b[49m\u001b[38;5;66;43;03m# Ajusta según tus necesidades\u001b[39;49;00m\n\u001b[0;32m      5\u001b[0m \u001b[43m    \u001b[49m\u001b[43mtransformer_y\u001b[49m\u001b[43m    \u001b[49m\u001b[38;5;241;43m=\u001b[39;49m\u001b[43m \u001b[49m\u001b[38;5;28;43;01mNone\u001b[39;49;00m\n\u001b[0;32m      6\u001b[0m \u001b[43m)\u001b[49m\n",
      "\u001b[1;31mTypeError\u001b[0m: ForecasterAutoreg.__init__() got an unexpected keyword argument 'transformer_y'"
     ]
    }
   ],
   "source": [
    "# Crear el forecaster con el modelo LGBM y los lags deseados\n",
    "forecaster = ForecasterAutoreg(\n",
    "    regressor        = LGBMRegressor(random_state=123, verbose=-1),\n",
    "    lags             = [1,30,90,180],  # Ajusta según tus necesidades\n",
    "    transformer_y    = None\n",
    ")"
   ]
  },
  {
   "cell_type": "code",
   "execution_count": 9,
   "metadata": {},
   "outputs": [
    {
     "name": "stderr",
     "output_type": "stream",
     "text": [
      "c:\\Users\\Pablo\\AppData\\Local\\Programs\\Python\\Python311\\Lib\\site-packages\\skforecast\\model_selection\\model_selection.py:548: LongTrainingWarning: The forecaster will be fit 183 times. This can take substantial amounts of time. If not feasible, try with `refit = False`.\n",
      " \n",
      " You can suppress this warning using: warnings.simplefilter('ignore', category=LongTrainingWarning)\n",
      "  warnings.warn(\n"
     ]
    },
    {
     "data": {
      "application/vnd.jupyter.widget-view+json": {
       "model_id": "488b93cf88514cc9b446710a81f19dfa",
       "version_major": 2,
       "version_minor": 0
      },
      "text/plain": [
       "  0%|          | 0/183 [00:00<?, ?it/s]"
      ]
     },
     "metadata": {},
     "output_type": "display_data"
    },
    {
     "name": "stdout",
     "output_type": "stream",
     "text": [
      "MAPE del modelo: 0.026106689285984443\n"
     ]
    }
   ],
   "source": [
    "# Realizar backtesting para evaluar el modelo\n",
    "metrica, predicciones = backtesting_forecaster(\n",
    "    forecaster         = forecaster,\n",
    "    y                  = data.loc[inicio_train:, 'close'],\n",
    "    exog               = data.loc[inicio_train:, exog],\n",
    "    initial_train_size = len(data.loc[inicio_train:fin_train,]),\n",
    "    fixed_train_size   = True,\n",
    "    steps              = 2,\n",
    "    refit              = True,\n",
    "    metric             = 'mean_absolute_percentage_error',\n",
    "    verbose            = False,\n",
    "    show_progress      = True\n",
    ")\n",
    "\n",
    "# Imprimir la métrica de error\n",
    "print(f'MAPE del modelo: {metrica}')\n"
   ]
  },
  {
   "cell_type": "code",
   "execution_count": 10,
   "metadata": {},
   "outputs": [
    {
     "name": "stdout",
     "output_type": "stream",
     "text": [
      "metrica: 0.026106689285984443 predicciones:                     pred\n",
      "2023-09-04  26134.616698\n",
      "2023-09-05  26402.931793\n",
      "2023-09-06  26094.202224\n",
      "2023-09-07  26087.607135\n",
      "2023-09-08  25870.417182\n",
      "...                  ...\n",
      "2024-08-29  58368.299172\n",
      "2024-08-30  57777.510314\n",
      "2024-08-31  58954.687918\n",
      "2024-09-01  59003.490959\n",
      "2024-09-02  58109.138435\n",
      "\n",
      "[365 rows x 1 columns]\n"
     ]
    }
   ],
   "source": [
    "print(\"metrica:\",metrica,\"predicciones:\",predicciones)"
   ]
  },
  {
   "cell_type": "code",
   "execution_count": 11,
   "metadata": {},
   "outputs": [],
   "source": [
    "# Entrenar el modelo con todos los datos disponibles hasta la fecha actual\n",
    "forecaster.fit(\n",
    "    y    = data['close'],\n",
    "    exog = data[exog])\n"
   ]
  },
  {
   "cell_type": "code",
   "execution_count": 12,
   "metadata": {},
   "outputs": [],
   "source": [
    "# Crear DataFrame \"esqueleto\" de fechas futuras\n",
    "fecha_maxima = data.index.max()\n",
    "una_semana_mas = fecha_maxima + pd.DateOffset(days=7)\n",
    "future = pd.date_range(fecha_maxima+ pd.DateOffset(days=1), una_semana_mas, freq='D')\n",
    "future_df = pd.DataFrame(index=future)"
   ]
  },
  {
   "cell_type": "code",
   "execution_count": 13,
   "metadata": {},
   "outputs": [
    {
     "name": "stdout",
     "output_type": "stream",
     "text": [
      "2024-09-02 00:00:00\n",
      "2024-09-09 00:00:00\n",
      "DatetimeIndex(['2024-09-03', '2024-09-04', '2024-09-05', '2024-09-06',\n",
      "               '2024-09-07', '2024-09-08', '2024-09-09'],\n",
      "              dtype='datetime64[ns]', freq='D')\n",
      "Empty DataFrame\n",
      "Columns: []\n",
      "Index: [2024-09-03 00:00:00, 2024-09-04 00:00:00, 2024-09-05 00:00:00, 2024-09-06 00:00:00, 2024-09-07 00:00:00, 2024-09-08 00:00:00, 2024-09-09 00:00:00]\n"
     ]
    }
   ],
   "source": [
    "print(fecha_maxima)\n",
    "print(una_semana_mas)\n",
    "print(future)\n",
    "print(future_df)"
   ]
  },
  {
   "cell_type": "code",
   "execution_count": 14,
   "metadata": {},
   "outputs": [],
   "source": [
    "future_exog = pd.DataFrame(index=future)"
   ]
  },
  {
   "cell_type": "code",
   "execution_count": 15,
   "metadata": {},
   "outputs": [],
   "source": [
    "df_and_future = pd.concat([data, future_exog])"
   ]
  },
  {
   "cell_type": "code",
   "execution_count": 16,
   "metadata": {},
   "outputs": [],
   "source": [
    "df_and_future.drop(columns=['reward_3.125', 'reward_12.5', 'reward_25.0', 'reward_50.0', 'mes_1',\n",
    "       'mes_2', 'mes_3', 'mes_4', 'mes_5', 'mes_6', 'mes_7', 'mes_8', 'mes_9',\n",
    "       'mes_10', 'mes_11', 'mes_12'],inplace=True)\n",
    "df_and_future['mes'] = df_and_future.index.month"
   ]
  },
  {
   "cell_type": "code",
   "execution_count": 17,
   "metadata": {},
   "outputs": [
    {
     "data": {
      "text/html": [
       "<div>\n",
       "<style scoped>\n",
       "    .dataframe tbody tr th:only-of-type {\n",
       "        vertical-align: middle;\n",
       "    }\n",
       "\n",
       "    .dataframe tbody tr th {\n",
       "        vertical-align: top;\n",
       "    }\n",
       "\n",
       "    .dataframe thead th {\n",
       "        text-align: right;\n",
       "    }\n",
       "</style>\n",
       "<table border=\"1\" class=\"dataframe\">\n",
       "  <thead>\n",
       "    <tr style=\"text-align: right;\">\n",
       "      <th></th>\n",
       "      <th>date</th>\n",
       "      <th>time</th>\n",
       "      <th>close</th>\n",
       "      <th>countdown_halving</th>\n",
       "      <th>mes</th>\n",
       "    </tr>\n",
       "  </thead>\n",
       "  <tbody>\n",
       "    <tr>\n",
       "      <th>2011-01-12</th>\n",
       "      <td>2011-01-12</td>\n",
       "      <td>1294790400000</td>\n",
       "      <td>0.3</td>\n",
       "      <td>685.0</td>\n",
       "      <td>1</td>\n",
       "    </tr>\n",
       "    <tr>\n",
       "      <th>2011-01-13</th>\n",
       "      <td>2011-01-13</td>\n",
       "      <td>1294876800000</td>\n",
       "      <td>0.3</td>\n",
       "      <td>684.0</td>\n",
       "      <td>1</td>\n",
       "    </tr>\n",
       "    <tr>\n",
       "      <th>2011-01-14</th>\n",
       "      <td>2011-01-14</td>\n",
       "      <td>1294963200000</td>\n",
       "      <td>0.4</td>\n",
       "      <td>683.0</td>\n",
       "      <td>1</td>\n",
       "    </tr>\n",
       "    <tr>\n",
       "      <th>2011-01-15</th>\n",
       "      <td>2011-01-15</td>\n",
       "      <td>1295049600000</td>\n",
       "      <td>0.4</td>\n",
       "      <td>682.0</td>\n",
       "      <td>1</td>\n",
       "    </tr>\n",
       "    <tr>\n",
       "      <th>2011-01-16</th>\n",
       "      <td>2011-01-16</td>\n",
       "      <td>1295136000000</td>\n",
       "      <td>0.4</td>\n",
       "      <td>681.0</td>\n",
       "      <td>1</td>\n",
       "    </tr>\n",
       "    <tr>\n",
       "      <th>...</th>\n",
       "      <td>...</td>\n",
       "      <td>...</td>\n",
       "      <td>...</td>\n",
       "      <td>...</td>\n",
       "      <td>...</td>\n",
       "    </tr>\n",
       "    <tr>\n",
       "      <th>2024-09-05</th>\n",
       "      <td>NaT</td>\n",
       "      <td>NaN</td>\n",
       "      <td>NaN</td>\n",
       "      <td>NaN</td>\n",
       "      <td>9</td>\n",
       "    </tr>\n",
       "    <tr>\n",
       "      <th>2024-09-06</th>\n",
       "      <td>NaT</td>\n",
       "      <td>NaN</td>\n",
       "      <td>NaN</td>\n",
       "      <td>NaN</td>\n",
       "      <td>9</td>\n",
       "    </tr>\n",
       "    <tr>\n",
       "      <th>2024-09-07</th>\n",
       "      <td>NaT</td>\n",
       "      <td>NaN</td>\n",
       "      <td>NaN</td>\n",
       "      <td>NaN</td>\n",
       "      <td>9</td>\n",
       "    </tr>\n",
       "    <tr>\n",
       "      <th>2024-09-08</th>\n",
       "      <td>NaT</td>\n",
       "      <td>NaN</td>\n",
       "      <td>NaN</td>\n",
       "      <td>NaN</td>\n",
       "      <td>9</td>\n",
       "    </tr>\n",
       "    <tr>\n",
       "      <th>2024-09-09</th>\n",
       "      <td>NaT</td>\n",
       "      <td>NaN</td>\n",
       "      <td>NaN</td>\n",
       "      <td>NaN</td>\n",
       "      <td>9</td>\n",
       "    </tr>\n",
       "  </tbody>\n",
       "</table>\n",
       "<p>4990 rows × 5 columns</p>\n",
       "</div>"
      ],
      "text/plain": [
       "                 date           time  close  countdown_halving  mes\n",
       "2011-01-12 2011-01-12  1294790400000    0.3              685.0    1\n",
       "2011-01-13 2011-01-13  1294876800000    0.3              684.0    1\n",
       "2011-01-14 2011-01-14  1294963200000    0.4              683.0    1\n",
       "2011-01-15 2011-01-15  1295049600000    0.4              682.0    1\n",
       "2011-01-16 2011-01-16  1295136000000    0.4              681.0    1\n",
       "...               ...            ...    ...                ...  ...\n",
       "2024-09-05        NaT            NaN    NaN                NaN    9\n",
       "2024-09-06        NaT            NaN    NaN                NaN    9\n",
       "2024-09-07        NaT            NaN    NaN                NaN    9\n",
       "2024-09-08        NaT            NaN    NaN                NaN    9\n",
       "2024-09-09        NaT            NaN    NaN                NaN    9\n",
       "\n",
       "[4990 rows x 5 columns]"
      ]
     },
     "execution_count": 17,
     "metadata": {},
     "output_type": "execute_result"
    }
   ],
   "source": [
    "df_and_future"
   ]
  },
  {
   "cell_type": "code",
   "execution_count": 18,
   "metadata": {},
   "outputs": [
    {
     "name": "stdout",
     "output_type": "stream",
     "text": [
      "El próximo halving ocurrirá aproximadamente el: 2026-07-29 10:40:00\n"
     ]
    }
   ],
   "source": [
    "import Scripts.funciones as func\n",
    "df_and_future = func.calcular_recompensa_y_cuenta_regresiva_1d(df_1d=df_and_future)"
   ]
  },
  {
   "cell_type": "code",
   "execution_count": 19,
   "metadata": {},
   "outputs": [],
   "source": [
    "df_and_future = pd.get_dummies(df_and_future, columns=['reward', 'mes'], dtype=int)"
   ]
  },
  {
   "cell_type": "code",
   "execution_count": 20,
   "metadata": {},
   "outputs": [],
   "source": [
    "fecha = df_and_future['index'][-1:].values[0]\n",
    "ultima_fecha = pd.to_datetime(fecha)\n",
    "# Número de días que quieres generar (ajusta este valor según tu necesidad)\n",
    "num_dias = len(df_and_future)\n",
    "# Crear una lista de fechas decrementando un día en cada iteración\n",
    "fechas = pd.date_range(end=ultima_fecha, periods=num_dias)\n",
    "df_and_future['index'] = fechas\n",
    "df_and_future.index = fechas"
   ]
  },
  {
   "cell_type": "code",
   "execution_count": 21,
   "metadata": {},
   "outputs": [
    {
     "data": {
      "text/html": [
       "<div>\n",
       "<style scoped>\n",
       "    .dataframe tbody tr th:only-of-type {\n",
       "        vertical-align: middle;\n",
       "    }\n",
       "\n",
       "    .dataframe tbody tr th {\n",
       "        vertical-align: top;\n",
       "    }\n",
       "\n",
       "    .dataframe thead th {\n",
       "        text-align: right;\n",
       "    }\n",
       "</style>\n",
       "<table border=\"1\" class=\"dataframe\">\n",
       "  <thead>\n",
       "    <tr style=\"text-align: right;\">\n",
       "      <th></th>\n",
       "      <th>index</th>\n",
       "      <th>date</th>\n",
       "      <th>time</th>\n",
       "      <th>close</th>\n",
       "      <th>countdown_halving</th>\n",
       "      <th>reward_3.125</th>\n",
       "      <th>reward_12.5</th>\n",
       "      <th>reward_25.0</th>\n",
       "      <th>reward_50.0</th>\n",
       "      <th>mes_1</th>\n",
       "      <th>...</th>\n",
       "      <th>mes_3</th>\n",
       "      <th>mes_4</th>\n",
       "      <th>mes_5</th>\n",
       "      <th>mes_6</th>\n",
       "      <th>mes_7</th>\n",
       "      <th>mes_8</th>\n",
       "      <th>mes_9</th>\n",
       "      <th>mes_10</th>\n",
       "      <th>mes_11</th>\n",
       "      <th>mes_12</th>\n",
       "    </tr>\n",
       "  </thead>\n",
       "  <tbody>\n",
       "    <tr>\n",
       "      <th>2024-09-03</th>\n",
       "      <td>2024-09-03</td>\n",
       "      <td>NaT</td>\n",
       "      <td>NaN</td>\n",
       "      <td>NaN</td>\n",
       "      <td>8.0</td>\n",
       "      <td>1</td>\n",
       "      <td>0</td>\n",
       "      <td>0</td>\n",
       "      <td>0</td>\n",
       "      <td>0</td>\n",
       "      <td>...</td>\n",
       "      <td>0</td>\n",
       "      <td>0</td>\n",
       "      <td>0</td>\n",
       "      <td>0</td>\n",
       "      <td>0</td>\n",
       "      <td>0</td>\n",
       "      <td>1</td>\n",
       "      <td>0</td>\n",
       "      <td>0</td>\n",
       "      <td>0</td>\n",
       "    </tr>\n",
       "    <tr>\n",
       "      <th>2024-09-04</th>\n",
       "      <td>2024-09-04</td>\n",
       "      <td>NaT</td>\n",
       "      <td>NaN</td>\n",
       "      <td>NaN</td>\n",
       "      <td>7.0</td>\n",
       "      <td>1</td>\n",
       "      <td>0</td>\n",
       "      <td>0</td>\n",
       "      <td>0</td>\n",
       "      <td>0</td>\n",
       "      <td>...</td>\n",
       "      <td>0</td>\n",
       "      <td>0</td>\n",
       "      <td>0</td>\n",
       "      <td>0</td>\n",
       "      <td>0</td>\n",
       "      <td>0</td>\n",
       "      <td>1</td>\n",
       "      <td>0</td>\n",
       "      <td>0</td>\n",
       "      <td>0</td>\n",
       "    </tr>\n",
       "    <tr>\n",
       "      <th>2024-09-05</th>\n",
       "      <td>2024-09-05</td>\n",
       "      <td>NaT</td>\n",
       "      <td>NaN</td>\n",
       "      <td>NaN</td>\n",
       "      <td>5.0</td>\n",
       "      <td>1</td>\n",
       "      <td>0</td>\n",
       "      <td>0</td>\n",
       "      <td>0</td>\n",
       "      <td>0</td>\n",
       "      <td>...</td>\n",
       "      <td>0</td>\n",
       "      <td>0</td>\n",
       "      <td>0</td>\n",
       "      <td>0</td>\n",
       "      <td>0</td>\n",
       "      <td>0</td>\n",
       "      <td>1</td>\n",
       "      <td>0</td>\n",
       "      <td>0</td>\n",
       "      <td>0</td>\n",
       "    </tr>\n",
       "    <tr>\n",
       "      <th>2024-09-06</th>\n",
       "      <td>2024-09-06</td>\n",
       "      <td>NaT</td>\n",
       "      <td>NaN</td>\n",
       "      <td>NaN</td>\n",
       "      <td>4.0</td>\n",
       "      <td>1</td>\n",
       "      <td>0</td>\n",
       "      <td>0</td>\n",
       "      <td>0</td>\n",
       "      <td>0</td>\n",
       "      <td>...</td>\n",
       "      <td>0</td>\n",
       "      <td>0</td>\n",
       "      <td>0</td>\n",
       "      <td>0</td>\n",
       "      <td>0</td>\n",
       "      <td>0</td>\n",
       "      <td>1</td>\n",
       "      <td>0</td>\n",
       "      <td>0</td>\n",
       "      <td>0</td>\n",
       "    </tr>\n",
       "    <tr>\n",
       "      <th>2024-09-07</th>\n",
       "      <td>2024-09-07</td>\n",
       "      <td>NaT</td>\n",
       "      <td>NaN</td>\n",
       "      <td>NaN</td>\n",
       "      <td>2.0</td>\n",
       "      <td>1</td>\n",
       "      <td>0</td>\n",
       "      <td>0</td>\n",
       "      <td>0</td>\n",
       "      <td>0</td>\n",
       "      <td>...</td>\n",
       "      <td>0</td>\n",
       "      <td>0</td>\n",
       "      <td>0</td>\n",
       "      <td>0</td>\n",
       "      <td>0</td>\n",
       "      <td>0</td>\n",
       "      <td>1</td>\n",
       "      <td>0</td>\n",
       "      <td>0</td>\n",
       "      <td>0</td>\n",
       "    </tr>\n",
       "    <tr>\n",
       "      <th>2024-09-08</th>\n",
       "      <td>2024-09-08</td>\n",
       "      <td>NaT</td>\n",
       "      <td>NaN</td>\n",
       "      <td>NaN</td>\n",
       "      <td>1.0</td>\n",
       "      <td>1</td>\n",
       "      <td>0</td>\n",
       "      <td>0</td>\n",
       "      <td>0</td>\n",
       "      <td>0</td>\n",
       "      <td>...</td>\n",
       "      <td>0</td>\n",
       "      <td>0</td>\n",
       "      <td>0</td>\n",
       "      <td>0</td>\n",
       "      <td>0</td>\n",
       "      <td>0</td>\n",
       "      <td>1</td>\n",
       "      <td>0</td>\n",
       "      <td>0</td>\n",
       "      <td>0</td>\n",
       "    </tr>\n",
       "    <tr>\n",
       "      <th>2024-09-09</th>\n",
       "      <td>2024-09-09</td>\n",
       "      <td>NaT</td>\n",
       "      <td>NaN</td>\n",
       "      <td>NaN</td>\n",
       "      <td>0.0</td>\n",
       "      <td>1</td>\n",
       "      <td>0</td>\n",
       "      <td>0</td>\n",
       "      <td>0</td>\n",
       "      <td>0</td>\n",
       "      <td>...</td>\n",
       "      <td>0</td>\n",
       "      <td>0</td>\n",
       "      <td>0</td>\n",
       "      <td>0</td>\n",
       "      <td>0</td>\n",
       "      <td>0</td>\n",
       "      <td>1</td>\n",
       "      <td>0</td>\n",
       "      <td>0</td>\n",
       "      <td>0</td>\n",
       "    </tr>\n",
       "  </tbody>\n",
       "</table>\n",
       "<p>7 rows × 21 columns</p>\n",
       "</div>"
      ],
      "text/plain": [
       "                index date time  close  countdown_halving  reward_3.125  \\\n",
       "2024-09-03 2024-09-03  NaT  NaN    NaN                8.0             1   \n",
       "2024-09-04 2024-09-04  NaT  NaN    NaN                7.0             1   \n",
       "2024-09-05 2024-09-05  NaT  NaN    NaN                5.0             1   \n",
       "2024-09-06 2024-09-06  NaT  NaN    NaN                4.0             1   \n",
       "2024-09-07 2024-09-07  NaT  NaN    NaN                2.0             1   \n",
       "2024-09-08 2024-09-08  NaT  NaN    NaN                1.0             1   \n",
       "2024-09-09 2024-09-09  NaT  NaN    NaN                0.0             1   \n",
       "\n",
       "            reward_12.5  reward_25.0  reward_50.0  mes_1  ...  mes_3  mes_4  \\\n",
       "2024-09-03            0            0            0      0  ...      0      0   \n",
       "2024-09-04            0            0            0      0  ...      0      0   \n",
       "2024-09-05            0            0            0      0  ...      0      0   \n",
       "2024-09-06            0            0            0      0  ...      0      0   \n",
       "2024-09-07            0            0            0      0  ...      0      0   \n",
       "2024-09-08            0            0            0      0  ...      0      0   \n",
       "2024-09-09            0            0            0      0  ...      0      0   \n",
       "\n",
       "            mes_5  mes_6  mes_7  mes_8  mes_9  mes_10  mes_11  mes_12  \n",
       "2024-09-03      0      0      0      0      1       0       0       0  \n",
       "2024-09-04      0      0      0      0      1       0       0       0  \n",
       "2024-09-05      0      0      0      0      1       0       0       0  \n",
       "2024-09-06      0      0      0      0      1       0       0       0  \n",
       "2024-09-07      0      0      0      0      1       0       0       0  \n",
       "2024-09-08      0      0      0      0      1       0       0       0  \n",
       "2024-09-09      0      0      0      0      1       0       0       0  \n",
       "\n",
       "[7 rows x 21 columns]"
      ]
     },
     "execution_count": 21,
     "metadata": {},
     "output_type": "execute_result"
    }
   ],
   "source": [
    "horizonte = 7\n",
    "df_and_future.iloc[-horizonte:]"
   ]
  },
  {
   "cell_type": "code",
   "execution_count": 22,
   "metadata": {},
   "outputs": [
    {
     "name": "stdout",
     "output_type": "stream",
     "text": [
      "Predicción para el último valor: 2024-09-03    57008.045414\n",
      "2024-09-04    57495.623586\n",
      "2024-09-05    57260.711641\n",
      "2024-09-06    57495.623586\n",
      "2024-09-07    57954.098429\n",
      "Freq: D, Name: pred, dtype: float64\n"
     ]
    }
   ],
   "source": [
    "# Predecir el último valor\n",
    "pred_ultimo_valor = forecaster.predict(steps=5, exog=df_and_future[exog].iloc[-horizonte:])\n",
    "print(f'Predicción para el último valor: {pred_ultimo_valor}')"
   ]
  },
  {
   "cell_type": "code",
   "execution_count": 23,
   "metadata": {},
   "outputs": [
    {
     "data": {
      "text/plain": [
       "2024-09-03    57008.045414\n",
       "2024-09-04    57495.623586\n",
       "2024-09-05    57260.711641\n",
       "2024-09-06    57495.623586\n",
       "2024-09-07    57954.098429\n",
       "Freq: D, Name: pred, dtype: float64"
      ]
     },
     "execution_count": 23,
     "metadata": {},
     "output_type": "execute_result"
    }
   ],
   "source": [
    "pred_ultimo_valor"
   ]
  },
  {
   "cell_type": "code",
   "execution_count": 24,
   "metadata": {},
   "outputs": [],
   "source": [
    "ultimos_valores_close = data['close'].iloc[-7:]"
   ]
  },
  {
   "cell_type": "code",
   "execution_count": 25,
   "metadata": {},
   "outputs": [
    {
     "data": {
      "image/png": "[encoded data removed]",
      "text/plain": [
       "<Figure size 1000x600 with 1 Axes>"
      ]
     },
     "metadata": {},
     "output_type": "display_data"
    }
   ],
   "source": [
    "plt.figure(figsize=(10, 6))\n",
    "plt.plot(ultimos_valores_close.index, ultimos_valores_close.values, label='Valores Reales (Close)', marker='o', color='blue')\n",
    "plt.plot(pred_ultimo_valor.index, pred_ultimo_valor.values, label='Predicciones Futuras', marker='o', color='green')\n",
    "\n",
    "plt.axvline(x=ultimos_valores_close.index[-1], color='red', linestyle='--', label='Inicio de Predicciones')\n",
    "plt.title('Últimos valores de \"close\" y Predicciones Futuras')\n",
    "plt.xlabel('Fecha')\n",
    "plt.ylabel('Precio')\n",
    "plt.legend()\n",
    "plt.grid(True)\n",
    "# Mostrar el gráfico\n",
    "plt.show()"
   ]
  },
  {
   "cell_type": "code",
   "execution_count": 26,
   "metadata": {},
   "outputs": [
    {
     "data": {
      "application/vnd.plotly.v1+json": {
       "config": {
        "plotlyServerURL": "https://plot.ly"
       },
       "data": [
        {
         "marker": {
          "color": "blue",
          "symbol": "cross"
         },
         "mode": "lines+markers",
         "name": "Valores Reales",
         "type": "scatter",
         "x": [
          "2024-08-24T00:00:00",
          "2024-08-25T00:00:00",
          "2024-08-26T00:00:00",
          "2024-08-27T00:00:00",
          "2024-08-28T00:00:00",
          "2024-08-29T00:00:00",
          "2024-08-30T00:00:00",
          "2024-08-31T00:00:00",
          "2024-09-01T00:00:00",
          "2024-09-02T00:00:00"
         ],
         "y": [
          64157.01,
          64169.99,
          62834,
          59415,
          59034.9,
          59359.01,
          59123.99,
          58973.99,
          57301.86,
          58458
         ]
        },
        {
         "marker": {
          "color": "green"
         },
         "mode": "lines+markers",
         "name": "Valores Reales y Predicciones en Últimos 5 Pasos",
         "type": "scatter",
         "x": [
          "2024-09-03T00:00:00",
          "2024-09-04T00:00:00",
          "2024-09-05T00:00:00",
          "2024-09-06T00:00:00",
          "2024-09-07T00:00:00"
         ],
         "y": [
          57008.04541355592,
          57495.62358647024,
          57260.71164118391,
          57495.62358647024,
          57954.098428810496
         ]
        },
        {
         "line": {
          "color": "red",
          "dash": "dash"
         },
         "mode": "lines",
         "name": "Inicio de Predicciones Futuras",
         "type": "scatter",
         "x": [
          "2024-09-02T00:00:00",
          "2024-09-02T00:00:00"
         ],
         "y": [
          57008.04541355592,
          57954.098428810496
         ]
        }
       ],
       "layout": {
        "hovermode": "x",
        "legend": {
         "x": 0,
         "y": 1.1
        },
        "margin": {
         "b": 40,
         "l": 40,
         "r": 40,
         "t": 40
        },
        "template": {
         "data": {
          "bar": [
           {
            "error_x": {
             "color": "#2a3f5f"
            },
            "error_y": {
             "color": "#2a3f5f"
            },
            "marker": {
             "line": {
              "color": "white",
              "width": 0.5
             },
             "pattern": {
              "fillmode": "overlay",
              "size": 10,
              "solidity": 0.2
             }
            },
            "type": "bar"
           }
          ],
          "barpolar": [
           {
            "marker": {
             "line": {
              "color": "white",
              "width": 0.5
             },
             "pattern": {
              "fillmode": "overlay",
              "size": 10,
              "solidity": 0.2
             }
            },
            "type": "barpolar"
           }
          ],
          "carpet": [
           {
            "aaxis": {
             "endlinecolor": "#2a3f5f",
             "gridcolor": "#C8D4E3",
             "linecolor": "#C8D4E3",
             "minorgridcolor": "#C8D4E3",
             "startlinecolor": "#2a3f5f"
            },
            "baxis": {
             "endlinecolor": "#2a3f5f",
             "gridcolor": "#C8D4E3",
             "linecolor": "#C8D4E3",
             "minorgridcolor": "#C8D4E3",
             "startlinecolor": "#2a3f5f"
            },
            "type": "carpet"
           }
          ],
          "choropleth": [
           {
            "colorbar": {
             "outlinewidth": 0,
             "ticks": ""
            },
            "type": "choropleth"
           }
          ],
          "contour": [
           {
            "colorbar": {
             "outlinewidth": 0,
             "ticks": ""
            },
            "colorscale": [
             [
              0,
              "#0d0887"
             ],
             [
              0.1111111111111111,
              "#46039f"
             ],
             [
              0.2222222222222222,
              "#7201a8"
             ],
             [
              0.3333333333333333,
              "#9c179e"
             ],
             [
              0.4444444444444444,
              "#bd3786"
             ],
             [
              0.5555555555555556,
              "#d8576b"
             ],
             [
              0.6666666666666666,
              "#ed7953"
             ],
             [
              0.7777777777777778,
              "#fb9f3a"
             ],
             [
              0.8888888888888888,
              "#fdca26"
             ],
             [
              1,
              "#f0f921"
             ]
            ],
            "type": "contour"
           }
          ],
          "contourcarpet": [
           {
            "colorbar": {
             "outlinewidth": 0,
             "ticks": ""
            },
            "type": "contourcarpet"
           }
          ],
          "heatmap": [
           {
            "colorbar": {
             "outlinewidth": 0,
             "ticks": ""
            },
            "colorscale": [
             [
              0,
              "#0d0887"
             ],
             [
              0.1111111111111111,
              "#46039f"
             ],
             [
              0.2222222222222222,
              "#7201a8"
             ],
             [
              0.3333333333333333,
              "#9c179e"
             ],
             [
              0.4444444444444444,
              "#bd3786"
             ],
             [
              0.5555555555555556,
              "#d8576b"
             ],
             [
              0.6666666666666666,
              "#ed7953"
             ],
             [
              0.7777777777777778,
              "#fb9f3a"
             ],
             [
              0.8888888888888888,
              "#fdca26"
             ],
             [
              1,
              "#f0f921"
             ]
            ],
            "type": "heatmap"
           }
          ],
          "heatmapgl": [
           {
            "colorbar": {
             "outlinewidth": 0,
             "ticks": ""
            },
            "colorscale": [
             [
              0,
              "#0d0887"
             ],
             [
              0.1111111111111111,
              "#46039f"
             ],
             [
              0.2222222222222222,
              "#7201a8"
             ],
             [
              0.3333333333333333,
              "#9c179e"
             ],
             [
              0.4444444444444444,
              "#bd3786"
             ],
             [
              0.5555555555555556,
              "#d8576b"
             ],
             [
              0.6666666666666666,
              "#ed7953"
             ],
             [
              0.7777777777777778,
              "#fb9f3a"
             ],
             [
              0.8888888888888888,
              "#fdca26"
             ],
             [
              1,
              "#f0f921"
             ]
            ],
            "type": "heatmapgl"
           }
          ],
          "histogram": [
           {
            "marker": {
             "pattern": {
              "fillmode": "overlay",
              "size": 10,
              "solidity": 0.2
             }
            },
            "type": "histogram"
           }
          ],
          "histogram2d": [
           {
            "colorbar": {
             "outlinewidth": 0,
             "ticks": ""
            },
            "colorscale": [
             [
              0,
              "#0d0887"
             ],
             [
              0.1111111111111111,
              "#46039f"
             ],
             [
              0.2222222222222222,
              "#7201a8"
             ],
             [
              0.3333333333333333,
              "#9c179e"
             ],
             [
              0.4444444444444444,
              "#bd3786"
             ],
             [
              0.5555555555555556,
              "#d8576b"
             ],
             [
              0.6666666666666666,
              "#ed7953"
             ],
             [
              0.7777777777777778,
              "#fb9f3a"
             ],
             [
              0.8888888888888888,
              "#fdca26"
             ],
             [
              1,
              "#f0f921"
             ]
            ],
            "type": "histogram2d"
           }
          ],
          "histogram2dcontour": [
           {
            "colorbar": {
             "outlinewidth": 0,
             "ticks": ""
            },
            "colorscale": [
             [
              0,
              "#0d0887"
             ],
             [
              0.1111111111111111,
              "#46039f"
             ],
             [
              0.2222222222222222,
              "#7201a8"
             ],
             [
              0.3333333333333333,
              "#9c179e"
             ],
             [
              0.4444444444444444,
              "#bd3786"
             ],
             [
              0.5555555555555556,
              "#d8576b"
             ],
             [
              0.6666666666666666,
              "#ed7953"
             ],
             [
              0.7777777777777778,
              "#fb9f3a"
             ],
             [
              0.8888888888888888,
              "#fdca26"
             ],
             [
              1,
              "#f0f921"
             ]
            ],
            "type": "histogram2dcontour"
           }
          ],
          "mesh3d": [
           {
            "colorbar": {
             "outlinewidth": 0,
             "ticks": ""
            },
            "type": "mesh3d"
           }
          ],
          "parcoords": [
           {
            "line": {
             "colorbar": {
              "outlinewidth": 0,
              "ticks": ""
             }
            },
            "type": "parcoords"
           }
          ],
          "pie": [
           {
            "automargin": true,
            "type": "pie"
           }
          ],
          "scatter": [
           {
            "fillpattern": {
             "fillmode": "overlay",
             "size": 10,
             "solidity": 0.2
            },
            "type": "scatter"
           }
          ],
          "scatter3d": [
           {
            "line": {
             "colorbar": {
              "outlinewidth": 0,
              "ticks": ""
             }
            },
            "marker": {
             "colorbar": {
              "outlinewidth": 0,
              "ticks": ""
             }
            },
            "type": "scatter3d"
           }
          ],
          "scattercarpet": [
           {
            "marker": {
             "colorbar": {
              "outlinewidth": 0,
              "ticks": ""
             }
            },
            "type": "scattercarpet"
           }
          ],
          "scattergeo": [
           {
            "marker": {
             "colorbar": {
              "outlinewidth": 0,
              "ticks": ""
             }
            },
            "type": "scattergeo"
           }
          ],
          "scattergl": [
           {
            "marker": {
             "colorbar": {
              "outlinewidth": 0,
              "ticks": ""
             }
            },
            "type": "scattergl"
           }
          ],
          "scattermapbox": [
           {
            "marker": {
             "colorbar": {
              "outlinewidth": 0,
              "ticks": ""
             }
            },
            "type": "scattermapbox"
           }
          ],
          "scatterpolar": [
           {
            "marker": {
             "colorbar": {
              "outlinewidth": 0,
              "ticks": ""
             }
            },
            "type": "scatterpolar"
           }
          ],
          "scatterpolargl": [
           {
            "marker": {
             "colorbar": {
              "outlinewidth": 0,
              "ticks": ""
             }
            },
            "type": "scatterpolargl"
           }
          ],
          "scatterternary": [
           {
            "marker": {
             "colorbar": {
              "outlinewidth": 0,
              "ticks": ""
             }
            },
            "type": "scatterternary"
           }
          ],
          "surface": [
           {
            "colorbar": {
             "outlinewidth": 0,
             "ticks": ""
            },
            "colorscale": [
             [
              0,
              "#0d0887"
             ],
             [
              0.1111111111111111,
              "#46039f"
             ],
             [
              0.2222222222222222,
              "#7201a8"
             ],
             [
              0.3333333333333333,
              "#9c179e"
             ],
             [
              0.4444444444444444,
              "#bd3786"
             ],
             [
              0.5555555555555556,
              "#d8576b"
             ],
             [
              0.6666666666666666,
              "#ed7953"
             ],
             [
              0.7777777777777778,
              "#fb9f3a"
             ],
             [
              0.8888888888888888,
              "#fdca26"
             ],
             [
              1,
              "#f0f921"
             ]
            ],
            "type": "surface"
           }
          ],
          "table": [
           {
            "cells": {
             "fill": {
              "color": "#EBF0F8"
             },
             "line": {
              "color": "white"
             }
            },
            "header": {
             "fill": {
              "color": "#C8D4E3"
             },
             "line": {
              "color": "white"
             }
            },
            "type": "table"
           }
          ]
         },
         "layout": {
          "annotationdefaults": {
           "arrowcolor": "#2a3f5f",
           "arrowhead": 0,
           "arrowwidth": 1
          },
          "autotypenumbers": "strict",
          "coloraxis": {
           "colorbar": {
            "outlinewidth": 0,
            "ticks": ""
           }
          },
          "colorscale": {
           "diverging": [
            [
             0,
             "#8e0152"
            ],
            [
             0.1,
             "#c51b7d"
            ],
            [
             0.2,
             "#de77ae"
            ],
            [
             0.3,
             "#f1b6da"
            ],
            [
             0.4,
             "#fde0ef"
            ],
            [
             0.5,
             "#f7f7f7"
            ],
            [
             0.6,
             "#e6f5d0"
            ],
            [
             0.7,
             "#b8e186"
            ],
            [
             0.8,
             "#7fbc41"
            ],
            [
             0.9,
             "#4d9221"
            ],
            [
             1,
             "#276419"
            ]
           ],
           "sequential": [
            [
             0,
             "#0d0887"
            ],
            [
             0.1111111111111111,
             "#46039f"
            ],
            [
             0.2222222222222222,
             "#7201a8"
            ],
            [
             0.3333333333333333,
             "#9c179e"
            ],
            [
             0.4444444444444444,
             "#bd3786"
            ],
            [
             0.5555555555555556,
             "#d8576b"
            ],
            [
             0.6666666666666666,
             "#ed7953"
            ],
            [
             0.7777777777777778,
             "#fb9f3a"
            ],
            [
             0.8888888888888888,
             "#fdca26"
            ],
            [
             1,
             "#f0f921"
            ]
           ],
           "sequentialminus": [
            [
             0,
             "#0d0887"
            ],
            [
             0.1111111111111111,
             "#46039f"
            ],
            [
             0.2222222222222222,
             "#7201a8"
            ],
            [
             0.3333333333333333,
             "#9c179e"
            ],
            [
             0.4444444444444444,
             "#bd3786"
            ],
            [
             0.5555555555555556,
             "#d8576b"
            ],
            [
             0.6666666666666666,
             "#ed7953"
            ],
            [
             0.7777777777777778,
             "#fb9f3a"
            ],
            [
             0.8888888888888888,
             "#fdca26"
            ],
            [
             1,
             "#f0f921"
            ]
           ]
          },
          "colorway": [
           "#636efa",
           "#EF553B",
           "#00cc96",
           "#ab63fa",
           "#FFA15A",
           "#19d3f3",
           "#FF6692",
           "#B6E880",
           "#FF97FF",
           "#FECB52"
          ],
          "font": {
           "color": "#2a3f5f"
          },
          "geo": {
           "bgcolor": "white",
           "lakecolor": "white",
           "landcolor": "white",
           "showlakes": true,
           "showland": true,
           "subunitcolor": "#C8D4E3"
          },
          "hoverlabel": {
           "align": "left"
          },
          "hovermode": "closest",
          "mapbox": {
           "style": "light"
          },
          "paper_bgcolor": "white",
          "plot_bgcolor": "white",
          "polar": {
           "angularaxis": {
            "gridcolor": "#EBF0F8",
            "linecolor": "#EBF0F8",
            "ticks": ""
           },
           "bgcolor": "white",
           "radialaxis": {
            "gridcolor": "#EBF0F8",
            "linecolor": "#EBF0F8",
            "ticks": ""
           }
          },
          "scene": {
           "xaxis": {
            "backgroundcolor": "white",
            "gridcolor": "#DFE8F3",
            "gridwidth": 2,
            "linecolor": "#EBF0F8",
            "showbackground": true,
            "ticks": "",
            "zerolinecolor": "#EBF0F8"
           },
           "yaxis": {
            "backgroundcolor": "white",
            "gridcolor": "#DFE8F3",
            "gridwidth": 2,
            "linecolor": "#EBF0F8",
            "showbackground": true,
            "ticks": "",
            "zerolinecolor": "#EBF0F8"
           },
           "zaxis": {
            "backgroundcolor": "white",
            "gridcolor": "#DFE8F3",
            "gridwidth": 2,
            "linecolor": "#EBF0F8",
            "showbackground": true,
            "ticks": "",
            "zerolinecolor": "#EBF0F8"
           }
          },
          "shapedefaults": {
           "line": {
            "color": "#2a3f5f"
           }
          },
          "ternary": {
           "aaxis": {
            "gridcolor": "#DFE8F3",
            "linecolor": "#A2B1C6",
            "ticks": ""
           },
           "baxis": {
            "gridcolor": "#DFE8F3",
            "linecolor": "#A2B1C6",
            "ticks": ""
           },
           "bgcolor": "white",
           "caxis": {
            "gridcolor": "#DFE8F3",
            "linecolor": "#A2B1C6",
            "ticks": ""
           }
          },
          "title": {
           "x": 0.05
          },
          "xaxis": {
           "automargin": true,
           "gridcolor": "#EBF0F8",
           "linecolor": "#EBF0F8",
           "ticks": "",
           "title": {
            "standoff": 15
           },
           "zerolinecolor": "#EBF0F8",
           "zerolinewidth": 2
          },
          "yaxis": {
           "automargin": true,
           "gridcolor": "#EBF0F8",
           "linecolor": "#EBF0F8",
           "ticks": "",
           "title": {
            "standoff": 15
           },
           "zerolinecolor": "#EBF0F8",
           "zerolinewidth": 2
          }
         }
        },
        "title": {
         "text": "Predicciones sobre Últimos 5 Valores y Futuras"
        },
        "xaxis": {
         "title": {
          "text": "Fecha"
         }
        },
        "yaxis": {
         "title": {
          "text": "Precio"
         }
        }
       }
      }
     },
     "metadata": {},
     "output_type": "display_data"
    }
   ],
   "source": [
    "import plotly.graph_objects as go\n",
    "\n",
    "# Crear la figura\n",
    "fig = go.Figure()\n",
    "\n",
    "# Agregar los valores reales (últimos 10 valores)\n",
    "fig.add_trace(go.Scatter(x=data.index[-10:], y=data.close.values[-10:], \n",
    "                         mode='lines+markers', \n",
    "                         name='Valores Reales', \n",
    "                         marker=dict(color='blue', symbol='cross')))\n",
    "\n",
    "# Agregar las predicciones sobre los últimos valores y las predicciones futuras\n",
    "fig.add_trace(go.Scatter(x=pred_ultimo_valor.index, y=pred_ultimo_valor.values, \n",
    "                         mode='lines+markers', \n",
    "                         name='Valores Reales y Predicciones en Últimos 5 Pasos', \n",
    "                         marker=dict(color='green')))\n",
    "\n",
    "# Línea vertical para el inicio de predicciones futuras\n",
    "fig.add_trace(go.Scatter(x=[ultimos_valores_close.index[-1], ultimos_valores_close.index[-1]], \n",
    "                         y=[min(pred_ultimo_valor.values), max(pred_ultimo_valor.values)],\n",
    "                         mode='lines', \n",
    "                         name='Inicio de Predicciones Futuras', \n",
    "                         line=dict(color='red', dash='dash')))\n",
    "\n",
    "# Personalizar el gráfico\n",
    "fig.update_layout(\n",
    "    title='Predicciones sobre Últimos 5 Valores y Futuras',\n",
    "    xaxis_title='Fecha',\n",
    "    yaxis_title='Precio',\n",
    "    legend=dict(x=0, y=1.1),\n",
    "    margin=dict(l=40, r=40, t=40, b=40),\n",
    "    hovermode='x',\n",
    "    template='plotly_white'\n",
    ")\n",
    "\n",
    "# Mostrar el gráfico\n",
    "fig.show()"
   ]
  },
  {
   "cell_type": "markdown",
   "metadata": {},
   "source": [
    "# Modelos sin recomenpensa: 4h, 1h y 5m\n"
   ]
  },
  {
   "cell_type": "code",
   "execution_count": 3,
   "metadata": {},
   "outputs": [],
   "source": [
    "conn = sql.connect('Data/db/btc.db')\n",
    "cursor = conn.cursor()\n",
    "df_4h = pd.read_sql_query(\"SELECT * FROM btc_4h\", conn)\n",
    "df_1h = pd.read_sql_query(\"SELECT * FROM btc_1h\", conn)\n",
    "df_5m = pd.read_sql_query(\"SELECT * FROM btc_5m\", conn)\n",
    "df_4h.drop(columns=['open', 'high', 'low', 'volume',\n",
    "       'return', 'diff', 'volatility', 'rsi_14',\n",
    "       'rsi_28', 'rsi_14_shifted', 'rsi_28_shifted', 'ma_5', 'ma_20', 'ma_100',\n",
    "       'MiddleBand', 'UpperBand', 'LowerBand', 'K', 'D', 'close_shifted', 'TR',\n",
    "       'ATR', 'TP', 'CCI', 'lag1_TR', 'lag2_TR', 'lag1_ATR', 'lag2_ATR'],inplace=True)\n",
    "df_1h.drop(columns=['open', 'high', 'low', 'volume',\n",
    "       'return', 'diff', 'volatility', 'rsi_14',\n",
    "       'rsi_28', 'rsi_14_shifted', 'rsi_28_shifted', 'ma_5', 'ma_20', 'ma_100',\n",
    "       'MiddleBand', 'UpperBand', 'LowerBand', 'K', 'D', 'close_shifted', 'TR',\n",
    "       'ATR', 'TP', 'CCI', 'lag1_TR', 'lag2_TR', 'lag1_ATR', 'lag2_ATR'],inplace=True)\n",
    "df_5m.drop(columns=['open', 'high', 'low', 'volume',\n",
    "       'return', 'diff', 'volatility', 'rsi_14',\n",
    "       'rsi_28', 'rsi_14_shifted', 'rsi_28_shifted', 'ma_5', 'ma_20', 'ma_100',\n",
    "       'MiddleBand', 'UpperBand', 'LowerBand', 'K', 'D', 'close_shifted', 'TR',\n",
    "       'ATR', 'TP', 'CCI', 'lag1_TR', 'lag2_TR', 'lag1_ATR', 'lag2_ATR'],inplace=True)"
   ]
  },
  {
   "cell_type": "code",
   "execution_count": 18,
   "metadata": {},
   "outputs": [
    {
     "name": "stdout",
     "output_type": "stream",
     "text": [
      "2.0.3\n",
      "1.26.2\n"
     ]
    }
   ],
   "source": [
    "print(pd.__version__)\n",
    "print(np.__version__)"
   ]
  },
  {
   "cell_type": "code",
   "execution_count": 4,
   "metadata": {},
   "outputs": [],
   "source": [
    "fecha_4h = df_4h['date'][-1:].values[0]\n",
    "fecha_1h = df_1h['date'][-1:].values[0]\n",
    "fecha_5m = df_5m['date'][-1:].values[0]\n",
    "ultima_fecha_4h = pd.to_datetime(fecha_4h)\n",
    "ultima_fecha_1h = pd.to_datetime(fecha_1h)\n",
    "ultima_fecha_5m = pd.to_datetime(fecha_5m)"
   ]
  },
  {
   "cell_type": "code",
   "execution_count": 6,
   "metadata": {},
   "outputs": [
    {
     "name": "stdout",
     "output_type": "stream",
     "text": [
      "2024-08-04 00:00:27\n",
      "<class 'pandas._libs.tslibs.timestamps.Timestamp'>\n",
      "2024-09-04 18:59:32\n",
      "2024-08-04 01:14:44\n"
     ]
    }
   ],
   "source": [
    "print(ultima_fecha_4h)\n",
    "print(type(ultima_fecha_4h))\n",
    "print(ultima_fecha_1h)\n",
    "print(ultima_fecha_5m)"
   ]
  },
  {
   "cell_type": "code",
   "execution_count": null,
   "metadata": {},
   "outputs": [],
   "source": []
  },
  {
   "cell_type": "code",
   "execution_count": 7,
   "metadata": {},
   "outputs": [
    {
     "name": "stdout",
     "output_type": "stream",
     "text": [
      "10940\n"
     ]
    }
   ],
   "source": [
    "\n",
    "# Número de días que quieres generar (ajusta este valor según tu necesidad)\n",
    "num_instancias_4h = len(df_4h)\n",
    "num_instancias_1h = len(df_1h)\n",
    "num_instancias_5m = len(df_5m)\n",
    "print(num_instancias_4h)\n",
    "# Crear una lista de fechas decrementando un día en cada iteración\n",
    "fechas_4h = pd.date_range(end=ultima_fecha_4h, periods=num_instancias_4h,freq='4H')\n",
    "fechas_1h = pd.date_range(end=ultima_fecha_1h, periods=num_instancias_1h,freq='1H')\n",
    "fechas_5m = pd.date_range(end=ultima_fecha_5m, periods=num_instancias_5m,freq='5min')"
   ]
  },
  {
   "cell_type": "code",
   "execution_count": 8,
   "metadata": {},
   "outputs": [
    {
     "name": "stdout",
     "output_type": "stream",
     "text": [
      "DatetimeIndex(['2024-08-03 20:00:27', '2024-08-04 00:00:27'], dtype='datetime64[ns]', freq='4H')\n",
      "DatetimeIndex(['2024-09-04 17:59:32', '2024-09-04 18:59:32'], dtype='datetime64[ns]', freq='H')\n",
      "DatetimeIndex(['2024-08-04 01:09:44', '2024-08-04 01:14:44'], dtype='datetime64[ns]', freq='5T')\n"
     ]
    }
   ],
   "source": [
    "print(fechas_4h[-2:])\n",
    "print(fechas_1h[-2:])\n",
    "print(fechas_5m[-2:])"
   ]
  },
  {
   "cell_type": "code",
   "execution_count": 9,
   "metadata": {},
   "outputs": [],
   "source": [
    "df_4h['date'] = fechas_4h\n",
    "df_1h['date'] = fechas_1h\n",
    "df_5m['date'] = fechas_5m\n",
    "\n",
    "df_4h.index = fechas_4h\n",
    "df_1h.index = fechas_1h\n",
    "df_5m.index = fechas_5m"
   ]
  },
  {
   "cell_type": "markdown",
   "metadata": {},
   "source": [
    "# data 4h"
   ]
  },
  {
   "cell_type": "code",
   "execution_count": 10,
   "metadata": {},
   "outputs": [],
   "source": [
    "last_date = df_4h['date'][-1:].values[0]\n",
    "first_date = df_4h['date'][:2].values[0]\n",
    "data_4h = df_4h.loc[first_date:last_date]\n",
    "inicio_train = first_date\n",
    "fin_train = last_date - pd.DateOffset(days=365)\n",
    "fin_validacion = last_date - pd.DateOffset(days=1)"
   ]
  },
  {
   "cell_type": "code",
   "execution_count": 12,
   "metadata": {},
   "outputs": [
    {
     "name": "stdout",
     "output_type": "stream",
     "text": [
      "<class 'numpy.datetime64'>\n",
      "<class 'numpy.datetime64'>\n",
      "<class 'numpy.datetime64'>\n",
      "<class 'pandas._libs.tslibs.timestamps.Timestamp'>\n"
     ]
    }
   ],
   "source": [
    "print(type(last_date))\n",
    "print(type(first_date))\n",
    "print(type(inicio_train))\n",
    "print(type(fin_train))"
   ]
  },
  {
   "cell_type": "code",
   "execution_count": 17,
   "metadata": {},
   "outputs": [
    {
     "name": "stdout",
     "output_type": "stream",
     "text": [
      "2019-08-07T20:00:27.000000000\n",
      "2023-08-05 00:00:27\n"
     ]
    }
   ],
   "source": [
    "print(inicio_train)\n",
    "print(fin_train)"
   ]
  },
  {
   "cell_type": "code",
   "execution_count": 15,
   "metadata": {},
   "outputs": [],
   "source": [
    "# Crear el forecaster con el modelo LGBM y los lags deseados\n",
    "forecaster = ForecasterAutoreg(\n",
    "    regressor        = LGBMRegressor(random_state=123, verbose=-1),\n",
    "    lags             = [1,30,90,180]  # Ajusta según tus necesidades\n",
    ")"
   ]
  },
  {
   "cell_type": "code",
   "execution_count": 16,
   "metadata": {},
   "outputs": [
    {
     "name": "stderr",
     "output_type": "stream",
     "text": [
      "c:\\Users\\Pablo\\AppData\\Local\\Programs\\Python\\Python311\\Lib\\site-packages\\skforecast\\model_selection\\model_selection.py:548: LongTrainingWarning: The forecaster will be fit 2190 times. This can take substantial amounts of time. If not feasible, try with `refit = False`.\n",
      " \n",
      " You can suppress this warning using: warnings.simplefilter('ignore', category=LongTrainingWarning)\n",
      "  warnings.warn(\n"
     ]
    },
    {
     "data": {
      "application/vnd.jupyter.widget-view+json": {
       "model_id": "b6ec1ec9bf5a449eb88b139a306a067a",
       "version_major": 2,
       "version_minor": 0
      },
      "text/plain": [
       "  0%|          | 0/2190 [00:00<?, ?it/s]"
      ]
     },
     "metadata": {},
     "output_type": "display_data"
    },
    {
     "name": "stdout",
     "output_type": "stream",
     "text": [
      "MAPE del modelo: 0.007457499212496319\n"
     ]
    }
   ],
   "source": [
    "# Realizar backtesting para evaluar el modelo\n",
    "metrica, predicciones = backtesting_forecaster(\n",
    "    forecaster         = forecaster,\n",
    "    y                  = df_4h.loc[inicio_train:, 'close'],\n",
    "    initial_train_size = len(df_4h.loc[inicio_train:fin_train,]),\n",
    "    fixed_train_size   = True,\n",
    "    steps              = 1,\n",
    "    refit              = True,\n",
    "    metric             = 'mean_absolute_percentage_error',\n",
    "    verbose            = False,\n",
    "    show_progress      = True\n",
    ")\n",
    "\n",
    "# Imprimir la métrica de error\n",
    "print(f'MAPE del modelo: {metrica}')"
   ]
  },
  {
   "cell_type": "code",
   "execution_count": 75,
   "metadata": {},
   "outputs": [
    {
     "data": {
      "text/html": [
       "<div>\n",
       "<style scoped>\n",
       "    .dataframe tbody tr th:only-of-type {\n",
       "        vertical-align: middle;\n",
       "    }\n",
       "\n",
       "    .dataframe tbody tr th {\n",
       "        vertical-align: top;\n",
       "    }\n",
       "\n",
       "    .dataframe thead th {\n",
       "        text-align: right;\n",
       "    }\n",
       "</style>\n",
       "<table border=\"1\" class=\"dataframe\">\n",
       "  <thead>\n",
       "    <tr style=\"text-align: right;\">\n",
       "      <th></th>\n",
       "      <th>pred</th>\n",
       "    </tr>\n",
       "  </thead>\n",
       "  <tbody>\n",
       "    <tr>\n",
       "      <th>2023-08-05 04:00:27</th>\n",
       "      <td>29124.149021</td>\n",
       "    </tr>\n",
       "    <tr>\n",
       "      <th>2023-08-05 08:00:27</th>\n",
       "      <td>29165.410046</td>\n",
       "    </tr>\n",
       "    <tr>\n",
       "      <th>2023-08-05 12:00:27</th>\n",
       "      <td>29146.419354</td>\n",
       "    </tr>\n",
       "    <tr>\n",
       "      <th>2023-08-05 16:00:27</th>\n",
       "      <td>29134.335308</td>\n",
       "    </tr>\n",
       "    <tr>\n",
       "      <th>2023-08-05 20:00:27</th>\n",
       "      <td>29111.613359</td>\n",
       "    </tr>\n",
       "    <tr>\n",
       "      <th>...</th>\n",
       "      <td>...</td>\n",
       "    </tr>\n",
       "    <tr>\n",
       "      <th>2024-08-03 08:00:27</th>\n",
       "      <td>61663.761963</td>\n",
       "    </tr>\n",
       "    <tr>\n",
       "      <th>2024-08-03 12:00:27</th>\n",
       "      <td>61832.251473</td>\n",
       "    </tr>\n",
       "    <tr>\n",
       "      <th>2024-08-03 16:00:27</th>\n",
       "      <td>61193.791109</td>\n",
       "    </tr>\n",
       "    <tr>\n",
       "      <th>2024-08-03 20:00:27</th>\n",
       "      <td>60256.371871</td>\n",
       "    </tr>\n",
       "    <tr>\n",
       "      <th>2024-08-04 00:00:27</th>\n",
       "      <td>60868.071046</td>\n",
       "    </tr>\n",
       "  </tbody>\n",
       "</table>\n",
       "<p>2190 rows × 1 columns</p>\n",
       "</div>"
      ],
      "text/plain": [
       "                             pred\n",
       "2023-08-05 04:00:27  29124.149021\n",
       "2023-08-05 08:00:27  29165.410046\n",
       "2023-08-05 12:00:27  29146.419354\n",
       "2023-08-05 16:00:27  29134.335308\n",
       "2023-08-05 20:00:27  29111.613359\n",
       "...                           ...\n",
       "2024-08-03 08:00:27  61663.761963\n",
       "2024-08-03 12:00:27  61832.251473\n",
       "2024-08-03 16:00:27  61193.791109\n",
       "2024-08-03 20:00:27  60256.371871\n",
       "2024-08-04 00:00:27  60868.071046\n",
       "\n",
       "[2190 rows x 1 columns]"
      ]
     },
     "execution_count": 75,
     "metadata": {},
     "output_type": "execute_result"
    }
   ],
   "source": [
    "predicciones"
   ]
  },
  {
   "cell_type": "code",
   "execution_count": 76,
   "metadata": {},
   "outputs": [
    {
     "data": {
      "text/plain": [
       "<matplotlib.legend.Legend at 0x24137153a10>"
      ]
     },
     "execution_count": 76,
     "metadata": {},
     "output_type": "execute_result"
    },
    {
     "data": {
      "image/png": "[encoded data removed]",
      "text/plain": [
       "<Figure size 1500x500 with 1 Axes>"
      ]
     },
     "metadata": {},
     "output_type": "display_data"
    }
   ],
   "source": [
    "fig, ax = plt.subplots(figsize=(15,5))\n",
    "df_4h.loc[predicciones.index,'close'].plot(ax=ax,linewidth=2,label='test')\n",
    "predicciones.plot(linewidth=2, label='Prediccion',ax=ax)\n",
    "ax.set_title('predicciones vs precio de cierre')\n",
    "ax.legend()"
   ]
  },
  {
   "cell_type": "code",
   "execution_count": 77,
   "metadata": {},
   "outputs": [],
   "source": [
    "# Entrenar el modelo con todos los datos disponibles hasta la fecha actual\n",
    "forecaster.fit(\n",
    "    y    = df_4h['close'])"
   ]
  },
  {
   "cell_type": "code",
   "execution_count": 78,
   "metadata": {},
   "outputs": [
    {
     "name": "stdout",
     "output_type": "stream",
     "text": [
      "Predicción para el último valor: 2024-08-04 04:00:27    60420.121688\n",
      "2024-08-04 08:00:27    60440.255533\n",
      "2024-08-04 12:00:27    60470.175187\n",
      "2024-08-04 16:00:27    60560.069686\n",
      "2024-08-04 20:00:27    60470.175187\n",
      "Freq: 4H, Name: pred, dtype: float64\n"
     ]
    }
   ],
   "source": [
    "# Predecir el último valor\n",
    "pred_ultimo_valor = forecaster.predict(steps=5)\n",
    "print(f'Predicción para el último valor: {pred_ultimo_valor}')"
   ]
  },
  {
   "cell_type": "code",
   "execution_count": 79,
   "metadata": {},
   "outputs": [
    {
     "name": "stdout",
     "output_type": "stream",
     "text": [
      "<class 'pandas.core.series.Series'>\n",
      "<class 'pandas.core.frame.DataFrame'>\n"
     ]
    }
   ],
   "source": [
    "print(type(pred_ultimo_valor))\n",
    "pred_ultimo_valor = pd.DataFrame(pred_ultimo_valor)\n",
    "print(type(pred_ultimo_valor))\n"
   ]
  },
  {
   "cell_type": "code",
   "execution_count": 80,
   "metadata": {},
   "outputs": [
    {
     "data": {
      "text/html": [
       "<div>\n",
       "<style scoped>\n",
       "    .dataframe tbody tr th:only-of-type {\n",
       "        vertical-align: middle;\n",
       "    }\n",
       "\n",
       "    .dataframe tbody tr th {\n",
       "        vertical-align: top;\n",
       "    }\n",
       "\n",
       "    .dataframe thead th {\n",
       "        text-align: right;\n",
       "    }\n",
       "</style>\n",
       "<table border=\"1\" class=\"dataframe\">\n",
       "  <thead>\n",
       "    <tr style=\"text-align: right;\">\n",
       "      <th></th>\n",
       "      <th>pred</th>\n",
       "    </tr>\n",
       "  </thead>\n",
       "  <tbody>\n",
       "    <tr>\n",
       "      <th>2024-08-03 08:00:27</th>\n",
       "      <td>61663.761963</td>\n",
       "    </tr>\n",
       "    <tr>\n",
       "      <th>2024-08-03 12:00:27</th>\n",
       "      <td>61832.251473</td>\n",
       "    </tr>\n",
       "    <tr>\n",
       "      <th>2024-08-03 16:00:27</th>\n",
       "      <td>61193.791109</td>\n",
       "    </tr>\n",
       "    <tr>\n",
       "      <th>2024-08-03 20:00:27</th>\n",
       "      <td>60256.371871</td>\n",
       "    </tr>\n",
       "    <tr>\n",
       "      <th>2024-08-04 00:00:27</th>\n",
       "      <td>60868.071046</td>\n",
       "    </tr>\n",
       "    <tr>\n",
       "      <th>2024-08-04 04:00:27</th>\n",
       "      <td>60420.121688</td>\n",
       "    </tr>\n",
       "    <tr>\n",
       "      <th>2024-08-04 08:00:27</th>\n",
       "      <td>60440.255533</td>\n",
       "    </tr>\n",
       "    <tr>\n",
       "      <th>2024-08-04 12:00:27</th>\n",
       "      <td>60470.175187</td>\n",
       "    </tr>\n",
       "    <tr>\n",
       "      <th>2024-08-04 16:00:27</th>\n",
       "      <td>60560.069686</td>\n",
       "    </tr>\n",
       "    <tr>\n",
       "      <th>2024-08-04 20:00:27</th>\n",
       "      <td>60470.175187</td>\n",
       "    </tr>\n",
       "  </tbody>\n",
       "</table>\n",
       "</div>"
      ],
      "text/plain": [
       "                             pred\n",
       "2024-08-03 08:00:27  61663.761963\n",
       "2024-08-03 12:00:27  61832.251473\n",
       "2024-08-03 16:00:27  61193.791109\n",
       "2024-08-03 20:00:27  60256.371871\n",
       "2024-08-04 00:00:27  60868.071046\n",
       "2024-08-04 04:00:27  60420.121688\n",
       "2024-08-04 08:00:27  60440.255533\n",
       "2024-08-04 12:00:27  60470.175187\n",
       "2024-08-04 16:00:27  60560.069686\n",
       "2024-08-04 20:00:27  60470.175187"
      ]
     },
     "execution_count": 80,
     "metadata": {},
     "output_type": "execute_result"
    }
   ],
   "source": [
    "predicciones_4h = pd.concat(objs=[predicciones,pred_ultimo_valor], axis=0)\n",
    "#predicciones_4h = pd.concat(objs=[predicciones,pred_ultimo_valor], axis=0, ignore_index=True)\n",
    "predicciones_4h.tail(10)"
   ]
  },
  {
   "cell_type": "code",
   "execution_count": 81,
   "metadata": {},
   "outputs": [
    {
     "data": {
      "application/vnd.plotly.v1+json": {
       "config": {
        "plotlyServerURL": "https://plot.ly"
       },
       "data": [
        {
         "name": "Valores Reales",
         "type": "scatter",
         "x": [
          "2024-07-18T12:00:27",
          "2024-07-18T16:00:27",
          "2024-07-18T20:00:27",
          "2024-07-19T00:00:27",
          "2024-07-19T04:00:27",
          "2024-07-19T08:00:27",
          "2024-07-19T12:00:27",
          "2024-07-19T16:00:27",
          "2024-07-19T20:00:27",
          "2024-07-20T00:00:27",
          "2024-07-20T04:00:27",
          "2024-07-20T08:00:27",
          "2024-07-20T12:00:27",
          "2024-07-20T16:00:27",
          "2024-07-20T20:00:27",
          "2024-07-21T00:00:27",
          "2024-07-21T04:00:27",
          "2024-07-21T08:00:27",
          "2024-07-21T12:00:27",
          "2024-07-21T16:00:27",
          "2024-07-21T20:00:27",
          "2024-07-22T00:00:27",
          "2024-07-22T04:00:27",
          "2024-07-22T08:00:27",
          "2024-07-22T12:00:27",
          "2024-07-22T16:00:27",
          "2024-07-22T20:00:27",
          "2024-07-23T00:00:27",
          "2024-07-23T04:00:27",
          "2024-07-23T08:00:27",
          "2024-07-23T12:00:27",
          "2024-07-23T16:00:27",
          "2024-07-23T20:00:27",
          "2024-07-24T00:00:27",
          "2024-07-24T04:00:27",
          "2024-07-24T08:00:27",
          "2024-07-24T12:00:27",
          "2024-07-24T16:00:27",
          "2024-07-24T20:00:27",
          "2024-07-25T00:00:27",
          "2024-07-25T04:00:27",
          "2024-07-25T08:00:27",
          "2024-07-25T12:00:27",
          "2024-07-25T16:00:27",
          "2024-07-25T20:00:27",
          "2024-07-26T00:00:27",
          "2024-07-26T04:00:27",
          "2024-07-26T08:00:27",
          "2024-07-26T12:00:27",
          "2024-07-26T16:00:27",
          "2024-07-26T20:00:27",
          "2024-07-27T00:00:27",
          "2024-07-27T04:00:27",
          "2024-07-27T08:00:27",
          "2024-07-27T12:00:27",
          "2024-07-27T16:00:27",
          "2024-07-27T20:00:27",
          "2024-07-28T00:00:27",
          "2024-07-28T04:00:27",
          "2024-07-28T08:00:27",
          "2024-07-28T12:00:27",
          "2024-07-28T16:00:27",
          "2024-07-28T20:00:27",
          "2024-07-29T00:00:27",
          "2024-07-29T04:00:27",
          "2024-07-29T08:00:27",
          "2024-07-29T12:00:27",
          "2024-07-29T16:00:27",
          "2024-07-29T20:00:27",
          "2024-07-30T00:00:27",
          "2024-07-30T04:00:27",
          "2024-07-30T08:00:27",
          "2024-07-30T12:00:27",
          "2024-07-30T16:00:27",
          "2024-07-30T20:00:27",
          "2024-07-31T00:00:27",
          "2024-07-31T04:00:27",
          "2024-07-31T08:00:27",
          "2024-07-31T12:00:27",
          "2024-07-31T16:00:27",
          "2024-07-31T20:00:27",
          "2024-08-01T00:00:27",
          "2024-08-01T04:00:27",
          "2024-08-01T08:00:27",
          "2024-08-01T12:00:27",
          "2024-08-01T16:00:27",
          "2024-08-01T20:00:27",
          "2024-08-02T00:00:27",
          "2024-08-02T04:00:27",
          "2024-08-02T08:00:27",
          "2024-08-02T12:00:27",
          "2024-08-02T16:00:27",
          "2024-08-02T20:00:27",
          "2024-08-03T00:00:27",
          "2024-08-03T04:00:27",
          "2024-08-03T08:00:27",
          "2024-08-03T12:00:27",
          "2024-08-03T16:00:27",
          "2024-08-03T20:00:27",
          "2024-08-04T00:00:27"
         ],
         "y": [
          63538.12,
          63555,
          63987.92,
          64325,
          63694.01,
          64116,
          65836.77,
          67157.26,
          66660,
          66602.01,
          66562.28,
          66483.69,
          66825,
          67224,
          67139.96,
          67171.33,
          66701.99,
          66879.99,
          67164,
          67422.02,
          68165.34,
          67880.01,
          67236,
          67516.01,
          67063.87,
          68232.07,
          67532.01,
          67473.99,
          66576,
          66676.01,
          66584.01,
          65536.01,
          65936.01,
          66052.71,
          66078,
          66367.99,
          66176,
          65652,
          65376,
          64093.59,
          64134,
          64096,
          64790.88,
          64692.01,
          65799.95,
          67042.01,
          66890.56,
          67322,
          67560.01,
          67990,
          67907.99,
          67798,
          68036.68,
          68209.88,
          68844,
          68246,
          67896.5,
          67940.95,
          67560.86,
          67836,
          67645,
          68112,
          68249.88,
          69347.67,
          69528.01,
          69580.01,
          68104,
          67303.05,
          66784.69,
          66610,
          66952,
          66574.01,
          66216.01,
          65931.02,
          66188,
          66058,
          66224,
          66094.01,
          66379.99,
          65256.83,
          64628,
          63936.01,
          64328.59,
          64674.25,
          62906.6,
          63422.01,
          65354.02,
          64609.18,
          64164.07,
          64660.01,
          63416.01,
          62633.57,
          61498.33,
          61895.99,
          61662.01,
          61919.38,
          60879,
          60246,
          60697.99,
          60543.74
         ]
        },
        {
         "name": "Valores Reales y Predicciones en Últimos 5 Pasos",
         "type": "scatter",
         "x": [
          "2024-07-19T08:00:27",
          "2024-07-19T12:00:27",
          "2024-07-19T16:00:27",
          "2024-07-19T20:00:27",
          "2024-07-20T00:00:27",
          "2024-07-20T04:00:27",
          "2024-07-20T08:00:27",
          "2024-07-20T12:00:27",
          "2024-07-20T16:00:27",
          "2024-07-20T20:00:27",
          "2024-07-21T00:00:27",
          "2024-07-21T04:00:27",
          "2024-07-21T08:00:27",
          "2024-07-21T12:00:27",
          "2024-07-21T16:00:27",
          "2024-07-21T20:00:27",
          "2024-07-22T00:00:27",
          "2024-07-22T04:00:27",
          "2024-07-22T08:00:27",
          "2024-07-22T12:00:27",
          "2024-07-22T16:00:27",
          "2024-07-22T20:00:27",
          "2024-07-23T00:00:27",
          "2024-07-23T04:00:27",
          "2024-07-23T08:00:27",
          "2024-07-23T12:00:27",
          "2024-07-23T16:00:27",
          "2024-07-23T20:00:27",
          "2024-07-24T00:00:27",
          "2024-07-24T04:00:27",
          "2024-07-24T08:00:27",
          "2024-07-24T12:00:27",
          "2024-07-24T16:00:27",
          "2024-07-24T20:00:27",
          "2024-07-25T00:00:27",
          "2024-07-25T04:00:27",
          "2024-07-25T08:00:27",
          "2024-07-25T12:00:27",
          "2024-07-25T16:00:27",
          "2024-07-25T20:00:27",
          "2024-07-26T00:00:27",
          "2024-07-26T04:00:27",
          "2024-07-26T08:00:27",
          "2024-07-26T12:00:27",
          "2024-07-26T16:00:27",
          "2024-07-26T20:00:27",
          "2024-07-27T00:00:27",
          "2024-07-27T04:00:27",
          "2024-07-27T08:00:27",
          "2024-07-27T12:00:27",
          "2024-07-27T16:00:27",
          "2024-07-27T20:00:27",
          "2024-07-28T00:00:27",
          "2024-07-28T04:00:27",
          "2024-07-28T08:00:27",
          "2024-07-28T12:00:27",
          "2024-07-28T16:00:27",
          "2024-07-28T20:00:27",
          "2024-07-29T00:00:27",
          "2024-07-29T04:00:27",
          "2024-07-29T08:00:27",
          "2024-07-29T12:00:27",
          "2024-07-29T16:00:27",
          "2024-07-29T20:00:27",
          "2024-07-30T00:00:27",
          "2024-07-30T04:00:27",
          "2024-07-30T08:00:27",
          "2024-07-30T12:00:27",
          "2024-07-30T16:00:27",
          "2024-07-30T20:00:27",
          "2024-07-31T00:00:27",
          "2024-07-31T04:00:27",
          "2024-07-31T08:00:27",
          "2024-07-31T12:00:27",
          "2024-07-31T16:00:27",
          "2024-07-31T20:00:27",
          "2024-08-01T00:00:27",
          "2024-08-01T04:00:27",
          "2024-08-01T08:00:27",
          "2024-08-01T12:00:27",
          "2024-08-01T16:00:27",
          "2024-08-01T20:00:27",
          "2024-08-02T00:00:27",
          "2024-08-02T04:00:27",
          "2024-08-02T08:00:27",
          "2024-08-02T12:00:27",
          "2024-08-02T16:00:27",
          "2024-08-02T20:00:27",
          "2024-08-03T00:00:27",
          "2024-08-03T04:00:27",
          "2024-08-03T08:00:27",
          "2024-08-03T12:00:27",
          "2024-08-03T16:00:27",
          "2024-08-03T20:00:27",
          "2024-08-04T00:00:27",
          "2024-08-04T04:00:27",
          "2024-08-04T08:00:27",
          "2024-08-04T12:00:27",
          "2024-08-04T16:00:27",
          "2024-08-04T20:00:27"
         ],
         "y": [
          64351.87087020583,
          64369.77210669267,
          66054.51119890652,
          67213.04392220348,
          66910.73612806993,
          66600.63138611995,
          66510.56101282794,
          66771.34228810982,
          66811.62136501727,
          67700.85431995506,
          67341.25404696495,
          67482.76431873652,
          66790.15407331109,
          66583.03434955237,
          67502.31637172721,
          67856.12055275995,
          68090.79797625505,
          67960.95152771748,
          67449.14653080128,
          67788.16088668695,
          67314.05726297239,
          67760.83185197884,
          67432.88313378078,
          67551.23613618371,
          66444.9502946948,
          66583.90202948928,
          66693.01932829621,
          65893.56430572808,
          66333.39933924584,
          66186.2674106231,
          66253.53542042265,
          66488.00421989766,
          66431.65790808543,
          65804.92669107407,
          65754.47244155373,
          63842.56805112325,
          63790.3408740958,
          63977.60226093847,
          64572.327420165544,
          64615.85590127996,
          66010.22412100075,
          66913.26576846727,
          67139.18847426973,
          67908.15809060291,
          67799.64139494191,
          68152.76658757994,
          68003.84924280582,
          68097.85789427396,
          67993.75250043461,
          67825.89803579678,
          69408.67725452254,
          67978.13793524665,
          68037.27499825947,
          67843.221111979,
          67698.10858912859,
          67582.20067604026,
          67433.54479423085,
          67880.02851807547,
          68419.89330723452,
          69338.30952262525,
          69797.15146639472,
          69455.51194327636,
          68034.33864884719,
          67091.12669101506,
          66903.3285361453,
          66617.42181450354,
          67488.11784285915,
          66396.9667883007,
          66176.4295645133,
          66169.26895322693,
          66457.07123816128,
          66132.62649641346,
          66238.820118784,
          66174.2785384746,
          66227.34141112541,
          65443.50714635819,
          64465.33631399783,
          63995.64445978021,
          64377.02489178637,
          64568.81008049822,
          62905.6581333941,
          63290.919493370406,
          65719.86930502507,
          64148.095182850135,
          64081.93445192373,
          64400.19257031472,
          63606.40585943474,
          63033.58588173142,
          61749.7596068385,
          62215.482149967946,
          61663.76196311937,
          61832.251473432254,
          61193.791108794954,
          60256.37187112773,
          60868.071045651785,
          60420.12168755579,
          60440.25553259344,
          60470.175186887725,
          60560.069686004725,
          60470.175186887725
         ]
        }
       ],
       "layout": {
        "hovermode": "x",
        "legend": {
         "x": 0,
         "y": 1.1
        },
        "margin": {
         "b": 40,
         "l": 40,
         "r": 40,
         "t": 40
        },
        "template": {
         "data": {
          "bar": [
           {
            "error_x": {
             "color": "#2a3f5f"
            },
            "error_y": {
             "color": "#2a3f5f"
            },
            "marker": {
             "line": {
              "color": "white",
              "width": 0.5
             },
             "pattern": {
              "fillmode": "overlay",
              "size": 10,
              "solidity": 0.2
             }
            },
            "type": "bar"
           }
          ],
          "barpolar": [
           {
            "marker": {
             "line": {
              "color": "white",
              "width": 0.5
             },
             "pattern": {
              "fillmode": "overlay",
              "size": 10,
              "solidity": 0.2
             }
            },
            "type": "barpolar"
           }
          ],
          "carpet": [
           {
            "aaxis": {
             "endlinecolor": "#2a3f5f",
             "gridcolor": "#C8D4E3",
             "linecolor": "#C8D4E3",
             "minorgridcolor": "#C8D4E3",
             "startlinecolor": "#2a3f5f"
            },
            "baxis": {
             "endlinecolor": "#2a3f5f",
             "gridcolor": "#C8D4E3",
             "linecolor": "#C8D4E3",
             "minorgridcolor": "#C8D4E3",
             "startlinecolor": "#2a3f5f"
            },
            "type": "carpet"
           }
          ],
          "choropleth": [
           {
            "colorbar": {
             "outlinewidth": 0,
             "ticks": ""
            },
            "type": "choropleth"
           }
          ],
          "contour": [
           {
            "colorbar": {
             "outlinewidth": 0,
             "ticks": ""
            },
            "colorscale": [
             [
              0,
              "#0d0887"
             ],
             [
              0.1111111111111111,
              "#46039f"
             ],
             [
              0.2222222222222222,
              "#7201a8"
             ],
             [
              0.3333333333333333,
              "#9c179e"
             ],
             [
              0.4444444444444444,
              "#bd3786"
             ],
             [
              0.5555555555555556,
              "#d8576b"
             ],
             [
              0.6666666666666666,
              "#ed7953"
             ],
             [
              0.7777777777777778,
              "#fb9f3a"
             ],
             [
              0.8888888888888888,
              "#fdca26"
             ],
             [
              1,
              "#f0f921"
             ]
            ],
            "type": "contour"
           }
          ],
          "contourcarpet": [
           {
            "colorbar": {
             "outlinewidth": 0,
             "ticks": ""
            },
            "type": "contourcarpet"
           }
          ],
          "heatmap": [
           {
            "colorbar": {
             "outlinewidth": 0,
             "ticks": ""
            },
            "colorscale": [
             [
              0,
              "#0d0887"
             ],
             [
              0.1111111111111111,
              "#46039f"
             ],
             [
              0.2222222222222222,
              "#7201a8"
             ],
             [
              0.3333333333333333,
              "#9c179e"
             ],
             [
              0.4444444444444444,
              "#bd3786"
             ],
             [
              0.5555555555555556,
              "#d8576b"
             ],
             [
              0.6666666666666666,
              "#ed7953"
             ],
             [
              0.7777777777777778,
              "#fb9f3a"
             ],
             [
              0.8888888888888888,
              "#fdca26"
             ],
             [
              1,
              "#f0f921"
             ]
            ],
            "type": "heatmap"
           }
          ],
          "heatmapgl": [
           {
            "colorbar": {
             "outlinewidth": 0,
             "ticks": ""
            },
            "colorscale": [
             [
              0,
              "#0d0887"
             ],
             [
              0.1111111111111111,
              "#46039f"
             ],
             [
              0.2222222222222222,
              "#7201a8"
             ],
             [
              0.3333333333333333,
              "#9c179e"
             ],
             [
              0.4444444444444444,
              "#bd3786"
             ],
             [
              0.5555555555555556,
              "#d8576b"
             ],
             [
              0.6666666666666666,
              "#ed7953"
             ],
             [
              0.7777777777777778,
              "#fb9f3a"
             ],
             [
              0.8888888888888888,
              "#fdca26"
             ],
             [
              1,
              "#f0f921"
             ]
            ],
            "type": "heatmapgl"
           }
          ],
          "histogram": [
           {
            "marker": {
             "pattern": {
              "fillmode": "overlay",
              "size": 10,
              "solidity": 0.2
             }
            },
            "type": "histogram"
           }
          ],
          "histogram2d": [
           {
            "colorbar": {
             "outlinewidth": 0,
             "ticks": ""
            },
            "colorscale": [
             [
              0,
              "#0d0887"
             ],
             [
              0.1111111111111111,
              "#46039f"
             ],
             [
              0.2222222222222222,
              "#7201a8"
             ],
             [
              0.3333333333333333,
              "#9c179e"
             ],
             [
              0.4444444444444444,
              "#bd3786"
             ],
             [
              0.5555555555555556,
              "#d8576b"
             ],
             [
              0.6666666666666666,
              "#ed7953"
             ],
             [
              0.7777777777777778,
              "#fb9f3a"
             ],
             [
              0.8888888888888888,
              "#fdca26"
             ],
             [
              1,
              "#f0f921"
             ]
            ],
            "type": "histogram2d"
           }
          ],
          "histogram2dcontour": [
           {
            "colorbar": {
             "outlinewidth": 0,
             "ticks": ""
            },
            "colorscale": [
             [
              0,
              "#0d0887"
             ],
             [
              0.1111111111111111,
              "#46039f"
             ],
             [
              0.2222222222222222,
              "#7201a8"
             ],
             [
              0.3333333333333333,
              "#9c179e"
             ],
             [
              0.4444444444444444,
              "#bd3786"
             ],
             [
              0.5555555555555556,
              "#d8576b"
             ],
             [
              0.6666666666666666,
              "#ed7953"
             ],
             [
              0.7777777777777778,
              "#fb9f3a"
             ],
             [
              0.8888888888888888,
              "#fdca26"
             ],
             [
              1,
              "#f0f921"
             ]
            ],
            "type": "histogram2dcontour"
           }
          ],
          "mesh3d": [
           {
            "colorbar": {
             "outlinewidth": 0,
             "ticks": ""
            },
            "type": "mesh3d"
           }
          ],
          "parcoords": [
           {
            "line": {
             "colorbar": {
              "outlinewidth": 0,
              "ticks": ""
             }
            },
            "type": "parcoords"
           }
          ],
          "pie": [
           {
            "automargin": true,
            "type": "pie"
           }
          ],
          "scatter": [
           {
            "fillpattern": {
             "fillmode": "overlay",
             "size": 10,
             "solidity": 0.2
            },
            "type": "scatter"
           }
          ],
          "scatter3d": [
           {
            "line": {
             "colorbar": {
              "outlinewidth": 0,
              "ticks": ""
             }
            },
            "marker": {
             "colorbar": {
              "outlinewidth": 0,
              "ticks": ""
             }
            },
            "type": "scatter3d"
           }
          ],
          "scattercarpet": [
           {
            "marker": {
             "colorbar": {
              "outlinewidth": 0,
              "ticks": ""
             }
            },
            "type": "scattercarpet"
           }
          ],
          "scattergeo": [
           {
            "marker": {
             "colorbar": {
              "outlinewidth": 0,
              "ticks": ""
             }
            },
            "type": "scattergeo"
           }
          ],
          "scattergl": [
           {
            "marker": {
             "colorbar": {
              "outlinewidth": 0,
              "ticks": ""
             }
            },
            "type": "scattergl"
           }
          ],
          "scattermapbox": [
           {
            "marker": {
             "colorbar": {
              "outlinewidth": 0,
              "ticks": ""
             }
            },
            "type": "scattermapbox"
           }
          ],
          "scatterpolar": [
           {
            "marker": {
             "colorbar": {
              "outlinewidth": 0,
              "ticks": ""
             }
            },
            "type": "scatterpolar"
           }
          ],
          "scatterpolargl": [
           {
            "marker": {
             "colorbar": {
              "outlinewidth": 0,
              "ticks": ""
             }
            },
            "type": "scatterpolargl"
           }
          ],
          "scatterternary": [
           {
            "marker": {
             "colorbar": {
              "outlinewidth": 0,
              "ticks": ""
             }
            },
            "type": "scatterternary"
           }
          ],
          "surface": [
           {
            "colorbar": {
             "outlinewidth": 0,
             "ticks": ""
            },
            "colorscale": [
             [
              0,
              "#0d0887"
             ],
             [
              0.1111111111111111,
              "#46039f"
             ],
             [
              0.2222222222222222,
              "#7201a8"
             ],
             [
              0.3333333333333333,
              "#9c179e"
             ],
             [
              0.4444444444444444,
              "#bd3786"
             ],
             [
              0.5555555555555556,
              "#d8576b"
             ],
             [
              0.6666666666666666,
              "#ed7953"
             ],
             [
              0.7777777777777778,
              "#fb9f3a"
             ],
             [
              0.8888888888888888,
              "#fdca26"
             ],
             [
              1,
              "#f0f921"
             ]
            ],
            "type": "surface"
           }
          ],
          "table": [
           {
            "cells": {
             "fill": {
              "color": "#EBF0F8"
             },
             "line": {
              "color": "white"
             }
            },
            "header": {
             "fill": {
              "color": "#C8D4E3"
             },
             "line": {
              "color": "white"
             }
            },
            "type": "table"
           }
          ]
         },
         "layout": {
          "annotationdefaults": {
           "arrowcolor": "#2a3f5f",
           "arrowhead": 0,
           "arrowwidth": 1
          },
          "autotypenumbers": "strict",
          "coloraxis": {
           "colorbar": {
            "outlinewidth": 0,
            "ticks": ""
           }
          },
          "colorscale": {
           "diverging": [
            [
             0,
             "#8e0152"
            ],
            [
             0.1,
             "#c51b7d"
            ],
            [
             0.2,
             "#de77ae"
            ],
            [
             0.3,
             "#f1b6da"
            ],
            [
             0.4,
             "#fde0ef"
            ],
            [
             0.5,
             "#f7f7f7"
            ],
            [
             0.6,
             "#e6f5d0"
            ],
            [
             0.7,
             "#b8e186"
            ],
            [
             0.8,
             "#7fbc41"
            ],
            [
             0.9,
             "#4d9221"
            ],
            [
             1,
             "#276419"
            ]
           ],
           "sequential": [
            [
             0,
             "#0d0887"
            ],
            [
             0.1111111111111111,
             "#46039f"
            ],
            [
             0.2222222222222222,
             "#7201a8"
            ],
            [
             0.3333333333333333,
             "#9c179e"
            ],
            [
             0.4444444444444444,
             "#bd3786"
            ],
            [
             0.5555555555555556,
             "#d8576b"
            ],
            [
             0.6666666666666666,
             "#ed7953"
            ],
            [
             0.7777777777777778,
             "#fb9f3a"
            ],
            [
             0.8888888888888888,
             "#fdca26"
            ],
            [
             1,
             "#f0f921"
            ]
           ],
           "sequentialminus": [
            [
             0,
             "#0d0887"
            ],
            [
             0.1111111111111111,
             "#46039f"
            ],
            [
             0.2222222222222222,
             "#7201a8"
            ],
            [
             0.3333333333333333,
             "#9c179e"
            ],
            [
             0.4444444444444444,
             "#bd3786"
            ],
            [
             0.5555555555555556,
             "#d8576b"
            ],
            [
             0.6666666666666666,
             "#ed7953"
            ],
            [
             0.7777777777777778,
             "#fb9f3a"
            ],
            [
             0.8888888888888888,
             "#fdca26"
            ],
            [
             1,
             "#f0f921"
            ]
           ]
          },
          "colorway": [
           "#636efa",
           "#EF553B",
           "#00cc96",
           "#ab63fa",
           "#FFA15A",
           "#19d3f3",
           "#FF6692",
           "#B6E880",
           "#FF97FF",
           "#FECB52"
          ],
          "font": {
           "color": "#2a3f5f"
          },
          "geo": {
           "bgcolor": "white",
           "lakecolor": "white",
           "landcolor": "white",
           "showlakes": true,
           "showland": true,
           "subunitcolor": "#C8D4E3"
          },
          "hoverlabel": {
           "align": "left"
          },
          "hovermode": "closest",
          "mapbox": {
           "style": "light"
          },
          "paper_bgcolor": "white",
          "plot_bgcolor": "white",
          "polar": {
           "angularaxis": {
            "gridcolor": "#EBF0F8",
            "linecolor": "#EBF0F8",
            "ticks": ""
           },
           "bgcolor": "white",
           "radialaxis": {
            "gridcolor": "#EBF0F8",
            "linecolor": "#EBF0F8",
            "ticks": ""
           }
          },
          "scene": {
           "xaxis": {
            "backgroundcolor": "white",
            "gridcolor": "#DFE8F3",
            "gridwidth": 2,
            "linecolor": "#EBF0F8",
            "showbackground": true,
            "ticks": "",
            "zerolinecolor": "#EBF0F8"
           },
           "yaxis": {
            "backgroundcolor": "white",
            "gridcolor": "#DFE8F3",
            "gridwidth": 2,
            "linecolor": "#EBF0F8",
            "showbackground": true,
            "ticks": "",
            "zerolinecolor": "#EBF0F8"
           },
           "zaxis": {
            "backgroundcolor": "white",
            "gridcolor": "#DFE8F3",
            "gridwidth": 2,
            "linecolor": "#EBF0F8",
            "showbackground": true,
            "ticks": "",
            "zerolinecolor": "#EBF0F8"
           }
          },
          "shapedefaults": {
           "line": {
            "color": "#2a3f5f"
           }
          },
          "ternary": {
           "aaxis": {
            "gridcolor": "#DFE8F3",
            "linecolor": "#A2B1C6",
            "ticks": ""
           },
           "baxis": {
            "gridcolor": "#DFE8F3",
            "linecolor": "#A2B1C6",
            "ticks": ""
           },
           "bgcolor": "white",
           "caxis": {
            "gridcolor": "#DFE8F3",
            "linecolor": "#A2B1C6",
            "ticks": ""
           }
          },
          "title": {
           "x": 0.05
          },
          "xaxis": {
           "automargin": true,
           "gridcolor": "#EBF0F8",
           "linecolor": "#EBF0F8",
           "ticks": "",
           "title": {
            "standoff": 15
           },
           "zerolinecolor": "#EBF0F8",
           "zerolinewidth": 2
          },
          "yaxis": {
           "automargin": true,
           "gridcolor": "#EBF0F8",
           "linecolor": "#EBF0F8",
           "ticks": "",
           "title": {
            "standoff": 15
           },
           "zerolinecolor": "#EBF0F8",
           "zerolinewidth": 2
          }
         }
        },
        "title": {
         "text": "Predicciones sobre Últimos 5 Valores y Futuras"
        },
        "xaxis": {
         "title": {
          "text": "Fecha"
         }
        },
        "yaxis": {
         "title": {
          "text": "Precio"
         }
        }
       }
      }
     },
     "metadata": {},
     "output_type": "display_data"
    }
   ],
   "source": [
    "import plotly.graph_objects as go\n",
    "\n",
    "# Crear la figura\n",
    "fig = go.Figure()\n",
    "\n",
    "# Agregar los valores reales (últimos 10 valores)\n",
    "fig.add_trace(go.Scatter(x=df_4h.index[-100:], y=df_4h.close.values[-100:], \n",
    "                         name='Valores Reales'))\n",
    "\n",
    "# Agregar las predicciones sobre los últimos valores y las predicciones futuras\n",
    "fig.add_trace(go.Scatter(x=predicciones_4h.index[-100:], y=predicciones_4h.pred[-100:], \n",
    "                         name='Valores Reales y Predicciones en Últimos 5 Pasos'))\n",
    "\n",
    "\n",
    "## Personalizar el gráfico\n",
    "fig.update_layout(\n",
    "    title='Predicciones sobre Últimos 5 Valores y Futuras',\n",
    "    xaxis_title='Fecha',\n",
    "    yaxis_title='Precio',\n",
    "    legend=dict(x=0, y=1.1),\n",
    "    margin=dict(l=40, r=40, t=40, b=40),\n",
    "    hovermode='x',\n",
    "    template='plotly_white'\n",
    ")\n",
    "#\n",
    "# Mostrar el gráfico\n",
    "fig.show()"
   ]
  },
  {
   "cell_type": "markdown",
   "metadata": {},
   "source": [
    "# Modelo 1d sin variables exogenas"
   ]
  },
  {
   "cell_type": "code",
   "execution_count": 2,
   "metadata": {},
   "outputs": [],
   "source": [
    "conn = sql.connect('Data/db/btc.db')\n",
    "cursor = conn.cursor()\n",
    "df_1d = pd.read_sql_query(\"SELECT * FROM btc_1d\", conn)"
   ]
  },
  {
   "cell_type": "code",
   "execution_count": 3,
   "metadata": {},
   "outputs": [],
   "source": [
    "df_1d.drop(columns=['open', 'high', 'low', 'volume', 'var',\n",
    "       'return', 'diff', 'volatility', 'rsi_14',\n",
    "       'rsi_28', 'rsi_14_shifted', 'rsi_28_shifted', 'ma_5', 'ma_20', 'ma_100',\n",
    "       'MiddleBand', 'UpperBand', 'LowerBand', 'K', 'D', 'close_shifted', 'TR',\n",
    "       'ATR', 'TP', 'CCI', 'lag1_TR', 'lag2_TR', 'lag1_ATR', 'lag2_ATR'],inplace=True)"
   ]
  },
  {
   "cell_type": "code",
   "execution_count": 4,
   "metadata": {},
   "outputs": [
    {
     "data": {
      "text/html": [
       "<div>\n",
       "<style scoped>\n",
       "    .dataframe tbody tr th:only-of-type {\n",
       "        vertical-align: middle;\n",
       "    }\n",
       "\n",
       "    .dataframe tbody tr th {\n",
       "        vertical-align: top;\n",
       "    }\n",
       "\n",
       "    .dataframe thead th {\n",
       "        text-align: right;\n",
       "    }\n",
       "</style>\n",
       "<table border=\"1\" class=\"dataframe\">\n",
       "  <thead>\n",
       "    <tr style=\"text-align: right;\">\n",
       "      <th></th>\n",
       "      <th>date</th>\n",
       "      <th>time</th>\n",
       "      <th>close</th>\n",
       "      <th>reward</th>\n",
       "      <th>countdown_halving</th>\n",
       "    </tr>\n",
       "  </thead>\n",
       "  <tbody>\n",
       "    <tr>\n",
       "      <th>0</th>\n",
       "      <td>2011-01-12 00:00:26</td>\n",
       "      <td>1294790400000</td>\n",
       "      <td>0.30</td>\n",
       "      <td>50.000</td>\n",
       "      <td>685.0</td>\n",
       "    </tr>\n",
       "    <tr>\n",
       "      <th>1</th>\n",
       "      <td>2011-01-13 00:00:03</td>\n",
       "      <td>1294876800000</td>\n",
       "      <td>0.30</td>\n",
       "      <td>50.000</td>\n",
       "      <td>684.0</td>\n",
       "    </tr>\n",
       "    <tr>\n",
       "      <th>2</th>\n",
       "      <td>2011-01-13 23:59:39</td>\n",
       "      <td>1294963200000</td>\n",
       "      <td>0.40</td>\n",
       "      <td>50.000</td>\n",
       "      <td>683.0</td>\n",
       "    </tr>\n",
       "    <tr>\n",
       "      <th>3</th>\n",
       "      <td>2011-01-14 23:59:15</td>\n",
       "      <td>1295049600000</td>\n",
       "      <td>0.40</td>\n",
       "      <td>50.000</td>\n",
       "      <td>682.0</td>\n",
       "    </tr>\n",
       "    <tr>\n",
       "      <th>4</th>\n",
       "      <td>2011-01-16 00:01:03</td>\n",
       "      <td>1295136000000</td>\n",
       "      <td>0.40</td>\n",
       "      <td>50.000</td>\n",
       "      <td>681.0</td>\n",
       "    </tr>\n",
       "    <tr>\n",
       "      <th>...</th>\n",
       "      <td>...</td>\n",
       "      <td>...</td>\n",
       "      <td>...</td>\n",
       "      <td>...</td>\n",
       "      <td>...</td>\n",
       "    </tr>\n",
       "    <tr>\n",
       "      <th>4983</th>\n",
       "      <td>2024-09-02 23:59:36</td>\n",
       "      <td>1725321600000</td>\n",
       "      <td>57487.73</td>\n",
       "      <td>3.125</td>\n",
       "      <td>5.0</td>\n",
       "    </tr>\n",
       "    <tr>\n",
       "      <th>4984</th>\n",
       "      <td>2024-09-03 23:59:12</td>\n",
       "      <td>1725408000000</td>\n",
       "      <td>57962.99</td>\n",
       "      <td>3.125</td>\n",
       "      <td>4.0</td>\n",
       "    </tr>\n",
       "    <tr>\n",
       "      <th>4985</th>\n",
       "      <td>2024-09-05 00:01:00</td>\n",
       "      <td>1725494400000</td>\n",
       "      <td>56180.00</td>\n",
       "      <td>3.125</td>\n",
       "      <td>2.0</td>\n",
       "    </tr>\n",
       "    <tr>\n",
       "      <th>4986</th>\n",
       "      <td>2024-09-06 00:00:36</td>\n",
       "      <td>1725580800000</td>\n",
       "      <td>53962.97</td>\n",
       "      <td>3.125</td>\n",
       "      <td>1.0</td>\n",
       "    </tr>\n",
       "    <tr>\n",
       "      <th>4987</th>\n",
       "      <td>2024-09-07 00:00:13</td>\n",
       "      <td>1725667200000</td>\n",
       "      <td>54024.01</td>\n",
       "      <td>3.125</td>\n",
       "      <td>0.0</td>\n",
       "    </tr>\n",
       "  </tbody>\n",
       "</table>\n",
       "<p>4988 rows × 5 columns</p>\n",
       "</div>"
      ],
      "text/plain": [
       "                     date           time     close  reward  countdown_halving\n",
       "0     2011-01-12 00:00:26  1294790400000      0.30  50.000              685.0\n",
       "1     2011-01-13 00:00:03  1294876800000      0.30  50.000              684.0\n",
       "2     2011-01-13 23:59:39  1294963200000      0.40  50.000              683.0\n",
       "3     2011-01-14 23:59:15  1295049600000      0.40  50.000              682.0\n",
       "4     2011-01-16 00:01:03  1295136000000      0.40  50.000              681.0\n",
       "...                   ...            ...       ...     ...                ...\n",
       "4983  2024-09-02 23:59:36  1725321600000  57487.73   3.125                5.0\n",
       "4984  2024-09-03 23:59:12  1725408000000  57962.99   3.125                4.0\n",
       "4985  2024-09-05 00:01:00  1725494400000  56180.00   3.125                2.0\n",
       "4986  2024-09-06 00:00:36  1725580800000  53962.97   3.125                1.0\n",
       "4987  2024-09-07 00:00:13  1725667200000  54024.01   3.125                0.0\n",
       "\n",
       "[4988 rows x 5 columns]"
      ]
     },
     "execution_count": 4,
     "metadata": {},
     "output_type": "execute_result"
    }
   ],
   "source": [
    "df_1d"
   ]
  },
  {
   "cell_type": "code",
   "execution_count": 5,
   "metadata": {},
   "outputs": [],
   "source": [
    "fecha_1d = df_1d['date'][-1:].values[0]\n",
    "ultima_fecha_1d = pd.to_datetime(fecha_1d)"
   ]
  },
  {
   "cell_type": "code",
   "execution_count": 7,
   "metadata": {},
   "outputs": [
    {
     "name": "stdout",
     "output_type": "stream",
     "text": [
      "2024-09-07 00:00:13\n",
      "<class 'pandas._libs.tslibs.timestamps.Timestamp'>\n"
     ]
    }
   ],
   "source": [
    "#print(fecha_1d)\n",
    "print(ultima_fecha_1d)\n",
    "print(type(ultima_fecha_1d))"
   ]
  },
  {
   "cell_type": "code",
   "execution_count": 12,
   "metadata": {},
   "outputs": [],
   "source": [
    "num_instancias_1d = len(df_1d)\n",
    "# Crear una lista de fechas decrementando un día en cada iteración\n",
    "fechas_1d = pd.date_range(end=ultima_fecha_1d, periods=num_instancias_1d,freq='1D')\n",
    "#fechas_1d"
   ]
  },
  {
   "cell_type": "code",
   "execution_count": 13,
   "metadata": {},
   "outputs": [],
   "source": [
    "df_1d['date'] = fechas_1d\n",
    "df_1d.index = fechas_1d"
   ]
  },
  {
   "cell_type": "code",
   "execution_count": 18,
   "metadata": {},
   "outputs": [
    {
     "data": {
      "text/plain": [
       "DatetimeIndex(['2011-01-12 00:00:13', '2011-01-13 00:00:13',\n",
       "               '2011-01-14 00:00:13', '2011-01-15 00:00:13',\n",
       "               '2011-01-16 00:00:13', '2011-01-17 00:00:13',\n",
       "               '2011-01-18 00:00:13', '2011-01-19 00:00:13',\n",
       "               '2011-01-20 00:00:13', '2011-01-21 00:00:13',\n",
       "               ...\n",
       "               '2024-08-29 00:00:13', '2024-08-30 00:00:13',\n",
       "               '2024-08-31 00:00:13', '2024-09-01 00:00:13',\n",
       "               '2024-09-02 00:00:13', '2024-09-03 00:00:13',\n",
       "               '2024-09-04 00:00:13', '2024-09-05 00:00:13',\n",
       "               '2024-09-06 00:00:13', '2024-09-07 00:00:13'],\n",
       "              dtype='datetime64[ns]', length=4988, freq='D')"
      ]
     },
     "execution_count": 18,
     "metadata": {},
     "output_type": "execute_result"
    }
   ],
   "source": [
    "fechas_1d"
   ]
  },
  {
   "cell_type": "code",
   "execution_count": 14,
   "metadata": {},
   "outputs": [],
   "source": [
    "last_date = df_1d['date'][-1:].values[0]\n",
    "first_date = df_1d['date'][:2].values[0]\n",
    "data_1d = df_1d.loc[first_date:last_date]\n",
    "inicio_train = first_date\n",
    "fin_train = last_date - pd.DateOffset(days=365)\n",
    "fin_validacion = last_date - pd.DateOffset(days=7)"
   ]
  },
  {
   "cell_type": "code",
   "execution_count": 15,
   "metadata": {},
   "outputs": [],
   "source": [
    "# Crear el forecaster con el modelo LGBM y los lags deseados\n",
    "forecaster = ForecasterAutoreg(\n",
    "    regressor        = LGBMRegressor(random_state=123, verbose=-1),\n",
    "    lags             = [1,30,90,180]  # Ajusta según tus necesidades\n",
    ")"
   ]
  },
  {
   "cell_type": "code",
   "execution_count": 16,
   "metadata": {},
   "outputs": [
    {
     "name": "stderr",
     "output_type": "stream",
     "text": [
      "c:\\Users\\Pablo\\AppData\\Local\\Programs\\Python\\Python311\\Lib\\site-packages\\skforecast\\model_selection\\model_selection.py:548: LongTrainingWarning: The forecaster will be fit 365 times. This can take substantial amounts of time. If not feasible, try with `refit = False`.\n",
      " \n",
      " You can suppress this warning using: warnings.simplefilter('ignore', category=LongTrainingWarning)\n",
      "  warnings.warn(\n"
     ]
    },
    {
     "data": {
      "application/vnd.jupyter.widget-view+json": {
       "model_id": "e7bf62e9885f45ccbc6fb14682702431",
       "version_major": 2,
       "version_minor": 0
      },
      "text/plain": [
       "  0%|          | 0/365 [00:00<?, ?it/s]"
      ]
     },
     "metadata": {},
     "output_type": "display_data"
    },
    {
     "name": "stdout",
     "output_type": "stream",
     "text": [
      "MAPE del modelo: 0.02326026391603616\n"
     ]
    }
   ],
   "source": [
    "# Realizar backtesting para evaluar el modelo\n",
    "metrica, predicciones = backtesting_forecaster(\n",
    "    forecaster         = forecaster,\n",
    "    y                  = df_1d.loc[inicio_train:, 'close'],\n",
    "    initial_train_size = len(df_1d.loc[inicio_train:fin_train,]),\n",
    "    fixed_train_size   = True,\n",
    "    steps              = 1,\n",
    "    refit              = True,\n",
    "    metric             = 'mean_absolute_percentage_error',\n",
    "    verbose            = False,\n",
    "    show_progress      = True\n",
    ")\n",
    "\n",
    "# Imprimir la métrica de error\n",
    "print(f'MAPE del modelo: {metrica}')"
   ]
  },
  {
   "cell_type": "code",
   "execution_count": 17,
   "metadata": {},
   "outputs": [
    {
     "data": {
      "text/plain": [
       "<matplotlib.legend.Legend at 0x1c16096a6d0>"
      ]
     },
     "execution_count": 17,
     "metadata": {},
     "output_type": "execute_result"
    },
    {
     "data": {
      "image/png": "[encoded data removed]",
      "text/plain": [
       "<Figure size 1500x500 with 1 Axes>"
      ]
     },
     "metadata": {},
     "output_type": "display_data"
    }
   ],
   "source": [
    "fig, ax = plt.subplots(figsize=(15,5))\n",
    "df_1d.loc[predicciones.index,'close'].plot(ax=ax,linewidth=2,label='test')\n",
    "predicciones.plot(linewidth=2, label='Prediccion',ax=ax)\n",
    "ax.set_title('predicciones 1d vs precio de cierre')\n",
    "ax.legend()"
   ]
  }
 ],
 "metadata": {
  "kernelspec": {
   "display_name": "Python 3",
   "language": "python",
   "name": "python3"
  },
  "language_info": {
   "codemirror_mode": {
    "name": "ipython",
    "version": 3
   },
   "file_extension": ".py",
   "mimetype": "text/x-python",
   "name": "python",
   "nbconvert_exporter": "python",
   "pygments_lexer": "ipython3",
   "version": "3.11.4"
  }
 },
 "nbformat": 4,
 "nbformat_minor": 2
}
