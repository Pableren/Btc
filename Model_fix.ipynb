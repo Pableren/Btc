{
 "cells": [
  {
   "cell_type": "code",
   "execution_count": 2,
   "metadata": {},
   "outputs": [],
   "source": [
    "import pandas as pd\n",
    "import numpy as np\n",
    "import sqlite3 as sql\n",
    "import matplotlib.pyplot as plt\n",
    "import plotly_express as px\n",
    "from statsmodels.graphics.tsaplots import plot_acf\n",
    "from statsmodels.graphics.tsaplots import plot_pacf\n",
    "import seaborn as sns\n",
    "import datetime\n",
    "from lightgbm import LGBMRegressor\n",
    "from skforecast.model_selection import grid_search_forecaster\n",
    "from skforecast.model_selection import backtesting_forecaster\n",
    "from skforecast.ForecasterAutoreg import ForecasterAutoreg\n",
    "from sklearn.metrics import mean_squared_error\n",
    "color_pal = sns.color_palette()\n",
    "plt.style.use('fivethirtyeight')\n",
    "from sklearn.metrics import r2_score"
   ]
  },
  {
   "cell_type": "code",
   "execution_count": 2,
   "metadata": {},
   "outputs": [],
   "source": [
    "conn = sql.connect('Data/db/btc.db')\n",
    "cursor = conn.cursor()\n",
    "df_1d = pd.read_sql_query(\"SELECT * FROM btc_1d\", conn)\n"
   ]
  },
  {
   "cell_type": "code",
   "execution_count": 3,
   "metadata": {},
   "outputs": [],
   "source": [
    "df_1d.drop(columns=['open', 'high', 'low', 'volume', 'var',\n",
    "       'return', 'diff', 'volatility', 'rsi_14',\n",
    "       'rsi_28', 'rsi_14_shifted', 'rsi_28_shifted', 'ma_5', 'ma_20', 'ma_100',\n",
    "       'MiddleBand', 'UpperBand', 'LowerBand', 'K', 'D', 'close_shifted', 'TR',\n",
    "       'ATR', 'TP', 'CCI', 'lag1_TR', 'lag2_TR', 'lag1_ATR', 'lag2_ATR'],inplace=True)"
   ]
  },
  {
   "cell_type": "code",
   "execution_count": 4,
   "metadata": {},
   "outputs": [],
   "source": [
    "fecha = df_1d['date'][-1:].values[0]\n",
    "ultima_fecha = pd.to_datetime(fecha)\n",
    "# Número de días que quieres generar (ajusta este valor según tu necesidad)\n",
    "num_dias = len(df_1d)\n",
    "\n",
    "# Crear una lista de fechas decrementando un día en cada iteración\n",
    "fechas = pd.date_range(end=ultima_fecha, periods=num_dias)\n",
    "\n",
    "df_1d['date'] = fechas\n",
    "df_1d.index = fechas"
   ]
  },
  {
   "cell_type": "code",
   "execution_count": 5,
   "metadata": {},
   "outputs": [],
   "source": [
    "df_1d['mes'] = df_1d.index.month\n",
    "data = pd.get_dummies(df_1d, columns=['reward', 'mes'], dtype=int)"
   ]
  },
  {
   "cell_type": "code",
   "execution_count": 6,
   "metadata": {},
   "outputs": [],
   "source": [
    "last_date = df_1d['date'][-1:].values[0]\n",
    "first_date = df_1d['date'][:2].values[0]\n",
    "data_1d = df_1d.loc[first_date:last_date]\n",
    "inicio_train = first_date\n",
    "fin_train = last_date - pd.DateOffset(days=365)\n",
    "fin_validacion = last_date - pd.DateOffset(days=1)\n"
   ]
  },
  {
   "cell_type": "code",
   "execution_count": 7,
   "metadata": {},
   "outputs": [],
   "source": [
    "exog = [column for column in data.columns if column.startswith(('reward', 'mes'))]\n",
    "exog.extend(['countdown_halving'])"
   ]
  },
  {
   "cell_type": "code",
   "execution_count": 8,
   "metadata": {},
   "outputs": [],
   "source": [
    "# Crear el forecaster con el modelo LGBM y los lags deseados\n",
    "forecaster = ForecasterAutoreg(\n",
    "    regressor        = LGBMRegressor(random_state=123, verbose=-1),\n",
    "    lags             = [1,30,90,180],  # Ajusta según tus necesidades\n",
    "    transformer_y    = None\n",
    ")"
   ]
  },
  {
   "cell_type": "code",
   "execution_count": 9,
   "metadata": {},
   "outputs": [
    {
     "name": "stderr",
     "output_type": "stream",
     "text": [
      "c:\\Users\\Pablo\\AppData\\Local\\Programs\\Python\\Python311\\Lib\\site-packages\\skforecast\\model_selection\\model_selection.py:548: LongTrainingWarning: The forecaster will be fit 183 times. This can take substantial amounts of time. If not feasible, try with `refit = False`.\n",
      " \n",
      " You can suppress this warning using: warnings.simplefilter('ignore', category=LongTrainingWarning)\n",
      "  warnings.warn(\n"
     ]
    },
    {
     "data": {
      "application/vnd.jupyter.widget-view+json": {
       "model_id": "488b93cf88514cc9b446710a81f19dfa",
       "version_major": 2,
       "version_minor": 0
      },
      "text/plain": [
       "  0%|          | 0/183 [00:00<?, ?it/s]"
      ]
     },
     "metadata": {},
     "output_type": "display_data"
    },
    {
     "name": "stdout",
     "output_type": "stream",
     "text": [
      "MAPE del modelo: 0.026106689285984443\n"
     ]
    }
   ],
   "source": [
    "# Realizar backtesting para evaluar el modelo\n",
    "metrica, predicciones = backtesting_forecaster(\n",
    "    forecaster         = forecaster,\n",
    "    y                  = data.loc[inicio_train:, 'close'],\n",
    "    exog               = data.loc[inicio_train:, exog],\n",
    "    initial_train_size = len(data.loc[inicio_train:fin_train,]),\n",
    "    fixed_train_size   = True,\n",
    "    steps              = 2,\n",
    "    refit              = True,\n",
    "    metric             = 'mean_absolute_percentage_error',\n",
    "    verbose            = False,\n",
    "    show_progress      = True\n",
    ")\n",
    "\n",
    "# Imprimir la métrica de error\n",
    "print(f'MAPE del modelo: {metrica}')\n"
   ]
  },
  {
   "cell_type": "code",
   "execution_count": 10,
   "metadata": {},
   "outputs": [
    {
     "name": "stdout",
     "output_type": "stream",
     "text": [
      "metrica: 0.026106689285984443 predicciones:                     pred\n",
      "2023-09-04  26134.616698\n",
      "2023-09-05  26402.931793\n",
      "2023-09-06  26094.202224\n",
      "2023-09-07  26087.607135\n",
      "2023-09-08  25870.417182\n",
      "...                  ...\n",
      "2024-08-29  58368.299172\n",
      "2024-08-30  57777.510314\n",
      "2024-08-31  58954.687918\n",
      "2024-09-01  59003.490959\n",
      "2024-09-02  58109.138435\n",
      "\n",
      "[365 rows x 1 columns]\n"
     ]
    }
   ],
   "source": [
    "print(\"metrica:\",metrica,\"predicciones:\",predicciones)"
   ]
  },
  {
   "cell_type": "code",
   "execution_count": 11,
   "metadata": {},
   "outputs": [],
   "source": [
    "# Entrenar el modelo con todos los datos disponibles hasta la fecha actual\n",
    "forecaster.fit(\n",
    "    y    = data['close'],\n",
    "    exog = data[exog])\n"
   ]
  },
  {
   "cell_type": "code",
   "execution_count": 12,
   "metadata": {},
   "outputs": [],
   "source": [
    "# Crear DataFrame \"esqueleto\" de fechas futuras\n",
    "fecha_maxima = data.index.max()\n",
    "una_semana_mas = fecha_maxima + pd.DateOffset(days=7)\n",
    "future = pd.date_range(fecha_maxima+ pd.DateOffset(days=1), una_semana_mas, freq='D')\n",
    "future_df = pd.DataFrame(index=future)"
   ]
  },
  {
   "cell_type": "code",
   "execution_count": 13,
   "metadata": {},
   "outputs": [
    {
     "name": "stdout",
     "output_type": "stream",
     "text": [
      "2024-09-02 00:00:00\n",
      "2024-09-09 00:00:00\n",
      "DatetimeIndex(['2024-09-03', '2024-09-04', '2024-09-05', '2024-09-06',\n",
      "               '2024-09-07', '2024-09-08', '2024-09-09'],\n",
      "              dtype='datetime64[ns]', freq='D')\n",
      "Empty DataFrame\n",
      "Columns: []\n",
      "Index: [2024-09-03 00:00:00, 2024-09-04 00:00:00, 2024-09-05 00:00:00, 2024-09-06 00:00:00, 2024-09-07 00:00:00, 2024-09-08 00:00:00, 2024-09-09 00:00:00]\n"
     ]
    }
   ],
   "source": [
    "print(fecha_maxima)\n",
    "print(una_semana_mas)\n",
    "print(future)\n",
    "print(future_df)"
   ]
  },
  {
   "cell_type": "code",
   "execution_count": 14,
   "metadata": {},
   "outputs": [],
   "source": [
    "future_exog = pd.DataFrame(index=future)"
   ]
  },
  {
   "cell_type": "code",
   "execution_count": 15,
   "metadata": {},
   "outputs": [],
   "source": [
    "df_and_future = pd.concat([data, future_exog])"
   ]
  },
  {
   "cell_type": "code",
   "execution_count": 16,
   "metadata": {},
   "outputs": [],
   "source": [
    "df_and_future.drop(columns=['reward_3.125', 'reward_12.5', 'reward_25.0', 'reward_50.0', 'mes_1',\n",
    "       'mes_2', 'mes_3', 'mes_4', 'mes_5', 'mes_6', 'mes_7', 'mes_8', 'mes_9',\n",
    "       'mes_10', 'mes_11', 'mes_12'],inplace=True)\n",
    "df_and_future['mes'] = df_and_future.index.month"
   ]
  },
  {
   "cell_type": "code",
   "execution_count": 17,
   "metadata": {},
   "outputs": [
    {
     "data": {
      "text/html": [
       "<div>\n",
       "<style scoped>\n",
       "    .dataframe tbody tr th:only-of-type {\n",
       "        vertical-align: middle;\n",
       "    }\n",
       "\n",
       "    .dataframe tbody tr th {\n",
       "        vertical-align: top;\n",
       "    }\n",
       "\n",
       "    .dataframe thead th {\n",
       "        text-align: right;\n",
       "    }\n",
       "</style>\n",
       "<table border=\"1\" class=\"dataframe\">\n",
       "  <thead>\n",
       "    <tr style=\"text-align: right;\">\n",
       "      <th></th>\n",
       "      <th>date</th>\n",
       "      <th>time</th>\n",
       "      <th>close</th>\n",
       "      <th>countdown_halving</th>\n",
       "      <th>mes</th>\n",
       "    </tr>\n",
       "  </thead>\n",
       "  <tbody>\n",
       "    <tr>\n",
       "      <th>2011-01-12</th>\n",
       "      <td>2011-01-12</td>\n",
       "      <td>1294790400000</td>\n",
       "      <td>0.3</td>\n",
       "      <td>685.0</td>\n",
       "      <td>1</td>\n",
       "    </tr>\n",
       "    <tr>\n",
       "      <th>2011-01-13</th>\n",
       "      <td>2011-01-13</td>\n",
       "      <td>1294876800000</td>\n",
       "      <td>0.3</td>\n",
       "      <td>684.0</td>\n",
       "      <td>1</td>\n",
       "    </tr>\n",
       "    <tr>\n",
       "      <th>2011-01-14</th>\n",
       "      <td>2011-01-14</td>\n",
       "      <td>1294963200000</td>\n",
       "      <td>0.4</td>\n",
       "      <td>683.0</td>\n",
       "      <td>1</td>\n",
       "    </tr>\n",
       "    <tr>\n",
       "      <th>2011-01-15</th>\n",
       "      <td>2011-01-15</td>\n",
       "      <td>1295049600000</td>\n",
       "      <td>0.4</td>\n",
       "      <td>682.0</td>\n",
       "      <td>1</td>\n",
       "    </tr>\n",
       "    <tr>\n",
       "      <th>2011-01-16</th>\n",
       "      <td>2011-01-16</td>\n",
       "      <td>1295136000000</td>\n",
       "      <td>0.4</td>\n",
       "      <td>681.0</td>\n",
       "      <td>1</td>\n",
       "    </tr>\n",
       "    <tr>\n",
       "      <th>...</th>\n",
       "      <td>...</td>\n",
       "      <td>...</td>\n",
       "      <td>...</td>\n",
       "      <td>...</td>\n",
       "      <td>...</td>\n",
       "    </tr>\n",
       "    <tr>\n",
       "      <th>2024-09-05</th>\n",
       "      <td>NaT</td>\n",
       "      <td>NaN</td>\n",
       "      <td>NaN</td>\n",
       "      <td>NaN</td>\n",
       "      <td>9</td>\n",
       "    </tr>\n",
       "    <tr>\n",
       "      <th>2024-09-06</th>\n",
       "      <td>NaT</td>\n",
       "      <td>NaN</td>\n",
       "      <td>NaN</td>\n",
       "      <td>NaN</td>\n",
       "      <td>9</td>\n",
       "    </tr>\n",
       "    <tr>\n",
       "      <th>2024-09-07</th>\n",
       "      <td>NaT</td>\n",
       "      <td>NaN</td>\n",
       "      <td>NaN</td>\n",
       "      <td>NaN</td>\n",
       "      <td>9</td>\n",
       "    </tr>\n",
       "    <tr>\n",
       "      <th>2024-09-08</th>\n",
       "      <td>NaT</td>\n",
       "      <td>NaN</td>\n",
       "      <td>NaN</td>\n",
       "      <td>NaN</td>\n",
       "      <td>9</td>\n",
       "    </tr>\n",
       "    <tr>\n",
       "      <th>2024-09-09</th>\n",
       "      <td>NaT</td>\n",
       "      <td>NaN</td>\n",
       "      <td>NaN</td>\n",
       "      <td>NaN</td>\n",
       "      <td>9</td>\n",
       "    </tr>\n",
       "  </tbody>\n",
       "</table>\n",
       "<p>4990 rows × 5 columns</p>\n",
       "</div>"
      ],
      "text/plain": [
       "                 date           time  close  countdown_halving  mes\n",
       "2011-01-12 2011-01-12  1294790400000    0.3              685.0    1\n",
       "2011-01-13 2011-01-13  1294876800000    0.3              684.0    1\n",
       "2011-01-14 2011-01-14  1294963200000    0.4              683.0    1\n",
       "2011-01-15 2011-01-15  1295049600000    0.4              682.0    1\n",
       "2011-01-16 2011-01-16  1295136000000    0.4              681.0    1\n",
       "...               ...            ...    ...                ...  ...\n",
       "2024-09-05        NaT            NaN    NaN                NaN    9\n",
       "2024-09-06        NaT            NaN    NaN                NaN    9\n",
       "2024-09-07        NaT            NaN    NaN                NaN    9\n",
       "2024-09-08        NaT            NaN    NaN                NaN    9\n",
       "2024-09-09        NaT            NaN    NaN                NaN    9\n",
       "\n",
       "[4990 rows x 5 columns]"
      ]
     },
     "execution_count": 17,
     "metadata": {},
     "output_type": "execute_result"
    }
   ],
   "source": [
    "df_and_future"
   ]
  },
  {
   "cell_type": "code",
   "execution_count": 18,
   "metadata": {},
   "outputs": [
    {
     "name": "stdout",
     "output_type": "stream",
     "text": [
      "El próximo halving ocurrirá aproximadamente el: 2026-07-29 10:40:00\n"
     ]
    }
   ],
   "source": [
    "import Scripts.funciones as func\n",
    "df_and_future = func.calcular_recompensa_y_cuenta_regresiva_1d(df_1d=df_and_future)"
   ]
  },
  {
   "cell_type": "code",
   "execution_count": 19,
   "metadata": {},
   "outputs": [],
   "source": [
    "df_and_future = pd.get_dummies(df_and_future, columns=['reward', 'mes'], dtype=int)"
   ]
  },
  {
   "cell_type": "code",
   "execution_count": 20,
   "metadata": {},
   "outputs": [],
   "source": [
    "fecha = df_and_future['index'][-1:].values[0]\n",
    "ultima_fecha = pd.to_datetime(fecha)\n",
    "# Número de días que quieres generar (ajusta este valor según tu necesidad)\n",
    "num_dias = len(df_and_future)\n",
    "# Crear una lista de fechas decrementando un día en cada iteración\n",
    "fechas = pd.date_range(end=ultima_fecha, periods=num_dias)\n",
    "df_and_future['index'] = fechas\n",
    "df_and_future.index = fechas"
   ]
  },
  {
   "cell_type": "code",
   "execution_count": 21,
   "metadata": {},
   "outputs": [
    {
     "data": {
      "text/html": [
       "<div>\n",
       "<style scoped>\n",
       "    .dataframe tbody tr th:only-of-type {\n",
       "        vertical-align: middle;\n",
       "    }\n",
       "\n",
       "    .dataframe tbody tr th {\n",
       "        vertical-align: top;\n",
       "    }\n",
       "\n",
       "    .dataframe thead th {\n",
       "        text-align: right;\n",
       "    }\n",
       "</style>\n",
       "<table border=\"1\" class=\"dataframe\">\n",
       "  <thead>\n",
       "    <tr style=\"text-align: right;\">\n",
       "      <th></th>\n",
       "      <th>index</th>\n",
       "      <th>date</th>\n",
       "      <th>time</th>\n",
       "      <th>close</th>\n",
       "      <th>countdown_halving</th>\n",
       "      <th>reward_3.125</th>\n",
       "      <th>reward_12.5</th>\n",
       "      <th>reward_25.0</th>\n",
       "      <th>reward_50.0</th>\n",
       "      <th>mes_1</th>\n",
       "      <th>...</th>\n",
       "      <th>mes_3</th>\n",
       "      <th>mes_4</th>\n",
       "      <th>mes_5</th>\n",
       "      <th>mes_6</th>\n",
       "      <th>mes_7</th>\n",
       "      <th>mes_8</th>\n",
       "      <th>mes_9</th>\n",
       "      <th>mes_10</th>\n",
       "      <th>mes_11</th>\n",
       "      <th>mes_12</th>\n",
       "    </tr>\n",
       "  </thead>\n",
       "  <tbody>\n",
       "    <tr>\n",
       "      <th>2024-09-03</th>\n",
       "      <td>2024-09-03</td>\n",
       "      <td>NaT</td>\n",
       "      <td>NaN</td>\n",
       "      <td>NaN</td>\n",
       "      <td>8.0</td>\n",
       "      <td>1</td>\n",
       "      <td>0</td>\n",
       "      <td>0</td>\n",
       "      <td>0</td>\n",
       "      <td>0</td>\n",
       "      <td>...</td>\n",
       "      <td>0</td>\n",
       "      <td>0</td>\n",
       "      <td>0</td>\n",
       "      <td>0</td>\n",
       "      <td>0</td>\n",
       "      <td>0</td>\n",
       "      <td>1</td>\n",
       "      <td>0</td>\n",
       "      <td>0</td>\n",
       "      <td>0</td>\n",
       "    </tr>\n",
       "    <tr>\n",
       "      <th>2024-09-04</th>\n",
       "      <td>2024-09-04</td>\n",
       "      <td>NaT</td>\n",
       "      <td>NaN</td>\n",
       "      <td>NaN</td>\n",
       "      <td>7.0</td>\n",
       "      <td>1</td>\n",
       "      <td>0</td>\n",
       "      <td>0</td>\n",
       "      <td>0</td>\n",
       "      <td>0</td>\n",
       "      <td>...</td>\n",
       "      <td>0</td>\n",
       "      <td>0</td>\n",
       "      <td>0</td>\n",
       "      <td>0</td>\n",
       "      <td>0</td>\n",
       "      <td>0</td>\n",
       "      <td>1</td>\n",
       "      <td>0</td>\n",
       "      <td>0</td>\n",
       "      <td>0</td>\n",
       "    </tr>\n",
       "    <tr>\n",
       "      <th>2024-09-05</th>\n",
       "      <td>2024-09-05</td>\n",
       "      <td>NaT</td>\n",
       "      <td>NaN</td>\n",
       "      <td>NaN</td>\n",
       "      <td>5.0</td>\n",
       "      <td>1</td>\n",
       "      <td>0</td>\n",
       "      <td>0</td>\n",
       "      <td>0</td>\n",
       "      <td>0</td>\n",
       "      <td>...</td>\n",
       "      <td>0</td>\n",
       "      <td>0</td>\n",
       "      <td>0</td>\n",
       "      <td>0</td>\n",
       "      <td>0</td>\n",
       "      <td>0</td>\n",
       "      <td>1</td>\n",
       "      <td>0</td>\n",
       "      <td>0</td>\n",
       "      <td>0</td>\n",
       "    </tr>\n",
       "    <tr>\n",
       "      <th>2024-09-06</th>\n",
       "      <td>2024-09-06</td>\n",
       "      <td>NaT</td>\n",
       "      <td>NaN</td>\n",
       "      <td>NaN</td>\n",
       "      <td>4.0</td>\n",
       "      <td>1</td>\n",
       "      <td>0</td>\n",
       "      <td>0</td>\n",
       "      <td>0</td>\n",
       "      <td>0</td>\n",
       "      <td>...</td>\n",
       "      <td>0</td>\n",
       "      <td>0</td>\n",
       "      <td>0</td>\n",
       "      <td>0</td>\n",
       "      <td>0</td>\n",
       "      <td>0</td>\n",
       "      <td>1</td>\n",
       "      <td>0</td>\n",
       "      <td>0</td>\n",
       "      <td>0</td>\n",
       "    </tr>\n",
       "    <tr>\n",
       "      <th>2024-09-07</th>\n",
       "      <td>2024-09-07</td>\n",
       "      <td>NaT</td>\n",
       "      <td>NaN</td>\n",
       "      <td>NaN</td>\n",
       "      <td>2.0</td>\n",
       "      <td>1</td>\n",
       "      <td>0</td>\n",
       "      <td>0</td>\n",
       "      <td>0</td>\n",
       "      <td>0</td>\n",
       "      <td>...</td>\n",
       "      <td>0</td>\n",
       "      <td>0</td>\n",
       "      <td>0</td>\n",
       "      <td>0</td>\n",
       "      <td>0</td>\n",
       "      <td>0</td>\n",
       "      <td>1</td>\n",
       "      <td>0</td>\n",
       "      <td>0</td>\n",
       "      <td>0</td>\n",
       "    </tr>\n",
       "    <tr>\n",
       "      <th>2024-09-08</th>\n",
       "      <td>2024-09-08</td>\n",
       "      <td>NaT</td>\n",
       "      <td>NaN</td>\n",
       "      <td>NaN</td>\n",
       "      <td>1.0</td>\n",
       "      <td>1</td>\n",
       "      <td>0</td>\n",
       "      <td>0</td>\n",
       "      <td>0</td>\n",
       "      <td>0</td>\n",
       "      <td>...</td>\n",
       "      <td>0</td>\n",
       "      <td>0</td>\n",
       "      <td>0</td>\n",
       "      <td>0</td>\n",
       "      <td>0</td>\n",
       "      <td>0</td>\n",
       "      <td>1</td>\n",
       "      <td>0</td>\n",
       "      <td>0</td>\n",
       "      <td>0</td>\n",
       "    </tr>\n",
       "    <tr>\n",
       "      <th>2024-09-09</th>\n",
       "      <td>2024-09-09</td>\n",
       "      <td>NaT</td>\n",
       "      <td>NaN</td>\n",
       "      <td>NaN</td>\n",
       "      <td>0.0</td>\n",
       "      <td>1</td>\n",
       "      <td>0</td>\n",
       "      <td>0</td>\n",
       "      <td>0</td>\n",
       "      <td>0</td>\n",
       "      <td>...</td>\n",
       "      <td>0</td>\n",
       "      <td>0</td>\n",
       "      <td>0</td>\n",
       "      <td>0</td>\n",
       "      <td>0</td>\n",
       "      <td>0</td>\n",
       "      <td>1</td>\n",
       "      <td>0</td>\n",
       "      <td>0</td>\n",
       "      <td>0</td>\n",
       "    </tr>\n",
       "  </tbody>\n",
       "</table>\n",
       "<p>7 rows × 21 columns</p>\n",
       "</div>"
      ],
      "text/plain": [
       "                index date time  close  countdown_halving  reward_3.125  \\\n",
       "2024-09-03 2024-09-03  NaT  NaN    NaN                8.0             1   \n",
       "2024-09-04 2024-09-04  NaT  NaN    NaN                7.0             1   \n",
       "2024-09-05 2024-09-05  NaT  NaN    NaN                5.0             1   \n",
       "2024-09-06 2024-09-06  NaT  NaN    NaN                4.0             1   \n",
       "2024-09-07 2024-09-07  NaT  NaN    NaN                2.0             1   \n",
       "2024-09-08 2024-09-08  NaT  NaN    NaN                1.0             1   \n",
       "2024-09-09 2024-09-09  NaT  NaN    NaN                0.0             1   \n",
       "\n",
       "            reward_12.5  reward_25.0  reward_50.0  mes_1  ...  mes_3  mes_4  \\\n",
       "2024-09-03            0            0            0      0  ...      0      0   \n",
       "2024-09-04            0            0            0      0  ...      0      0   \n",
       "2024-09-05            0            0            0      0  ...      0      0   \n",
       "2024-09-06            0            0            0      0  ...      0      0   \n",
       "2024-09-07            0            0            0      0  ...      0      0   \n",
       "2024-09-08            0            0            0      0  ...      0      0   \n",
       "2024-09-09            0            0            0      0  ...      0      0   \n",
       "\n",
       "            mes_5  mes_6  mes_7  mes_8  mes_9  mes_10  mes_11  mes_12  \n",
       "2024-09-03      0      0      0      0      1       0       0       0  \n",
       "2024-09-04      0      0      0      0      1       0       0       0  \n",
       "2024-09-05      0      0      0      0      1       0       0       0  \n",
       "2024-09-06      0      0      0      0      1       0       0       0  \n",
       "2024-09-07      0      0      0      0      1       0       0       0  \n",
       "2024-09-08      0      0      0      0      1       0       0       0  \n",
       "2024-09-09      0      0      0      0      1       0       0       0  \n",
       "\n",
       "[7 rows x 21 columns]"
      ]
     },
     "execution_count": 21,
     "metadata": {},
     "output_type": "execute_result"
    }
   ],
   "source": [
    "horizonte = 7\n",
    "df_and_future.iloc[-horizonte:]"
   ]
  },
  {
   "cell_type": "code",
   "execution_count": 22,
   "metadata": {},
   "outputs": [
    {
     "name": "stdout",
     "output_type": "stream",
     "text": [
      "Predicción para el último valor: 2024-09-03    57008.045414\n",
      "2024-09-04    57495.623586\n",
      "2024-09-05    57260.711641\n",
      "2024-09-06    57495.623586\n",
      "2024-09-07    57954.098429\n",
      "Freq: D, Name: pred, dtype: float64\n"
     ]
    }
   ],
   "source": [
    "# Predecir el último valor\n",
    "pred_ultimo_valor = forecaster.predict(steps=5, exog=df_and_future[exog].iloc[-horizonte:])\n",
    "print(f'Predicción para el último valor: {pred_ultimo_valor}')"
   ]
  },
  {
   "cell_type": "code",
   "execution_count": 23,
   "metadata": {},
   "outputs": [
    {
     "data": {
      "text/plain": [
       "2024-09-03    57008.045414\n",
       "2024-09-04    57495.623586\n",
       "2024-09-05    57260.711641\n",
       "2024-09-06    57495.623586\n",
       "2024-09-07    57954.098429\n",
       "Freq: D, Name: pred, dtype: float64"
      ]
     },
     "execution_count": 23,
     "metadata": {},
     "output_type": "execute_result"
    }
   ],
   "source": [
    "pred_ultimo_valor"
   ]
  },
  {
   "cell_type": "code",
   "execution_count": 24,
   "metadata": {},
   "outputs": [],
   "source": [
    "ultimos_valores_close = data['close'].iloc[-7:]"
   ]
  },
  {
   "cell_type": "code",
   "execution_count": 25,
   "metadata": {},
   "outputs": [
    {
     "data": {
      "image/png": "[encoded data removed]",
      "text/plain": [
       "<Figure size 1000x600 with 1 Axes>"
      ]
     },
     "metadata": {},
     "output_type": "display_data"
    }
   ],
   "source": [
    "plt.figure(figsize=(10, 6))\n",
    "plt.plot(ultimos_valores_close.index, ultimos_valores_close.values, label='Valores Reales (Close)', marker='o', color='blue')\n",
    "plt.plot(pred_ultimo_valor.index, pred_ultimo_valor.values, label='Predicciones Futuras', marker='o', color='green')\n",
    "\n",
    "plt.axvline(x=ultimos_valores_close.index[-1], color='red', linestyle='--', label='Inicio de Predicciones')\n",
    "plt.title('Últimos valores de \"close\" y Predicciones Futuras')\n",
    "plt.xlabel('Fecha')\n",
    "plt.ylabel('Precio')\n",
    "plt.legend()\n",
    "plt.grid(True)\n",
    "# Mostrar el gráfico\n",
    "plt.show()"
   ]
  },
  {
   "cell_type": "code",
   "execution_count": 26,
   "metadata": {},
   "outputs": [
    {
     "data": {
      "application/vnd.plotly.v1+json": {
       "config": {
        "plotlyServerURL": "https://plot.ly"
       },
       "data": [
        {
         "marker": {
          "color": "blue",
          "symbol": "cross"
         },
         "mode": "lines+markers",
         "name": "Valores Reales",
         "type": "scatter",
         "x": [
          "2024-08-24T00:00:00",
          "2024-08-25T00:00:00",
          "2024-08-26T00:00:00",
          "2024-08-27T00:00:00",
          "2024-08-28T00:00:00",
          "2024-08-29T00:00:00",
          "2024-08-30T00:00:00",
          "2024-08-31T00:00:00",
          "2024-09-01T00:00:00",
          "2024-09-02T00:00:00"
         ],
         "y": [
          64157.01,
          64169.99,
          62834,
          59415,
          59034.9,
          59359.01,
          59123.99,
          58973.99,
          57301.86,
          58458
         ]
        },
        {
         "marker": {
          "color": "green"
         },
         "mode": "lines+markers",
         "name": "Valores Reales y Predicciones en Últimos 5 Pasos",
         "type": "scatter",
         "x": [
          "2024-09-03T00:00:00",
          "2024-09-04T00:00:00",
          "2024-09-05T00:00:00",
          "2024-09-06T00:00:00",
          "2024-09-07T00:00:00"
         ],
         "y": [
          57008.04541355592,
          57495.62358647024,
          57260.71164118391,
          57495.62358647024,
          57954.098428810496
         ]
        },
        {
         "line": {
          "color": "red",
          "dash": "dash"
         },
         "mode": "lines",
         "name": "Inicio de Predicciones Futuras",
         "type": "scatter",
         "x": [
          "2024-09-02T00:00:00",
          "2024-09-02T00:00:00"
         ],
         "y": [
          57008.04541355592,
          57954.098428810496
         ]
        }
       ],
       "layout": {
        "hovermode": "x",
        "legend": {
         "x": 0,
         "y": 1.1
        },
        "margin": {
         "b": 40,
         "l": 40,
         "r": 40,
         "t": 40
        },
        "template": {
         "data": {
          "bar": [
           {
            "error_x": {
             "color": "#2a3f5f"
            },
            "error_y": {
             "color": "#2a3f5f"
            },
            "marker": {
             "line": {
              "color": "white",
              "width": 0.5
             },
             "pattern": {
              "fillmode": "overlay",
              "size": 10,
              "solidity": 0.2
             }
            },
            "type": "bar"
           }
          ],
          "barpolar": [
           {
            "marker": {
             "line": {
              "color": "white",
              "width": 0.5
             },
             "pattern": {
              "fillmode": "overlay",
              "size": 10,
              "solidity": 0.2
             }
            },
            "type": "barpolar"
           }
          ],
          "carpet": [
           {
            "aaxis": {
             "endlinecolor": "#2a3f5f",
             "gridcolor": "#C8D4E3",
             "linecolor": "#C8D4E3",
             "minorgridcolor": "#C8D4E3",
             "startlinecolor": "#2a3f5f"
            },
            "baxis": {
             "endlinecolor": "#2a3f5f",
             "gridcolor": "#C8D4E3",
             "linecolor": "#C8D4E3",
             "minorgridcolor": "#C8D4E3",
             "startlinecolor": "#2a3f5f"
            },
            "type": "carpet"
           }
          ],
          "choropleth": [
           {
            "colorbar": {
             "outlinewidth": 0,
             "ticks": ""
            },
            "type": "choropleth"
           }
          ],
          "contour": [
           {
            "colorbar": {
             "outlinewidth": 0,
             "ticks": ""
            },
            "colorscale": [
             [
              0,
              "#0d0887"
             ],
             [
              0.1111111111111111,
              "#46039f"
             ],
             [
              0.2222222222222222,
              "#7201a8"
             ],
             [
              0.3333333333333333,
              "#9c179e"
             ],
             [
              0.4444444444444444,
              "#bd3786"
             ],
             [
              0.5555555555555556,
              "#d8576b"
             ],
             [
              0.6666666666666666,
              "#ed7953"
             ],
             [
              0.7777777777777778,
              "#fb9f3a"
             ],
             [
              0.8888888888888888,
              "#fdca26"
             ],
             [
              1,
              "#f0f921"
             ]
            ],
            "type": "contour"
           }
          ],
          "contourcarpet": [
           {
            "colorbar": {
             "outlinewidth": 0,
             "ticks": ""
            },
            "type": "contourcarpet"
           }
          ],
          "heatmap": [
           {
            "colorbar": {
             "outlinewidth": 0,
             "ticks": ""
            },
            "colorscale": [
             [
              0,
              "#0d0887"
             ],
             [
              0.1111111111111111,
              "#46039f"
             ],
             [
              0.2222222222222222,
              "#7201a8"
             ],
             [
              0.3333333333333333,
              "#9c179e"
             ],
             [
              0.4444444444444444,
              "#bd3786"
             ],
             [
              0.5555555555555556,
              "#d8576b"
             ],
             [
              0.6666666666666666,
              "#ed7953"
             ],
             [
              0.7777777777777778,
              "#fb9f3a"
             ],
             [
              0.8888888888888888,
              "#fdca26"
             ],
             [
              1,
              "#f0f921"
             ]
            ],
            "type": "heatmap"
           }
          ],
          "heatmapgl": [
           {
            "colorbar": {
             "outlinewidth": 0,
             "ticks": ""
            },
            "colorscale": [
             [
              0,
              "#0d0887"
             ],
             [
              0.1111111111111111,
              "#46039f"
             ],
             [
              0.2222222222222222,
              "#7201a8"
             ],
             [
              0.3333333333333333,
              "#9c179e"
             ],
             [
              0.4444444444444444,
              "#bd3786"
             ],
             [
              0.5555555555555556,
              "#d8576b"
             ],
             [
              0.6666666666666666,
              "#ed7953"
             ],
             [
              0.7777777777777778,
              "#fb9f3a"
             ],
             [
              0.8888888888888888,
              "#fdca26"
             ],
             [
              1,
              "#f0f921"
             ]
            ],
            "type": "heatmapgl"
           }
          ],
          "histogram": [
           {
            "marker": {
             "pattern": {
              "fillmode": "overlay",
              "size": 10,
              "solidity": 0.2
             }
            },
            "type": "histogram"
           }
          ],
          "histogram2d": [
           {
            "colorbar": {
             "outlinewidth": 0,
             "ticks": ""
            },
            "colorscale": [
             [
              0,
              "#0d0887"
             ],
             [
              0.1111111111111111,
              "#46039f"
             ],
             [
              0.2222222222222222,
              "#7201a8"
             ],
             [
              0.3333333333333333,
              "#9c179e"
             ],
             [
              0.4444444444444444,
              "#bd3786"
             ],
             [
              0.5555555555555556,
              "#d8576b"
             ],
             [
              0.6666666666666666,
              "#ed7953"
             ],
             [
              0.7777777777777778,
              "#fb9f3a"
             ],
             [
              0.8888888888888888,
              "#fdca26"
             ],
             [
              1,
              "#f0f921"
             ]
            ],
            "type": "histogram2d"
           }
          ],
          "histogram2dcontour": [
           {
            "colorbar": {
             "outlinewidth": 0,
             "ticks": ""
            },
            "colorscale": [
             [
              0,
              "#0d0887"
             ],
             [
              0.1111111111111111,
              "#46039f"
             ],
             [
              0.2222222222222222,
              "#7201a8"
             ],
             [
              0.3333333333333333,
              "#9c179e"
             ],
             [
              0.4444444444444444,
              "#bd3786"
             ],
             [
              0.5555555555555556,
              "#d8576b"
             ],
             [
              0.6666666666666666,
              "#ed7953"
             ],
             [
              0.7777777777777778,
              "#fb9f3a"
             ],
             [
              0.8888888888888888,
              "#fdca26"
             ],
             [
              1,
              "#f0f921"
             ]
            ],
            "type": "histogram2dcontour"
           }
          ],
          "mesh3d": [
           {
            "colorbar": {
             "outlinewidth": 0,
             "ticks": ""
            },
            "type": "mesh3d"
           }
          ],
          "parcoords": [
           {
            "line": {
             "colorbar": {
              "outlinewidth": 0,
              "ticks": ""
             }
            },
            "type": "parcoords"
           }
          ],
          "pie": [
           {
            "automargin": true,
            "type": "pie"
           }
          ],
          "scatter": [
           {
            "fillpattern": {
             "fillmode": "overlay",
             "size": 10,
             "solidity": 0.2
            },
            "type": "scatter"
           }
          ],
          "scatter3d": [
           {
            "line": {
             "colorbar": {
              "outlinewidth": 0,
              "ticks": ""
             }
            },
            "marker": {
             "colorbar": {
              "outlinewidth": 0,
              "ticks": ""
             }
            },
            "type": "scatter3d"
           }
          ],
          "scattercarpet": [
           {
            "marker": {
             "colorbar": {
              "outlinewidth": 0,
              "ticks": ""
             }
            },
            "type": "scattercarpet"
           }
          ],
          "scattergeo": [
           {
            "marker": {
             "colorbar": {
              "outlinewidth": 0,
              "ticks": ""
             }
            },
            "type": "scattergeo"
           }
          ],
          "scattergl": [
           {
            "marker": {
             "colorbar": {
              "outlinewidth": 0,
              "ticks": ""
             }
            },
            "type": "scattergl"
           }
          ],
          "scattermapbox": [
           {
            "marker": {
             "colorbar": {
              "outlinewidth": 0,
              "ticks": ""
             }
            },
            "type": "scattermapbox"
           }
          ],
          "scatterpolar": [
           {
            "marker": {
             "colorbar": {
              "outlinewidth": 0,
              "ticks": ""
             }
            },
            "type": "scatterpolar"
           }
          ],
          "scatterpolargl": [
           {
            "marker": {
             "colorbar": {
              "outlinewidth": 0,
              "ticks": ""
             }
            },
            "type": "scatterpolargl"
           }
          ],
          "scatterternary": [
           {
            "marker": {
             "colorbar": {
              "outlinewidth": 0,
              "ticks": ""
             }
            },
            "type": "scatterternary"
           }
          ],
          "surface": [
           {
            "colorbar": {
             "outlinewidth": 0,
             "ticks": ""
            },
            "colorscale": [
             [
              0,
              "#0d0887"
             ],
             [
              0.1111111111111111,
              "#46039f"
             ],
             [
              0.2222222222222222,
              "#7201a8"
             ],
             [
              0.3333333333333333,
              "#9c179e"
             ],
             [
              0.4444444444444444,
              "#bd3786"
             ],
             [
              0.5555555555555556,
              "#d8576b"
             ],
             [
              0.6666666666666666,
              "#ed7953"
             ],
             [
              0.7777777777777778,
              "#fb9f3a"
             ],
             [
              0.8888888888888888,
              "#fdca26"
             ],
             [
              1,
              "#f0f921"
             ]
            ],
            "type": "surface"
           }
          ],
          "table": [
           {
            "cells": {
             "fill": {
              "color": "#EBF0F8"
             },
             "line": {
              "color": "white"
             }
            },
            "header": {
             "fill": {
              "color": "#C8D4E3"
             },
             "line": {
              "color": "white"
             }
            },
            "type": "table"
           }
          ]
         },
         "layout": {
          "annotationdefaults": {
           "arrowcolor": "#2a3f5f",
           "arrowhead": 0,
           "arrowwidth": 1
          },
          "autotypenumbers": "strict",
          "coloraxis": {
           "colorbar": {
            "outlinewidth": 0,
            "ticks": ""
           }
          },
          "colorscale": {
           "diverging": [
            [
             0,
             "#8e0152"
            ],
            [
             0.1,
             "#c51b7d"
            ],
            [
             0.2,
             "#de77ae"
            ],
            [
             0.3,
             "#f1b6da"
            ],
            [
             0.4,
             "#fde0ef"
            ],
            [
             0.5,
             "#f7f7f7"
            ],
            [
             0.6,
             "#e6f5d0"
            ],
            [
             0.7,
             "#b8e186"
            ],
            [
             0.8,
             "#7fbc41"
            ],
            [
             0.9,
             "#4d9221"
            ],
            [
             1,
             "#276419"
            ]
           ],
           "sequential": [
            [
             0,
             "#0d0887"
            ],
            [
             0.1111111111111111,
             "#46039f"
            ],
            [
             0.2222222222222222,
             "#7201a8"
            ],
            [
             0.3333333333333333,
             "#9c179e"
            ],
            [
             0.4444444444444444,
             "#bd3786"
            ],
            [
             0.5555555555555556,
             "#d8576b"
            ],
            [
             0.6666666666666666,
             "#ed7953"
            ],
            [
             0.7777777777777778,
             "#fb9f3a"
            ],
            [
             0.8888888888888888,
             "#fdca26"
            ],
            [
             1,
             "#f0f921"
            ]
           ],
           "sequentialminus": [
            [
             0,
             "#0d0887"
            ],
            [
             0.1111111111111111,
             "#46039f"
            ],
            [
             0.2222222222222222,
             "#7201a8"
            ],
            [
             0.3333333333333333,
             "#9c179e"
            ],
            [
             0.4444444444444444,
             "#bd3786"
            ],
            [
             0.5555555555555556,
             "#d8576b"
            ],
            [
             0.6666666666666666,
             "#ed7953"
            ],
            [
             0.7777777777777778,
             "#fb9f3a"
            ],
            [
             0.8888888888888888,
             "#fdca26"
            ],
            [
             1,
             "#f0f921"
            ]
           ]
          },
          "colorway": [
           "#636efa",
           "#EF553B",
           "#00cc96",
           "#ab63fa",
           "#FFA15A",
           "#19d3f3",
           "#FF6692",
           "#B6E880",
           "#FF97FF",
           "#FECB52"
          ],
          "font": {
           "color": "#2a3f5f"
          },
          "geo": {
           "bgcolor": "white",
           "lakecolor": "white",
           "landcolor": "white",
           "showlakes": true,
           "showland": true,
           "subunitcolor": "#C8D4E3"
          },
          "hoverlabel": {
           "align": "left"
          },
          "hovermode": "closest",
          "mapbox": {
           "style": "light"
          },
          "paper_bgcolor": "white",
          "plot_bgcolor": "white",
          "polar": {
           "angularaxis": {
            "gridcolor": "#EBF0F8",
            "linecolor": "#EBF0F8",
            "ticks": ""
           },
           "bgcolor": "white",
           "radialaxis": {
            "gridcolor": "#EBF0F8",
            "linecolor": "#EBF0F8",
            "ticks": ""
           }
          },
          "scene": {
           "xaxis": {
            "backgroundcolor": "white",
            "gridcolor": "#DFE8F3",
            "gridwidth": 2,
            "linecolor": "#EBF0F8",
            "showbackground": true,
            "ticks": "",
            "zerolinecolor": "#EBF0F8"
           },
           "yaxis": {
            "backgroundcolor": "white",
            "gridcolor": "#DFE8F3",
            "gridwidth": 2,
            "linecolor": "#EBF0F8",
            "showbackground": true,
            "ticks": "",
            "zerolinecolor": "#EBF0F8"
           },
           "zaxis": {
            "backgroundcolor": "white",
            "gridcolor": "#DFE8F3",
            "gridwidth": 2,
            "linecolor": "#EBF0F8",
            "showbackground": true,
            "ticks": "",
            "zerolinecolor": "#EBF0F8"
           }
          },
          "shapedefaults": {
           "line": {
            "color": "#2a3f5f"
           }
          },
          "ternary": {
           "aaxis": {
            "gridcolor": "#DFE8F3",
            "linecolor": "#A2B1C6",
            "ticks": ""
           },
           "baxis": {
            "gridcolor": "#DFE8F3",
            "linecolor": "#A2B1C6",
            "ticks": ""
           },
           "bgcolor": "white",
           "caxis": {
            "gridcolor": "#DFE8F3",
            "linecolor": "#A2B1C6",
            "ticks": ""
           }
          },
          "title": {
           "x": 0.05
          },
          "xaxis": {
           "automargin": true,
           "gridcolor": "#EBF0F8",
           "linecolor": "#EBF0F8",
           "ticks": "",
           "title": {
            "standoff": 15
           },
           "zerolinecolor": "#EBF0F8",
           "zerolinewidth": 2
          },
          "yaxis": {
           "automargin": true,
           "gridcolor": "#EBF0F8",
           "linecolor": "#EBF0F8",
           "ticks": "",
           "title": {
            "standoff": 15
           },
           "zerolinecolor": "#EBF0F8",
           "zerolinewidth": 2
          }
         }
        },
        "title": {
         "text": "Predicciones sobre Últimos 5 Valores y Futuras"
        },
        "xaxis": {
         "title": {
          "text": "Fecha"
         }
        },
        "yaxis": {
         "title": {
          "text": "Precio"
         }
        }
       }
      }
     },
     "metadata": {},
     "output_type": "display_data"
    }
   ],
   "source": [
    "import plotly.graph_objects as go\n",
    "\n",
    "# Crear la figura\n",
    "fig = go.Figure()\n",
    "\n",
    "# Agregar los valores reales (últimos 10 valores)\n",
    "fig.add_trace(go.Scatter(x=data.index[-10:], y=data.close.values[-10:], \n",
    "                         mode='lines+markers', \n",
    "                         name='Valores Reales', \n",
    "                         marker=dict(color='blue', symbol='cross')))\n",
    "\n",
    "# Agregar las predicciones sobre los últimos valores y las predicciones futuras\n",
    "fig.add_trace(go.Scatter(x=pred_ultimo_valor.index, y=pred_ultimo_valor.values, \n",
    "                         mode='lines+markers', \n",
    "                         name='Valores Reales y Predicciones en Últimos 5 Pasos', \n",
    "                         marker=dict(color='green')))\n",
    "\n",
    "# Línea vertical para el inicio de predicciones futuras\n",
    "fig.add_trace(go.Scatter(x=[ultimos_valores_close.index[-1], ultimos_valores_close.index[-1]], \n",
    "                         y=[min(pred_ultimo_valor.values), max(pred_ultimo_valor.values)],\n",
    "                         mode='lines', \n",
    "                         name='Inicio de Predicciones Futuras', \n",
    "                         line=dict(color='red', dash='dash')))\n",
    "\n",
    "# Personalizar el gráfico\n",
    "fig.update_layout(\n",
    "    title='Predicciones sobre Últimos 5 Valores y Futuras',\n",
    "    xaxis_title='Fecha',\n",
    "    yaxis_title='Precio',\n",
    "    legend=dict(x=0, y=1.1),\n",
    "    margin=dict(l=40, r=40, t=40, b=40),\n",
    "    hovermode='x',\n",
    "    template='plotly_white'\n",
    ")\n",
    "\n",
    "# Mostrar el gráfico\n",
    "fig.show()"
   ]
  },
  {
   "cell_type": "markdown",
   "metadata": {},
   "source": [
    "# Modelos sin recomenpensa: 4h, 1h y 5m\n"
   ]
  },
  {
   "cell_type": "code",
   "execution_count": 13,
   "metadata": {},
   "outputs": [],
   "source": [
    "conn = sql.connect('Data/db/btc.db')\n",
    "cursor = conn.cursor()\n",
    "df_4h = pd.read_sql_query(\"SELECT * FROM btc_4h\", conn)\n",
    "df_1h = pd.read_sql_query(\"SELECT * FROM btc_1h\", conn)\n",
    "df_5m = pd.read_sql_query(\"SELECT * FROM btc_5m\", conn)\n",
    "df_4h.drop(columns=['open', 'high', 'low', 'volume',\n",
    "       'return', 'diff', 'volatility', 'rsi_14',\n",
    "       'rsi_28', 'rsi_14_shifted', 'rsi_28_shifted', 'ma_5', 'ma_20', 'ma_100',\n",
    "       'MiddleBand', 'UpperBand', 'LowerBand', 'K', 'D', 'close_shifted', 'TR',\n",
    "       'ATR', 'TP', 'CCI', 'lag1_TR', 'lag2_TR', 'lag1_ATR', 'lag2_ATR'],inplace=True)\n",
    "df_1h.drop(columns=['open', 'high', 'low', 'volume',\n",
    "       'return', 'diff', 'volatility', 'rsi_14',\n",
    "       'rsi_28', 'rsi_14_shifted', 'rsi_28_shifted', 'ma_5', 'ma_20', 'ma_100',\n",
    "       'MiddleBand', 'UpperBand', 'LowerBand', 'K', 'D', 'close_shifted', 'TR',\n",
    "       'ATR', 'TP', 'CCI', 'lag1_TR', 'lag2_TR', 'lag1_ATR', 'lag2_ATR'],inplace=True)\n",
    "df_5m.drop(columns=['open', 'high', 'low', 'volume',\n",
    "       'return', 'diff', 'volatility', 'rsi_14',\n",
    "       'rsi_28', 'rsi_14_shifted', 'rsi_28_shifted', 'ma_5', 'ma_20', 'ma_100',\n",
    "       'MiddleBand', 'UpperBand', 'LowerBand', 'K', 'D', 'close_shifted', 'TR',\n",
    "       'ATR', 'TP', 'CCI', 'lag1_TR', 'lag2_TR', 'lag1_ATR', 'lag2_ATR'],inplace=True)"
   ]
  },
  {
   "cell_type": "code",
   "execution_count": 16,
   "metadata": {},
   "outputs": [],
   "source": [
    "fecha_4h = df_4h['date'][-1:].values[0]\n",
    "fecha_1h = df_1h['date'][-1:].values[0]\n",
    "fecha_5m = df_5m['date'][-1:].values[0]\n",
    "ultima_fecha_4h = pd.to_datetime(fecha_4h)\n",
    "ultima_fecha_1h = pd.to_datetime(fecha_1h)\n",
    "ultima_fecha_5m = pd.to_datetime(fecha_5m)"
   ]
  },
  {
   "cell_type": "code",
   "execution_count": 22,
   "metadata": {},
   "outputs": [
    {
     "name": "stdout",
     "output_type": "stream",
     "text": [
      "2024-08-04 00:00:27\n",
      "2024-09-04 18:59:32\n",
      "2024-08-04 01:14:44\n"
     ]
    }
   ],
   "source": [
    "print(ultima_fecha_4h)\n",
    "print(ultima_fecha_1h)\n",
    "print(ultima_fecha_5m)"
   ]
  },
  {
   "cell_type": "code",
   "execution_count": null,
   "metadata": {},
   "outputs": [],
   "source": []
  },
  {
   "cell_type": "code",
   "execution_count": 24,
   "metadata": {},
   "outputs": [
    {
     "name": "stdout",
     "output_type": "stream",
     "text": [
      "10940\n"
     ]
    }
   ],
   "source": [
    "\n",
    "# Número de días que quieres generar (ajusta este valor según tu necesidad)\n",
    "num_instancias_4h = len(df_4h)\n",
    "num_instancias_1h = len(df_1h)\n",
    "num_instancias_5m = len(df_5m)\n",
    "print(num_instancias_4h)\n",
    "# Crear una lista de fechas decrementando un día en cada iteración\n",
    "fechas_4h = pd.date_range(end=ultima_fecha_4h, periods=num_instancias_4h,freq='4H')\n",
    "fechas_1h = pd.date_range(end=ultima_fecha_1h, periods=num_instancias_1h,freq='1H')\n",
    "fechas_5m = pd.date_range(end=ultima_fecha_5m, periods=num_instancias_5m,freq='5min')"
   ]
  },
  {
   "cell_type": "code",
   "execution_count": 29,
   "metadata": {},
   "outputs": [
    {
     "name": "stdout",
     "output_type": "stream",
     "text": [
      "DatetimeIndex(['2024-08-03 20:00:27', '2024-08-04 00:00:27'], dtype='datetime64[ns]', freq='4H')\n",
      "DatetimeIndex(['2024-09-04 17:59:32', '2024-09-04 18:59:32'], dtype='datetime64[ns]', freq='H')\n",
      "DatetimeIndex(['2024-08-04 01:09:44', '2024-08-04 01:14:44'], dtype='datetime64[ns]', freq='5T')\n"
     ]
    }
   ],
   "source": [
    "print(fechas_4h[-2:])\n",
    "print(fechas_1h[-2:])\n",
    "print(fechas_5m[-2:])"
   ]
  },
  {
   "cell_type": "code",
   "execution_count": 30,
   "metadata": {},
   "outputs": [],
   "source": [
    "df_4h['date'] = fechas_4h\n",
    "df_1h['date'] = fechas_1h\n",
    "df_5m['date'] = fechas_5m\n",
    "\n",
    "df_4h.index = fechas_4h\n",
    "df_1h.index = fechas_1h\n",
    "df_5m.index = fechas_5m"
   ]
  },
  {
   "cell_type": "markdown",
   "metadata": {},
   "source": [
    "# data 4h"
   ]
  },
  {
   "cell_type": "code",
   "execution_count": 31,
   "metadata": {},
   "outputs": [],
   "source": [
    "last_date = df_4h['date'][-1:].values[0]\n",
    "first_date = df_4h['date'][:2].values[0]\n",
    "data_4h = df_4h.loc[first_date:last_date]\n",
    "inicio_train = first_date\n",
    "fin_train = last_date - pd.DateOffset(days=365)\n",
    "fin_validacion = last_date - pd.DateOffset(days=1)"
   ]
  },
  {
   "cell_type": "code",
   "execution_count": 32,
   "metadata": {},
   "outputs": [],
   "source": [
    "# Crear el forecaster con el modelo LGBM y los lags deseados\n",
    "forecaster = ForecasterAutoreg(\n",
    "    regressor        = LGBMRegressor(random_state=123, verbose=-1),\n",
    "    lags             = [1,30,90,180],  # Ajusta según tus necesidades\n",
    ")"
   ]
  },
  {
   "cell_type": "code",
   "execution_count": 33,
   "metadata": {},
   "outputs": [
    {
     "name": "stderr",
     "output_type": "stream",
     "text": [
      "c:\\Users\\Pablo\\AppData\\Local\\Programs\\Python\\Python311\\Lib\\site-packages\\skforecast\\model_selection\\model_selection.py:548: LongTrainingWarning: The forecaster will be fit 1095 times. This can take substantial amounts of time. If not feasible, try with `refit = False`.\n",
      " \n",
      " You can suppress this warning using: warnings.simplefilter('ignore', category=LongTrainingWarning)\n",
      "  warnings.warn(\n"
     ]
    },
    {
     "data": {
      "application/vnd.jupyter.widget-view+json": {
       "model_id": "c4908de5872f4882b22391c61e80b72a",
       "version_major": 2,
       "version_minor": 0
      },
      "text/plain": [
       "  0%|          | 0/1095 [00:00<?, ?it/s]"
      ]
     },
     "metadata": {},
     "output_type": "display_data"
    },
    {
     "name": "stdout",
     "output_type": "stream",
     "text": [
      "MAPE del modelo: 0.009093695735709706\n"
     ]
    }
   ],
   "source": [
    "# Realizar backtesting para evaluar el modelo\n",
    "metrica, predicciones = backtesting_forecaster(\n",
    "    forecaster         = forecaster,\n",
    "    y                  = df_4h.loc[inicio_train:, 'close'],\n",
    "    initial_train_size = len(df_4h.loc[inicio_train:fin_train,]),\n",
    "    fixed_train_size   = True,\n",
    "    steps              = 2,\n",
    "    refit              = True,\n",
    "    metric             = 'mean_absolute_percentage_error',\n",
    "    verbose            = False,\n",
    "    show_progress      = True\n",
    ")\n",
    "\n",
    "# Imprimir la métrica de error\n",
    "print(f'MAPE del modelo: {metrica}')"
   ]
  },
  {
   "cell_type": "code",
   "execution_count": 34,
   "metadata": {},
   "outputs": [
    {
     "data": {
      "text/html": [
       "<div>\n",
       "<style scoped>\n",
       "    .dataframe tbody tr th:only-of-type {\n",
       "        vertical-align: middle;\n",
       "    }\n",
       "\n",
       "    .dataframe tbody tr th {\n",
       "        vertical-align: top;\n",
       "    }\n",
       "\n",
       "    .dataframe thead th {\n",
       "        text-align: right;\n",
       "    }\n",
       "</style>\n",
       "<table border=\"1\" class=\"dataframe\">\n",
       "  <thead>\n",
       "    <tr style=\"text-align: right;\">\n",
       "      <th></th>\n",
       "      <th>pred</th>\n",
       "    </tr>\n",
       "  </thead>\n",
       "  <tbody>\n",
       "    <tr>\n",
       "      <th>2023-08-05 04:00:27</th>\n",
       "      <td>29124.149021</td>\n",
       "    </tr>\n",
       "    <tr>\n",
       "      <th>2023-08-05 08:00:27</th>\n",
       "      <td>29187.305448</td>\n",
       "    </tr>\n",
       "    <tr>\n",
       "      <th>2023-08-05 12:00:27</th>\n",
       "      <td>29146.419354</td>\n",
       "    </tr>\n",
       "    <tr>\n",
       "      <th>2023-08-05 16:00:27</th>\n",
       "      <td>29183.590083</td>\n",
       "    </tr>\n",
       "    <tr>\n",
       "      <th>2023-08-05 20:00:27</th>\n",
       "      <td>29111.613359</td>\n",
       "    </tr>\n",
       "    <tr>\n",
       "      <th>...</th>\n",
       "      <td>...</td>\n",
       "    </tr>\n",
       "    <tr>\n",
       "      <th>2024-08-03 08:00:27</th>\n",
       "      <td>62797.066402</td>\n",
       "    </tr>\n",
       "    <tr>\n",
       "      <th>2024-08-03 12:00:27</th>\n",
       "      <td>61832.251473</td>\n",
       "    </tr>\n",
       "    <tr>\n",
       "      <th>2024-08-03 16:00:27</th>\n",
       "      <td>61908.361241</td>\n",
       "    </tr>\n",
       "    <tr>\n",
       "      <th>2024-08-03 20:00:27</th>\n",
       "      <td>60256.371871</td>\n",
       "    </tr>\n",
       "    <tr>\n",
       "      <th>2024-08-04 00:00:27</th>\n",
       "      <td>60370.744985</td>\n",
       "    </tr>\n",
       "  </tbody>\n",
       "</table>\n",
       "<p>2190 rows × 1 columns</p>\n",
       "</div>"
      ],
      "text/plain": [
       "                             pred\n",
       "2023-08-05 04:00:27  29124.149021\n",
       "2023-08-05 08:00:27  29187.305448\n",
       "2023-08-05 12:00:27  29146.419354\n",
       "2023-08-05 16:00:27  29183.590083\n",
       "2023-08-05 20:00:27  29111.613359\n",
       "...                           ...\n",
       "2024-08-03 08:00:27  62797.066402\n",
       "2024-08-03 12:00:27  61832.251473\n",
       "2024-08-03 16:00:27  61908.361241\n",
       "2024-08-03 20:00:27  60256.371871\n",
       "2024-08-04 00:00:27  60370.744985\n",
       "\n",
       "[2190 rows x 1 columns]"
      ]
     },
     "execution_count": 34,
     "metadata": {},
     "output_type": "execute_result"
    }
   ],
   "source": [
    "predicciones"
   ]
  },
  {
   "cell_type": "code",
   "execution_count": 36,
   "metadata": {},
   "outputs": [
    {
     "data": {
      "text/plain": [
       "<matplotlib.legend.Legend at 0x241359bc210>"
      ]
     },
     "execution_count": 36,
     "metadata": {},
     "output_type": "execute_result"
    },
    {
     "data": {
      "image/png": "[encoded data removed]",
      "text/plain": [
       "<Figure size 1500x500 with 1 Axes>"
      ]
     },
     "metadata": {},
     "output_type": "display_data"
    }
   ],
   "source": [
    "fig, ax = plt.subplots(figsize=(15,5))\n",
    "df_4h.loc[predicciones.index,'close'].plot(ax=ax,linewidth=2,label='test')\n",
    "predicciones.plot(linewidth=2, label='Prediccion',ax=ax)\n",
    "ax.set_title('predicciones vs precio de cierre')\n",
    "ax.legend()"
   ]
  },
  {
   "cell_type": "code",
   "execution_count": 37,
   "metadata": {},
   "outputs": [],
   "source": [
    "# Entrenar el modelo con todos los datos disponibles hasta la fecha actual\n",
    "forecaster.fit(\n",
    "    y    = df_4h['close'])"
   ]
  },
  {
   "cell_type": "code",
   "execution_count": 38,
   "metadata": {},
   "outputs": [
    {
     "name": "stdout",
     "output_type": "stream",
     "text": [
      "Predicción para el último valor: 2024-08-04 04:00:27    60420.121688\n",
      "2024-08-04 08:00:27    60440.255533\n",
      "2024-08-04 12:00:27    60470.175187\n",
      "2024-08-04 16:00:27    60560.069686\n",
      "2024-08-04 20:00:27    60470.175187\n",
      "Freq: 4H, Name: pred, dtype: float64\n"
     ]
    }
   ],
   "source": [
    "# Predecir el último valor\n",
    "pred_ultimo_valor = forecaster.predict(steps=5)\n",
    "print(f'Predicción para el último valor: {pred_ultimo_valor}')"
   ]
  },
  {
   "cell_type": "code",
   "execution_count": 48,
   "metadata": {},
   "outputs": [
    {
     "name": "stdout",
     "output_type": "stream",
     "text": [
      "<class 'pandas.core.series.Series'>\n",
      "<class 'pandas.core.frame.DataFrame'>\n"
     ]
    }
   ],
   "source": [
    "print(type(pred_ultimo_valor))\n",
    "pred_ultimo_valor = pd.DataFrame(pred_ultimo_valor)\n",
    "print(type(pred_ultimo_valor))\n"
   ]
  },
  {
   "cell_type": "code",
   "execution_count": 60,
   "metadata": {},
   "outputs": [
    {
     "data": {
      "text/html": [
       "<div>\n",
       "<style scoped>\n",
       "    .dataframe tbody tr th:only-of-type {\n",
       "        vertical-align: middle;\n",
       "    }\n",
       "\n",
       "    .dataframe tbody tr th {\n",
       "        vertical-align: top;\n",
       "    }\n",
       "\n",
       "    .dataframe thead th {\n",
       "        text-align: right;\n",
       "    }\n",
       "</style>\n",
       "<table border=\"1\" class=\"dataframe\">\n",
       "  <thead>\n",
       "    <tr style=\"text-align: right;\">\n",
       "      <th></th>\n",
       "      <th>pred</th>\n",
       "    </tr>\n",
       "  </thead>\n",
       "  <tbody>\n",
       "    <tr>\n",
       "      <th>2024-08-03 08:00:27</th>\n",
       "      <td>62797.066402</td>\n",
       "    </tr>\n",
       "    <tr>\n",
       "      <th>2024-08-03 12:00:27</th>\n",
       "      <td>61832.251473</td>\n",
       "    </tr>\n",
       "    <tr>\n",
       "      <th>2024-08-03 16:00:27</th>\n",
       "      <td>61908.361241</td>\n",
       "    </tr>\n",
       "    <tr>\n",
       "      <th>2024-08-03 20:00:27</th>\n",
       "      <td>60256.371871</td>\n",
       "    </tr>\n",
       "    <tr>\n",
       "      <th>2024-08-04 00:00:27</th>\n",
       "      <td>60370.744985</td>\n",
       "    </tr>\n",
       "    <tr>\n",
       "      <th>2024-08-04 04:00:27</th>\n",
       "      <td>60420.121688</td>\n",
       "    </tr>\n",
       "    <tr>\n",
       "      <th>2024-08-04 08:00:27</th>\n",
       "      <td>60440.255533</td>\n",
       "    </tr>\n",
       "    <tr>\n",
       "      <th>2024-08-04 12:00:27</th>\n",
       "      <td>60470.175187</td>\n",
       "    </tr>\n",
       "    <tr>\n",
       "      <th>2024-08-04 16:00:27</th>\n",
       "      <td>60560.069686</td>\n",
       "    </tr>\n",
       "    <tr>\n",
       "      <th>2024-08-04 20:00:27</th>\n",
       "      <td>60470.175187</td>\n",
       "    </tr>\n",
       "  </tbody>\n",
       "</table>\n",
       "</div>"
      ],
      "text/plain": [
       "                             pred\n",
       "2024-08-03 08:00:27  62797.066402\n",
       "2024-08-03 12:00:27  61832.251473\n",
       "2024-08-03 16:00:27  61908.361241\n",
       "2024-08-03 20:00:27  60256.371871\n",
       "2024-08-04 00:00:27  60370.744985\n",
       "2024-08-04 04:00:27  60420.121688\n",
       "2024-08-04 08:00:27  60440.255533\n",
       "2024-08-04 12:00:27  60470.175187\n",
       "2024-08-04 16:00:27  60560.069686\n",
       "2024-08-04 20:00:27  60470.175187"
      ]
     },
     "execution_count": 60,
     "metadata": {},
     "output_type": "execute_result"
    }
   ],
   "source": [
    "predicciones_4h = pd.concat(objs=[predicciones,pred_ultimo_valor], axis=0)\n",
    "#predicciones_4h = pd.concat(objs=[predicciones,pred_ultimo_valor], axis=0, ignore_index=True)\n",
    "predicciones_4h.tail(10)"
   ]
  },
  {
   "cell_type": "code",
   "execution_count": 65,
   "metadata": {},
   "outputs": [
    {
     "data": {
      "application/vnd.plotly.v1+json": {
       "config": {
        "plotlyServerURL": "https://plot.ly"
       },
       "data": [
        {
         "name": "Valores Reales",
         "type": "scatter",
         "x": [
          "2024-07-18T12:00:27",
          "2024-07-18T16:00:27",
          "2024-07-18T20:00:27",
          "2024-07-19T00:00:27",
          "2024-07-19T04:00:27",
          "2024-07-19T08:00:27",
          "2024-07-19T12:00:27",
          "2024-07-19T16:00:27",
          "2024-07-19T20:00:27",
          "2024-07-20T00:00:27",
          "2024-07-20T04:00:27",
          "2024-07-20T08:00:27",
          "2024-07-20T12:00:27",
          "2024-07-20T16:00:27",
          "2024-07-20T20:00:27",
          "2024-07-21T00:00:27",
          "2024-07-21T04:00:27",
          "2024-07-21T08:00:27",
          "2024-07-21T12:00:27",
          "2024-07-21T16:00:27",
          "2024-07-21T20:00:27",
          "2024-07-22T00:00:27",
          "2024-07-22T04:00:27",
          "2024-07-22T08:00:27",
          "2024-07-22T12:00:27",
          "2024-07-22T16:00:27",
          "2024-07-22T20:00:27",
          "2024-07-23T00:00:27",
          "2024-07-23T04:00:27",
          "2024-07-23T08:00:27",
          "2024-07-23T12:00:27",
          "2024-07-23T16:00:27",
          "2024-07-23T20:00:27",
          "2024-07-24T00:00:27",
          "2024-07-24T04:00:27",
          "2024-07-24T08:00:27",
          "2024-07-24T12:00:27",
          "2024-07-24T16:00:27",
          "2024-07-24T20:00:27",
          "2024-07-25T00:00:27",
          "2024-07-25T04:00:27",
          "2024-07-25T08:00:27",
          "2024-07-25T12:00:27",
          "2024-07-25T16:00:27",
          "2024-07-25T20:00:27",
          "2024-07-26T00:00:27",
          "2024-07-26T04:00:27",
          "2024-07-26T08:00:27",
          "2024-07-26T12:00:27",
          "2024-07-26T16:00:27",
          "2024-07-26T20:00:27",
          "2024-07-27T00:00:27",
          "2024-07-27T04:00:27",
          "2024-07-27T08:00:27",
          "2024-07-27T12:00:27",
          "2024-07-27T16:00:27",
          "2024-07-27T20:00:27",
          "2024-07-28T00:00:27",
          "2024-07-28T04:00:27",
          "2024-07-28T08:00:27",
          "2024-07-28T12:00:27",
          "2024-07-28T16:00:27",
          "2024-07-28T20:00:27",
          "2024-07-29T00:00:27",
          "2024-07-29T04:00:27",
          "2024-07-29T08:00:27",
          "2024-07-29T12:00:27",
          "2024-07-29T16:00:27",
          "2024-07-29T20:00:27",
          "2024-07-30T00:00:27",
          "2024-07-30T04:00:27",
          "2024-07-30T08:00:27",
          "2024-07-30T12:00:27",
          "2024-07-30T16:00:27",
          "2024-07-30T20:00:27",
          "2024-07-31T00:00:27",
          "2024-07-31T04:00:27",
          "2024-07-31T08:00:27",
          "2024-07-31T12:00:27",
          "2024-07-31T16:00:27",
          "2024-07-31T20:00:27",
          "2024-08-01T00:00:27",
          "2024-08-01T04:00:27",
          "2024-08-01T08:00:27",
          "2024-08-01T12:00:27",
          "2024-08-01T16:00:27",
          "2024-08-01T20:00:27",
          "2024-08-02T00:00:27",
          "2024-08-02T04:00:27",
          "2024-08-02T08:00:27",
          "2024-08-02T12:00:27",
          "2024-08-02T16:00:27",
          "2024-08-02T20:00:27",
          "2024-08-03T00:00:27",
          "2024-08-03T04:00:27",
          "2024-08-03T08:00:27",
          "2024-08-03T12:00:27",
          "2024-08-03T16:00:27",
          "2024-08-03T20:00:27",
          "2024-08-04T00:00:27"
         ],
         "y": [
          63538.12,
          63555,
          63987.92,
          64325,
          63694.01,
          64116,
          65836.77,
          67157.26,
          66660,
          66602.01,
          66562.28,
          66483.69,
          66825,
          67224,
          67139.96,
          67171.33,
          66701.99,
          66879.99,
          67164,
          67422.02,
          68165.34,
          67880.01,
          67236,
          67516.01,
          67063.87,
          68232.07,
          67532.01,
          67473.99,
          66576,
          66676.01,
          66584.01,
          65536.01,
          65936.01,
          66052.71,
          66078,
          66367.99,
          66176,
          65652,
          65376,
          64093.59,
          64134,
          64096,
          64790.88,
          64692.01,
          65799.95,
          67042.01,
          66890.56,
          67322,
          67560.01,
          67990,
          67907.99,
          67798,
          68036.68,
          68209.88,
          68844,
          68246,
          67896.5,
          67940.95,
          67560.86,
          67836,
          67645,
          68112,
          68249.88,
          69347.67,
          69528.01,
          69580.01,
          68104,
          67303.05,
          66784.69,
          66610,
          66952,
          66574.01,
          66216.01,
          65931.02,
          66188,
          66058,
          66224,
          66094.01,
          66379.99,
          65256.83,
          64628,
          63936.01,
          64328.59,
          64674.25,
          62906.6,
          63422.01,
          65354.02,
          64609.18,
          64164.07,
          64660.01,
          63416.01,
          62633.57,
          61498.33,
          61895.99,
          61662.01,
          61919.38,
          60879,
          60246,
          60697.99,
          60543.74
         ]
        },
        {
         "name": "Valores Reales y Predicciones en Últimos 5 Pasos",
         "type": "scatter",
         "x": [
          "2024-07-19T08:00:27",
          "2024-07-19T12:00:27",
          "2024-07-19T16:00:27",
          "2024-07-19T20:00:27",
          "2024-07-20T00:00:27",
          "2024-07-20T04:00:27",
          "2024-07-20T08:00:27",
          "2024-07-20T12:00:27",
          "2024-07-20T16:00:27",
          "2024-07-20T20:00:27",
          "2024-07-21T00:00:27",
          "2024-07-21T04:00:27",
          "2024-07-21T08:00:27",
          "2024-07-21T12:00:27",
          "2024-07-21T16:00:27",
          "2024-07-21T20:00:27",
          "2024-07-22T00:00:27",
          "2024-07-22T04:00:27",
          "2024-07-22T08:00:27",
          "2024-07-22T12:00:27",
          "2024-07-22T16:00:27",
          "2024-07-22T20:00:27",
          "2024-07-23T00:00:27",
          "2024-07-23T04:00:27",
          "2024-07-23T08:00:27",
          "2024-07-23T12:00:27",
          "2024-07-23T16:00:27",
          "2024-07-23T20:00:27",
          "2024-07-24T00:00:27",
          "2024-07-24T04:00:27",
          "2024-07-24T08:00:27",
          "2024-07-24T12:00:27",
          "2024-07-24T16:00:27",
          "2024-07-24T20:00:27",
          "2024-07-25T00:00:27",
          "2024-07-25T04:00:27",
          "2024-07-25T08:00:27",
          "2024-07-25T12:00:27",
          "2024-07-25T16:00:27",
          "2024-07-25T20:00:27",
          "2024-07-26T00:00:27",
          "2024-07-26T04:00:27",
          "2024-07-26T08:00:27",
          "2024-07-26T12:00:27",
          "2024-07-26T16:00:27",
          "2024-07-26T20:00:27",
          "2024-07-27T00:00:27",
          "2024-07-27T04:00:27",
          "2024-07-27T08:00:27",
          "2024-07-27T12:00:27",
          "2024-07-27T16:00:27",
          "2024-07-27T20:00:27",
          "2024-07-28T00:00:27",
          "2024-07-28T04:00:27",
          "2024-07-28T08:00:27",
          "2024-07-28T12:00:27",
          "2024-07-28T16:00:27",
          "2024-07-28T20:00:27",
          "2024-07-29T00:00:27",
          "2024-07-29T04:00:27",
          "2024-07-29T08:00:27",
          "2024-07-29T12:00:27",
          "2024-07-29T16:00:27",
          "2024-07-29T20:00:27",
          "2024-07-30T00:00:27",
          "2024-07-30T04:00:27",
          "2024-07-30T08:00:27",
          "2024-07-30T12:00:27",
          "2024-07-30T16:00:27",
          "2024-07-30T20:00:27",
          "2024-07-31T00:00:27",
          "2024-07-31T04:00:27",
          "2024-07-31T08:00:27",
          "2024-07-31T12:00:27",
          "2024-07-31T16:00:27",
          "2024-07-31T20:00:27",
          "2024-08-01T00:00:27",
          "2024-08-01T04:00:27",
          "2024-08-01T08:00:27",
          "2024-08-01T12:00:27",
          "2024-08-01T16:00:27",
          "2024-08-01T20:00:27",
          "2024-08-02T00:00:27",
          "2024-08-02T04:00:27",
          "2024-08-02T08:00:27",
          "2024-08-02T12:00:27",
          "2024-08-02T16:00:27",
          "2024-08-02T20:00:27",
          "2024-08-03T00:00:27",
          "2024-08-03T04:00:27",
          "2024-08-03T08:00:27",
          "2024-08-03T12:00:27",
          "2024-08-03T16:00:27",
          "2024-08-03T20:00:27",
          "2024-08-04T00:00:27",
          "2024-08-04T04:00:27",
          "2024-08-04T08:00:27",
          "2024-08-04T12:00:27",
          "2024-08-04T16:00:27",
          "2024-08-04T20:00:27"
         ],
         "y": [
          64364.33247855859,
          64369.77210669267,
          64247.49703055483,
          67213.04392220348,
          67460.7056322125,
          66600.63138611995,
          66600.63138611995,
          66771.34228810982,
          66989.79228048965,
          67700.85431995506,
          67953.96329688799,
          67482.76431873652,
          67964.0141094652,
          66583.03434955237,
          66409.83680438645,
          67856.12055275995,
          67962.19464427765,
          67960.95152771748,
          68000.23809900746,
          67788.16088668695,
          67861.0313190509,
          67760.83185197884,
          67834.44506111473,
          67551.23613618371,
          67634.33446733572,
          66583.90202948928,
          66583.90202948928,
          65893.56430572808,
          66268.22734568214,
          66186.2674106231,
          66690.75461424844,
          66488.00421989766,
          66766.68410659189,
          65804.92669107407,
          65956.62612247744,
          63842.56805112325,
          63603.857503883235,
          63977.60226093847,
          63997.20515685786,
          64615.85590127996,
          64603.279041305825,
          66913.26576846727,
          66705.68360861039,
          67908.15809060291,
          68190.6019328597,
          68152.76658757994,
          68124.52212402612,
          68097.85789427396,
          68157.66505394373,
          67825.89803579678,
          68034.27390247342,
          67978.13793524665,
          67978.13793524665,
          67843.221111979,
          67846.6927029531,
          67582.20067604026,
          67552.26333763072,
          67880.02851807547,
          67880.02851807547,
          69338.30952262525,
          69240.9405471729,
          69455.51194327636,
          69423.18602351469,
          67091.12669101506,
          67431.65457455307,
          66617.42181450354,
          66656.23884447469,
          66396.9667883007,
          66124.7365471195,
          66169.26895322693,
          66351.79073646414,
          66132.62649641346,
          66227.80825524846,
          66174.2785384746,
          66288.85618533946,
          65443.50714635819,
          65808.14396669072,
          63995.64445978021,
          64411.25357215213,
          64568.81008049822,
          64340.450204906694,
          63290.919493370406,
          63395.522326891776,
          64148.095182850135,
          64330.96615680753,
          64400.19257031472,
          64311.97902274891,
          63033.58588173142,
          63125.776929286614,
          62215.482149967946,
          62797.066402267716,
          61832.251473432254,
          61908.36124069646,
          60256.37187112773,
          60370.74498526856,
          60420.12168755579,
          60440.25553259344,
          60470.175186887725,
          60560.069686004725,
          60470.175186887725
         ]
        }
       ],
       "layout": {
        "hovermode": "x",
        "legend": {
         "x": 0,
         "y": 1.1
        },
        "margin": {
         "b": 40,
         "l": 40,
         "r": 40,
         "t": 40
        },
        "template": {
         "data": {
          "bar": [
           {
            "error_x": {
             "color": "#2a3f5f"
            },
            "error_y": {
             "color": "#2a3f5f"
            },
            "marker": {
             "line": {
              "color": "white",
              "width": 0.5
             },
             "pattern": {
              "fillmode": "overlay",
              "size": 10,
              "solidity": 0.2
             }
            },
            "type": "bar"
           }
          ],
          "barpolar": [
           {
            "marker": {
             "line": {
              "color": "white",
              "width": 0.5
             },
             "pattern": {
              "fillmode": "overlay",
              "size": 10,
              "solidity": 0.2
             }
            },
            "type": "barpolar"
           }
          ],
          "carpet": [
           {
            "aaxis": {
             "endlinecolor": "#2a3f5f",
             "gridcolor": "#C8D4E3",
             "linecolor": "#C8D4E3",
             "minorgridcolor": "#C8D4E3",
             "startlinecolor": "#2a3f5f"
            },
            "baxis": {
             "endlinecolor": "#2a3f5f",
             "gridcolor": "#C8D4E3",
             "linecolor": "#C8D4E3",
             "minorgridcolor": "#C8D4E3",
             "startlinecolor": "#2a3f5f"
            },
            "type": "carpet"
           }
          ],
          "choropleth": [
           {
            "colorbar": {
             "outlinewidth": 0,
             "ticks": ""
            },
            "type": "choropleth"
           }
          ],
          "contour": [
           {
            "colorbar": {
             "outlinewidth": 0,
             "ticks": ""
            },
            "colorscale": [
             [
              0,
              "#0d0887"
             ],
             [
              0.1111111111111111,
              "#46039f"
             ],
             [
              0.2222222222222222,
              "#7201a8"
             ],
             [
              0.3333333333333333,
              "#9c179e"
             ],
             [
              0.4444444444444444,
              "#bd3786"
             ],
             [
              0.5555555555555556,
              "#d8576b"
             ],
             [
              0.6666666666666666,
              "#ed7953"
             ],
             [
              0.7777777777777778,
              "#fb9f3a"
             ],
             [
              0.8888888888888888,
              "#fdca26"
             ],
             [
              1,
              "#f0f921"
             ]
            ],
            "type": "contour"
           }
          ],
          "contourcarpet": [
           {
            "colorbar": {
             "outlinewidth": 0,
             "ticks": ""
            },
            "type": "contourcarpet"
           }
          ],
          "heatmap": [
           {
            "colorbar": {
             "outlinewidth": 0,
             "ticks": ""
            },
            "colorscale": [
             [
              0,
              "#0d0887"
             ],
             [
              0.1111111111111111,
              "#46039f"
             ],
             [
              0.2222222222222222,
              "#7201a8"
             ],
             [
              0.3333333333333333,
              "#9c179e"
             ],
             [
              0.4444444444444444,
              "#bd3786"
             ],
             [
              0.5555555555555556,
              "#d8576b"
             ],
             [
              0.6666666666666666,
              "#ed7953"
             ],
             [
              0.7777777777777778,
              "#fb9f3a"
             ],
             [
              0.8888888888888888,
              "#fdca26"
             ],
             [
              1,
              "#f0f921"
             ]
            ],
            "type": "heatmap"
           }
          ],
          "heatmapgl": [
           {
            "colorbar": {
             "outlinewidth": 0,
             "ticks": ""
            },
            "colorscale": [
             [
              0,
              "#0d0887"
             ],
             [
              0.1111111111111111,
              "#46039f"
             ],
             [
              0.2222222222222222,
              "#7201a8"
             ],
             [
              0.3333333333333333,
              "#9c179e"
             ],
             [
              0.4444444444444444,
              "#bd3786"
             ],
             [
              0.5555555555555556,
              "#d8576b"
             ],
             [
              0.6666666666666666,
              "#ed7953"
             ],
             [
              0.7777777777777778,
              "#fb9f3a"
             ],
             [
              0.8888888888888888,
              "#fdca26"
             ],
             [
              1,
              "#f0f921"
             ]
            ],
            "type": "heatmapgl"
           }
          ],
          "histogram": [
           {
            "marker": {
             "pattern": {
              "fillmode": "overlay",
              "size": 10,
              "solidity": 0.2
             }
            },
            "type": "histogram"
           }
          ],
          "histogram2d": [
           {
            "colorbar": {
             "outlinewidth": 0,
             "ticks": ""
            },
            "colorscale": [
             [
              0,
              "#0d0887"
             ],
             [
              0.1111111111111111,
              "#46039f"
             ],
             [
              0.2222222222222222,
              "#7201a8"
             ],
             [
              0.3333333333333333,
              "#9c179e"
             ],
             [
              0.4444444444444444,
              "#bd3786"
             ],
             [
              0.5555555555555556,
              "#d8576b"
             ],
             [
              0.6666666666666666,
              "#ed7953"
             ],
             [
              0.7777777777777778,
              "#fb9f3a"
             ],
             [
              0.8888888888888888,
              "#fdca26"
             ],
             [
              1,
              "#f0f921"
             ]
            ],
            "type": "histogram2d"
           }
          ],
          "histogram2dcontour": [
           {
            "colorbar": {
             "outlinewidth": 0,
             "ticks": ""
            },
            "colorscale": [
             [
              0,
              "#0d0887"
             ],
             [
              0.1111111111111111,
              "#46039f"
             ],
             [
              0.2222222222222222,
              "#7201a8"
             ],
             [
              0.3333333333333333,
              "#9c179e"
             ],
             [
              0.4444444444444444,
              "#bd3786"
             ],
             [
              0.5555555555555556,
              "#d8576b"
             ],
             [
              0.6666666666666666,
              "#ed7953"
             ],
             [
              0.7777777777777778,
              "#fb9f3a"
             ],
             [
              0.8888888888888888,
              "#fdca26"
             ],
             [
              1,
              "#f0f921"
             ]
            ],
            "type": "histogram2dcontour"
           }
          ],
          "mesh3d": [
           {
            "colorbar": {
             "outlinewidth": 0,
             "ticks": ""
            },
            "type": "mesh3d"
           }
          ],
          "parcoords": [
           {
            "line": {
             "colorbar": {
              "outlinewidth": 0,
              "ticks": ""
             }
            },
            "type": "parcoords"
           }
          ],
          "pie": [
           {
            "automargin": true,
            "type": "pie"
           }
          ],
          "scatter": [
           {
            "fillpattern": {
             "fillmode": "overlay",
             "size": 10,
             "solidity": 0.2
            },
            "type": "scatter"
           }
          ],
          "scatter3d": [
           {
            "line": {
             "colorbar": {
              "outlinewidth": 0,
              "ticks": ""
             }
            },
            "marker": {
             "colorbar": {
              "outlinewidth": 0,
              "ticks": ""
             }
            },
            "type": "scatter3d"
           }
          ],
          "scattercarpet": [
           {
            "marker": {
             "colorbar": {
              "outlinewidth": 0,
              "ticks": ""
             }
            },
            "type": "scattercarpet"
           }
          ],
          "scattergeo": [
           {
            "marker": {
             "colorbar": {
              "outlinewidth": 0,
              "ticks": ""
             }
            },
            "type": "scattergeo"
           }
          ],
          "scattergl": [
           {
            "marker": {
             "colorbar": {
              "outlinewidth": 0,
              "ticks": ""
             }
            },
            "type": "scattergl"
           }
          ],
          "scattermapbox": [
           {
            "marker": {
             "colorbar": {
              "outlinewidth": 0,
              "ticks": ""
             }
            },
            "type": "scattermapbox"
           }
          ],
          "scatterpolar": [
           {
            "marker": {
             "colorbar": {
              "outlinewidth": 0,
              "ticks": ""
             }
            },
            "type": "scatterpolar"
           }
          ],
          "scatterpolargl": [
           {
            "marker": {
             "colorbar": {
              "outlinewidth": 0,
              "ticks": ""
             }
            },
            "type": "scatterpolargl"
           }
          ],
          "scatterternary": [
           {
            "marker": {
             "colorbar": {
              "outlinewidth": 0,
              "ticks": ""
             }
            },
            "type": "scatterternary"
           }
          ],
          "surface": [
           {
            "colorbar": {
             "outlinewidth": 0,
             "ticks": ""
            },
            "colorscale": [
             [
              0,
              "#0d0887"
             ],
             [
              0.1111111111111111,
              "#46039f"
             ],
             [
              0.2222222222222222,
              "#7201a8"
             ],
             [
              0.3333333333333333,
              "#9c179e"
             ],
             [
              0.4444444444444444,
              "#bd3786"
             ],
             [
              0.5555555555555556,
              "#d8576b"
             ],
             [
              0.6666666666666666,
              "#ed7953"
             ],
             [
              0.7777777777777778,
              "#fb9f3a"
             ],
             [
              0.8888888888888888,
              "#fdca26"
             ],
             [
              1,
              "#f0f921"
             ]
            ],
            "type": "surface"
           }
          ],
          "table": [
           {
            "cells": {
             "fill": {
              "color": "#EBF0F8"
             },
             "line": {
              "color": "white"
             }
            },
            "header": {
             "fill": {
              "color": "#C8D4E3"
             },
             "line": {
              "color": "white"
             }
            },
            "type": "table"
           }
          ]
         },
         "layout": {
          "annotationdefaults": {
           "arrowcolor": "#2a3f5f",
           "arrowhead": 0,
           "arrowwidth": 1
          },
          "autotypenumbers": "strict",
          "coloraxis": {
           "colorbar": {
            "outlinewidth": 0,
            "ticks": ""
           }
          },
          "colorscale": {
           "diverging": [
            [
             0,
             "#8e0152"
            ],
            [
             0.1,
             "#c51b7d"
            ],
            [
             0.2,
             "#de77ae"
            ],
            [
             0.3,
             "#f1b6da"
            ],
            [
             0.4,
             "#fde0ef"
            ],
            [
             0.5,
             "#f7f7f7"
            ],
            [
             0.6,
             "#e6f5d0"
            ],
            [
             0.7,
             "#b8e186"
            ],
            [
             0.8,
             "#7fbc41"
            ],
            [
             0.9,
             "#4d9221"
            ],
            [
             1,
             "#276419"
            ]
           ],
           "sequential": [
            [
             0,
             "#0d0887"
            ],
            [
             0.1111111111111111,
             "#46039f"
            ],
            [
             0.2222222222222222,
             "#7201a8"
            ],
            [
             0.3333333333333333,
             "#9c179e"
            ],
            [
             0.4444444444444444,
             "#bd3786"
            ],
            [
             0.5555555555555556,
             "#d8576b"
            ],
            [
             0.6666666666666666,
             "#ed7953"
            ],
            [
             0.7777777777777778,
             "#fb9f3a"
            ],
            [
             0.8888888888888888,
             "#fdca26"
            ],
            [
             1,
             "#f0f921"
            ]
           ],
           "sequentialminus": [
            [
             0,
             "#0d0887"
            ],
            [
             0.1111111111111111,
             "#46039f"
            ],
            [
             0.2222222222222222,
             "#7201a8"
            ],
            [
             0.3333333333333333,
             "#9c179e"
            ],
            [
             0.4444444444444444,
             "#bd3786"
            ],
            [
             0.5555555555555556,
             "#d8576b"
            ],
            [
             0.6666666666666666,
             "#ed7953"
            ],
            [
             0.7777777777777778,
             "#fb9f3a"
            ],
            [
             0.8888888888888888,
             "#fdca26"
            ],
            [
             1,
             "#f0f921"
            ]
           ]
          },
          "colorway": [
           "#636efa",
           "#EF553B",
           "#00cc96",
           "#ab63fa",
           "#FFA15A",
           "#19d3f3",
           "#FF6692",
           "#B6E880",
           "#FF97FF",
           "#FECB52"
          ],
          "font": {
           "color": "#2a3f5f"
          },
          "geo": {
           "bgcolor": "white",
           "lakecolor": "white",
           "landcolor": "white",
           "showlakes": true,
           "showland": true,
           "subunitcolor": "#C8D4E3"
          },
          "hoverlabel": {
           "align": "left"
          },
          "hovermode": "closest",
          "mapbox": {
           "style": "light"
          },
          "paper_bgcolor": "white",
          "plot_bgcolor": "white",
          "polar": {
           "angularaxis": {
            "gridcolor": "#EBF0F8",
            "linecolor": "#EBF0F8",
            "ticks": ""
           },
           "bgcolor": "white",
           "radialaxis": {
            "gridcolor": "#EBF0F8",
            "linecolor": "#EBF0F8",
            "ticks": ""
           }
          },
          "scene": {
           "xaxis": {
            "backgroundcolor": "white",
            "gridcolor": "#DFE8F3",
            "gridwidth": 2,
            "linecolor": "#EBF0F8",
            "showbackground": true,
            "ticks": "",
            "zerolinecolor": "#EBF0F8"
           },
           "yaxis": {
            "backgroundcolor": "white",
            "gridcolor": "#DFE8F3",
            "gridwidth": 2,
            "linecolor": "#EBF0F8",
            "showbackground": true,
            "ticks": "",
            "zerolinecolor": "#EBF0F8"
           },
           "zaxis": {
            "backgroundcolor": "white",
            "gridcolor": "#DFE8F3",
            "gridwidth": 2,
            "linecolor": "#EBF0F8",
            "showbackground": true,
            "ticks": "",
            "zerolinecolor": "#EBF0F8"
           }
          },
          "shapedefaults": {
           "line": {
            "color": "#2a3f5f"
           }
          },
          "ternary": {
           "aaxis": {
            "gridcolor": "#DFE8F3",
            "linecolor": "#A2B1C6",
            "ticks": ""
           },
           "baxis": {
            "gridcolor": "#DFE8F3",
            "linecolor": "#A2B1C6",
            "ticks": ""
           },
           "bgcolor": "white",
           "caxis": {
            "gridcolor": "#DFE8F3",
            "linecolor": "#A2B1C6",
            "ticks": ""
           }
          },
          "title": {
           "x": 0.05
          },
          "xaxis": {
           "automargin": true,
           "gridcolor": "#EBF0F8",
           "linecolor": "#EBF0F8",
           "ticks": "",
           "title": {
            "standoff": 15
           },
           "zerolinecolor": "#EBF0F8",
           "zerolinewidth": 2
          },
          "yaxis": {
           "automargin": true,
           "gridcolor": "#EBF0F8",
           "linecolor": "#EBF0F8",
           "ticks": "",
           "title": {
            "standoff": 15
           },
           "zerolinecolor": "#EBF0F8",
           "zerolinewidth": 2
          }
         }
        },
        "title": {
         "text": "Predicciones sobre Últimos 5 Valores y Futuras"
        },
        "xaxis": {
         "title": {
          "text": "Fecha"
         }
        },
        "yaxis": {
         "title": {
          "text": "Precio"
         }
        }
       }
      }
     },
     "metadata": {},
     "output_type": "display_data"
    }
   ],
   "source": [
    "import plotly.graph_objects as go\n",
    "\n",
    "# Crear la figura\n",
    "fig = go.Figure()\n",
    "\n",
    "# Agregar los valores reales (últimos 10 valores)\n",
    "fig.add_trace(go.Scatter(x=df_4h.index[-100:], y=df_4h.close.values[-100:], \n",
    "                         name='Valores Reales'))\n",
    "\n",
    "# Agregar las predicciones sobre los últimos valores y las predicciones futuras\n",
    "fig.add_trace(go.Scatter(x=predicciones_4h.index[-100:], y=predicciones_4h.pred[-100:], \n",
    "                         name='Valores Reales y Predicciones en Últimos 5 Pasos'))\n",
    "\n",
    "\n",
    "## Personalizar el gráfico\n",
    "fig.update_layout(\n",
    "    title='Predicciones sobre Últimos 5 Valores y Futuras',\n",
    "    xaxis_title='Fecha',\n",
    "    yaxis_title='Precio',\n",
    "    legend=dict(x=0, y=1.1),\n",
    "    margin=dict(l=40, r=40, t=40, b=40),\n",
    "    hovermode='x',\n",
    "    template='plotly_white'\n",
    ")\n",
    "#\n",
    "# Mostrar el gráfico\n",
    "fig.show()"
   ]
  }
 ],
 "metadata": {
  "kernelspec": {
   "display_name": "Python 3",
   "language": "python",
   "name": "python3"
  },
  "language_info": {
   "codemirror_mode": {
    "name": "ipython",
    "version": 3
   },
   "file_extension": ".py",
   "mimetype": "text/x-python",
   "name": "python",
   "nbconvert_exporter": "python",
   "pygments_lexer": "ipython3",
   "version": "3.11.4"
  }
 },
 "nbformat": 4,
 "nbformat_minor": 2
}
